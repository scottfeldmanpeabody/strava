{
 "cells": [
  {
   "cell_type": "code",
   "execution_count": 14,
   "metadata": {},
   "outputs": [],
   "source": [
    "import numpy as np\n",
    "import pandas as pd\n",
    "import matplotlib.pyplot as plt\n",
    "from stravalib.client import Client\n",
    "pd.set_option('display.max_columns', 500)"
   ]
  },
  {
   "cell_type": "code",
   "execution_count": 3,
   "metadata": {},
   "outputs": [
    {
     "ename": "NameError",
     "evalue": "name 'client' is not defined",
     "output_type": "error",
     "traceback": [
      "\u001b[0;31m---------------------------------------------------------------------------\u001b[0m",
      "\u001b[0;31mNameError\u001b[0m                                 Traceback (most recent call last)",
      "\u001b[0;32m<ipython-input-3-551c4da902ed>\u001b[0m in \u001b[0;36m<module>\u001b[0;34m\u001b[0m\n\u001b[0;32m----> 1\u001b[0;31m url = client.authorization_url(client_id=3707,\n\u001b[0m\u001b[1;32m      2\u001b[0m                                redirect_uri='http://127.0.0.1:5000/authorization')\n",
      "\u001b[0;31mNameError\u001b[0m: name 'client' is not defined"
     ]
    }
   ],
   "source": [
    "url = client.authorization_url(client_id=3707,\n",
    "                               redirect_uri='http://127.0.0.1:5000/authorization')"
   ]
  },
  {
   "cell_type": "code",
   "execution_count": null,
   "metadata": {},
   "outputs": [],
   "source": [
    "MY_STRAVA_CLIENT_ID = '3707'\n",
    "MY_STRAVA_CLIENT_SECRET = '54098461c4c8f2e9600f865e4e96a3f204950a08'"
   ]
  },
  {
   "cell_type": "code",
   "execution_count": null,
   "metadata": {},
   "outputs": [],
   "source": [
    "code = request.args.get('code') # e.g.\n",
    "client = Client()\n",
    "access_token = client.exchange_code_for_token(client_id=MY_STRAVA_CLIENT_ID,\n",
    "                                              client_secret=MY_STRAVA_CLIENT_SECRET,\n",
    "                                              code=code)"
   ]
  },
  {
   "cell_type": "code",
   "execution_count": 4,
   "metadata": {},
   "outputs": [],
   "source": [
    "TOKEN = '0897e1b892446cd959c47a8e06af0de55d49f15c'"
   ]
  },
  {
   "cell_type": "code",
   "execution_count": 5,
   "metadata": {},
   "outputs": [
    {
     "ename": "NameError",
     "evalue": "name 'access_token' is not defined",
     "output_type": "error",
     "traceback": [
      "\u001b[0;31m---------------------------------------------------------------------------\u001b[0m",
      "\u001b[0;31mNameError\u001b[0m                                 Traceback (most recent call last)",
      "\u001b[0;32m<ipython-input-5-396744e75c8a>\u001b[0m in \u001b[0;36m<module>\u001b[0;34m\u001b[0m\n\u001b[0;32m----> 1\u001b[0;31m \u001b[0maccess_token\u001b[0m\u001b[0;34m\u001b[0m\u001b[0;34m\u001b[0m\u001b[0m\n\u001b[0m",
      "\u001b[0;31mNameError\u001b[0m: name 'access_token' is not defined"
     ]
    }
   ],
   "source": [
    "access_token"
   ]
  },
  {
   "cell_type": "code",
   "execution_count": 6,
   "metadata": {},
   "outputs": [],
   "source": [
    "client = Client(access_token=TOKEN)"
   ]
  },
  {
   "cell_type": "code",
   "execution_count": 7,
   "metadata": {},
   "outputs": [],
   "source": [
    "activities = client.get_activities(limit=1000)"
   ]
  },
  {
   "cell_type": "code",
   "execution_count": 8,
   "metadata": {},
   "outputs": [
    {
     "data": {
      "text/plain": [
       "<BatchedResultsIterator entity=Activity>"
      ]
     },
     "execution_count": 8,
     "metadata": {},
     "output_type": "execute_result"
    }
   ],
   "source": [
    "activities"
   ]
  },
  {
   "cell_type": "code",
   "execution_count": 41,
   "metadata": {},
   "outputs": [
    {
     "data": {
      "text/plain": [
       "{'guid': None,\n",
       " 'external_id': 'garmin_push_4096743140',\n",
       " 'upload_id': '2904494015',\n",
       " 'athlete': {'firstname': None,\n",
       "  'lastname': None,\n",
       "  'profile_medium': None,\n",
       "  'profile': None,\n",
       "  'city': None,\n",
       "  'state': None,\n",
       "  'country': None,\n",
       "  'sex': None,\n",
       "  'friend': None,\n",
       "  'follower': None,\n",
       "  'premium': None,\n",
       "  'created_at': None,\n",
       "  'updated_at': None,\n",
       "  'approve_followers': None,\n",
       "  'badge_type_id': None,\n",
       "  'follower_count': None,\n",
       "  'friend_count': None,\n",
       "  'mutual_friend_count': None,\n",
       "  'athlete_type': None,\n",
       "  'date_preference': None,\n",
       "  'measurement_preference': None,\n",
       "  'email': None,\n",
       "  'clubs': None,\n",
       "  'bikes': None,\n",
       "  'shoes': None,\n",
       "  'super_user': None,\n",
       "  'email_language': None,\n",
       "  'weight': None,\n",
       "  'max_heartrate': None,\n",
       "  'username': None,\n",
       "  'description': None,\n",
       "  'instagram_username': None,\n",
       "  'offer_in_app_payment': None,\n",
       "  'global_privacy': None,\n",
       "  'receive_newsletter': None,\n",
       "  'email_kom_lost': None,\n",
       "  'dateofbirth': None,\n",
       "  'facebook_sharing_enabled': None,\n",
       "  'ftp': None,\n",
       "  'profile_original': None,\n",
       "  'premium_expiration_date': None,\n",
       "  'email_send_follower_notices': None,\n",
       "  'plan': None,\n",
       "  'agreed_to_terms': None,\n",
       "  'follower_request_count': None,\n",
       "  'email_facebook_twitter_friend_joins': None,\n",
       "  'receive_kudos_emails': None,\n",
       "  'receive_follower_feed_emails': None,\n",
       "  'receive_comment_emails': None,\n",
       "  'sample_race_distance': None,\n",
       "  'sample_race_time': None,\n",
       "  'membership': None,\n",
       "  'admin': None,\n",
       "  'owner': None,\n",
       "  'subscription_permissions': None},\n",
       " 'name': 'Type II fun',\n",
       " 'distance': 15284.8,\n",
       " 'moving_time': '3:49:51',\n",
       " 'elapsed_time': '5:02:38',\n",
       " 'total_elevation_gain': 1321.0,\n",
       " 'elev_high': 3513.0,\n",
       " 'elev_low': 2986.4,\n",
       " 'type': 'Ride',\n",
       " 'start_date': '2019-09-25T16:17:12+00:00',\n",
       " 'start_date_local': '2019-09-25T10:17:12',\n",
       " 'timezone': 'America/Denver',\n",
       " 'utc_offset': -21600.0,\n",
       " 'start_latlng': '39.15,-106.41',\n",
       " 'end_latlng': '39.15,-106.41',\n",
       " 'location_city': None,\n",
       " 'location_state': None,\n",
       " 'location_country': 'United States',\n",
       " 'start_latitude': 39.15,\n",
       " 'start_longitude': -106.41,\n",
       " 'achievement_count': 0,\n",
       " 'pr_count': 0,\n",
       " 'kudos_count': 5,\n",
       " 'comment_count': 5,\n",
       " 'athlete_count': 1,\n",
       " 'photo_count': 0,\n",
       " 'total_photo_count': 17,\n",
       " 'map': {'id': 'a2740297756',\n",
       "  'polyline': None,\n",
       "  'summary_polyline': '}y}mF~rnhSt@|@tAxBLb@`AbAx@jBRKr@wB|@Pb@d@NyBj@j@Ew@VUzAvAGmAg@{@AYd@wCv@iCd@KhAdAh@~@rBcCd@oCAu@P}@EgARIIRFr@|AbGf@WQa@Ak@?yBPiBnArFb@j@NE`@{@fA{HhA{B`@_@jBNhBxBjAh@nCg@fC@rBjA`Fz@t@pAMlDp@hDl@rARfB`G|Bh@r@nAxClBhCh@\\\\h@~AZTIXoAVSdAq@|@}Bl@i@d@[H_@CcBrCl@|@Rt@LjB^`BpA`ArC~E`BjA`BzBJd@j@x@v@r@LhAj@hBrA`CfA~@XdA`FvAr@vAPh@rAlArB`EfFdFTJjAwCv@c@lBrHn@yB\\\\pB`@h@h@P~@}@bAa@PFvAhE?f@tAhBt@^\\\\x@VPTz@@zAx@vCDdAbAdBFfAPVTBDTl@^Oz@Pp@Eh@^~B`AdAv@d@Lv@d@d@NnANLLTD|@NJ?|@PLb@`BV^TC@n@b@?ZXH`Ah@p@VHTUjA|Az@V\\\\dBp@lAXjA^r@XZv@Vd@zA`AnATv@r@TbAxB`ARbB`AjAjBTbA\\\\b@_@_@UiAkAmBaB_A_AGaAkBE]q@OW{@k@g@_@qAYk@y@[w@kAWiAo@iAa@kBe@Ei@c@u@uAg@b@m@As@]m@o@QkC[e@Ku@[YK{As@}BFKK_@]SUgAsBeBYwACoAWw@Rw@q@a@]a@KSEw@u@oAU_ABa@u@uBGkCY}@a@YyB{Bg@aA?e@wAgEiA\\\\u@z@c@Aq@m@c@{BOT[hBs@wB{@}D}@h@kAvCyF{FmCcFi@UaA{AQs@cEgA[WYaAaAw@qA{Bq@oBOkAeAgAi@oAw@w@g@_AoB{As@kBcAuAoBiBg@iE}@uAP_@GUvBeChAE`Cw@Zk@FcAdCmAaAcBUoAsBeCwAsCcBgAwBcBqCuDo@wE?cBs@qA}B_AkEsAcCAeCj@YGsAk@_BkBk@[{@Gs@h@_AnBkA`IY`AONQE_@y@_AcDOcAMTQvHmAiFSkA?QWBKjEYzBmB|Ba@u@qAoAi@Jq@bB_@nCUl@d@hAPpAs@a@Qe@g@PCx@a@m@OrB]a@gAQ_@~Ak@b@q@yBw@c@i@mA]Qc@mAy@aA'},\n",
       " 'trainer': False,\n",
       " 'commute': False,\n",
       " 'manual': False,\n",
       " 'private': False,\n",
       " 'flagged': False,\n",
       " 'gear_id': 'b4950081',\n",
       " 'gear': None,\n",
       " 'average_speed': 1.108,\n",
       " 'max_speed': 9.6,\n",
       " 'device_watts': False,\n",
       " 'has_kudoed': False,\n",
       " 'best_efforts': None,\n",
       " 'segment_efforts': None,\n",
       " 'splits_metric': None,\n",
       " 'splits_standard': None,\n",
       " 'average_watts': 80.9,\n",
       " 'weighted_average_watts': None,\n",
       " 'max_watts': None,\n",
       " 'suffer_score': None,\n",
       " 'has_heartrate': True,\n",
       " 'average_heartrate': 129.6,\n",
       " 'max_heartrate': 158,\n",
       " 'average_cadence': None,\n",
       " 'kilojoules': 1116.3,\n",
       " 'average_temp': 13,\n",
       " 'device_name': None,\n",
       " 'embed_token': None,\n",
       " 'calories': None,\n",
       " 'description': None,\n",
       " 'workout_type': '10',\n",
       " 'photos': None,\n",
       " 'instagram_primary_photo': None,\n",
       " 'partner_logo_url': None,\n",
       " 'partner_brand_tag': None,\n",
       " 'from_accepted_tag': False,\n",
       " 'segment_leaderboard_opt_out': None,\n",
       " 'highlighted_kudosers': None,\n",
       " 'laps': None}"
      ]
     },
     "execution_count": 41,
     "metadata": {},
     "output_type": "execute_result"
    }
   ],
   "source": [
    "sample = list(activities)[1]\n",
    "sample.to_dict()"
   ]
  },
  {
   "cell_type": "code",
   "execution_count": 46,
   "metadata": {},
   "outputs": [
    {
     "data": {
      "text/plain": [
       "'2740297756'"
      ]
     },
     "execution_count": 46,
     "metadata": {},
     "output_type": "execute_result"
    }
   ],
   "source": [
    "d = sample.to_dict()\n",
    "d['map']['id'].replace('a','')\n",
    "#d['gear_id']"
   ]
  },
  {
   "cell_type": "code",
   "execution_count": 104,
   "metadata": {},
   "outputs": [
    {
     "data": {
      "text/plain": [
       "[<SegmentEffort id=68426261525 name='CT Halfmoon First Climb' resource_state=2>,\n",
       " <SegmentEffort id=68426261576 name='Forest Road 110 J Climb' resource_state=2>,\n",
       " <SegmentEffort id=68426261555 name='S Mt Elbert Trail Climb' resource_state=2>,\n",
       " <SegmentEffort id=68426261596 name='North Mt. Elbert DH' resource_state=2>,\n",
       " <SegmentEffort id=68426261629 name='HC Creek Summit to CT' resource_state=2>,\n",
       " <SegmentEffort id=68426261614 name='Treeline to CT intersection DH' resource_state=2>,\n",
       " <SegmentEffort id=68426261645 name='Treeline to Parking lot' resource_state=2>]"
      ]
     },
     "execution_count": 104,
     "metadata": {},
     "output_type": "execute_result"
    }
   ],
   "source": [
    "client.get_activity('2740297756', include_all_efforts=True).segment_efforts"
   ]
  },
  {
   "cell_type": "code",
   "execution_count": 100,
   "metadata": {},
   "outputs": [
    {
     "data": {
      "text/plain": [
       "<SegmentEffort id=68367608256 name='North Table Loop East Climb' resource_state=2>"
      ]
     },
     "execution_count": 100,
     "metadata": {},
     "output_type": "execute_result"
    }
   ],
   "source": [
    "client.get_activity(2737362813, include_all_efforts=\"True\").segment_efforts[0]"
   ]
  },
  {
   "cell_type": "code",
   "execution_count": 82,
   "metadata": {},
   "outputs": [],
   "source": [
    "my_cols =['name',\n",
    "          'average_speed',\n",
    "          'average_heartrate',\n",
    "          'average_watts', \n",
    "          'distance',\n",
    "          'elapsed_time',\n",
    "          'total_elevation_gain',\n",
    "          'type', \n",
    "          'start_date_local',\n",
    "          'gear_id',\n",
    "          'map']"
   ]
  },
  {
   "cell_type": "code",
   "execution_count": 77,
   "metadata": {},
   "outputs": [],
   "source": [
    "data = []\n",
    "for activity in activities:\n",
    "    my_dict = activity.to_dict()\n",
    "    data.append([my_dict.get(x) for x in my_cols])"
   ]
  },
  {
   "cell_type": "code",
   "execution_count": 105,
   "metadata": {},
   "outputs": [
    {
     "data": {
      "text/html": [
       "<div>\n",
       "<style scoped>\n",
       "    .dataframe tbody tr th:only-of-type {\n",
       "        vertical-align: middle;\n",
       "    }\n",
       "\n",
       "    .dataframe tbody tr th {\n",
       "        vertical-align: top;\n",
       "    }\n",
       "\n",
       "    .dataframe thead th {\n",
       "        text-align: right;\n",
       "    }\n",
       "</style>\n",
       "<table border=\"1\" class=\"dataframe\">\n",
       "  <thead>\n",
       "    <tr style=\"text-align: right;\">\n",
       "      <th></th>\n",
       "      <th>name</th>\n",
       "      <th>average_speed</th>\n",
       "      <th>average_heartrate</th>\n",
       "      <th>average_watts</th>\n",
       "      <th>distance</th>\n",
       "      <th>elapsed_time</th>\n",
       "      <th>total_elevation_gain</th>\n",
       "      <th>type</th>\n",
       "      <th>start_date_local</th>\n",
       "      <th>gear_id</th>\n",
       "      <th>map</th>\n",
       "    </tr>\n",
       "  </thead>\n",
       "  <tbody>\n",
       "    <tr>\n",
       "      <th>0</th>\n",
       "      <td>Morning Ride</td>\n",
       "      <td>3.175</td>\n",
       "      <td>115.1</td>\n",
       "      <td>141.5</td>\n",
       "      <td>17035.9</td>\n",
       "      <td>1:31:20</td>\n",
       "      <td>1427.0</td>\n",
       "      <td>Ride</td>\n",
       "      <td>2019-09-26T09:22:19</td>\n",
       "      <td>b4950081</td>\n",
       "      <td>{'id': 'a2741758244', 'polyline': None, 'summa...</td>\n",
       "    </tr>\n",
       "    <tr>\n",
       "      <th>1</th>\n",
       "      <td>Type II fun</td>\n",
       "      <td>1.108</td>\n",
       "      <td>129.6</td>\n",
       "      <td>80.9</td>\n",
       "      <td>15284.8</td>\n",
       "      <td>5:02:38</td>\n",
       "      <td>1321.0</td>\n",
       "      <td>Ride</td>\n",
       "      <td>2019-09-25T10:17:12</td>\n",
       "      <td>b4950081</td>\n",
       "      <td>{'id': 'a2740297756', 'polyline': None, 'summa...</td>\n",
       "    </tr>\n",
       "    <tr>\n",
       "      <th>2</th>\n",
       "      <td>Afternoon Ride</td>\n",
       "      <td>2.392</td>\n",
       "      <td>NaN</td>\n",
       "      <td>96.0</td>\n",
       "      <td>8429.9</td>\n",
       "      <td>1:37:00</td>\n",
       "      <td>352.0</td>\n",
       "      <td>Ride</td>\n",
       "      <td>2019-09-24T15:24:47</td>\n",
       "      <td>b4950081</td>\n",
       "      <td>{'id': 'a2737362813', 'polyline': None, 'summa...</td>\n",
       "    </tr>\n",
       "    <tr>\n",
       "      <th>3</th>\n",
       "      <td>Lunch Ride</td>\n",
       "      <td>3.014</td>\n",
       "      <td>NaN</td>\n",
       "      <td>116.5</td>\n",
       "      <td>19572.7</td>\n",
       "      <td>1:59:08</td>\n",
       "      <td>394.0</td>\n",
       "      <td>Ride</td>\n",
       "      <td>2019-09-23T12:05:21</td>\n",
       "      <td>b4950081</td>\n",
       "      <td>{'id': 'a2737136947', 'polyline': None, 'summa...</td>\n",
       "    </tr>\n",
       "    <tr>\n",
       "      <th>4</th>\n",
       "      <td>Afternoon Ride</td>\n",
       "      <td>3.902</td>\n",
       "      <td>NaN</td>\n",
       "      <td>155.6</td>\n",
       "      <td>6289.6</td>\n",
       "      <td>0:29:24</td>\n",
       "      <td>151.0</td>\n",
       "      <td>Ride</td>\n",
       "      <td>2019-09-22T17:47:47</td>\n",
       "      <td>b4950081</td>\n",
       "      <td>{'id': 'a2732378410', 'polyline': None, 'summa...</td>\n",
       "    </tr>\n",
       "  </tbody>\n",
       "</table>\n",
       "</div>"
      ],
      "text/plain": [
       "             name  average_speed  average_heartrate  average_watts  distance  \\\n",
       "0    Morning Ride          3.175              115.1          141.5   17035.9   \n",
       "1     Type II fun          1.108              129.6           80.9   15284.8   \n",
       "2  Afternoon Ride          2.392                NaN           96.0    8429.9   \n",
       "3      Lunch Ride          3.014                NaN          116.5   19572.7   \n",
       "4  Afternoon Ride          3.902                NaN          155.6    6289.6   \n",
       "\n",
       "  elapsed_time  total_elevation_gain  type     start_date_local   gear_id  \\\n",
       "0      1:31:20                1427.0  Ride  2019-09-26T09:22:19  b4950081   \n",
       "1      5:02:38                1321.0  Ride  2019-09-25T10:17:12  b4950081   \n",
       "2      1:37:00                 352.0  Ride  2019-09-24T15:24:47  b4950081   \n",
       "3      1:59:08                 394.0  Ride  2019-09-23T12:05:21  b4950081   \n",
       "4      0:29:24                 151.0  Ride  2019-09-22T17:47:47  b4950081   \n",
       "\n",
       "                                                 map  \n",
       "0  {'id': 'a2741758244', 'polyline': None, 'summa...  \n",
       "1  {'id': 'a2740297756', 'polyline': None, 'summa...  \n",
       "2  {'id': 'a2737362813', 'polyline': None, 'summa...  \n",
       "3  {'id': 'a2737136947', 'polyline': None, 'summa...  \n",
       "4  {'id': 'a2732378410', 'polyline': None, 'summa...  "
      ]
     },
     "execution_count": 105,
     "metadata": {},
     "output_type": "execute_result"
    }
   ],
   "source": [
    "df = pd.DataFrame(data, columns=my_cols)\n",
    "df.head()"
   ]
  },
  {
   "cell_type": "code",
   "execution_count": 108,
   "metadata": {},
   "outputs": [
    {
     "data": {
      "text/plain": [
       "100"
      ]
     },
     "execution_count": 108,
     "metadata": {},
     "output_type": "execute_result"
    }
   ],
   "source": [
    "activities = client.get_activities(limit=100)\n",
    "len(list(activities))"
   ]
  },
  {
   "cell_type": "code",
   "execution_count": 117,
   "metadata": {},
   "outputs": [],
   "source": [
    "del(activity_id_list)"
   ]
  },
  {
   "cell_type": "code",
   "execution_count": 118,
   "metadata": {},
   "outputs": [],
   "source": [
    "activity_id_list = [activity.to_dict()['map']['id'].replace('a','') for activity in activities]"
   ]
  },
  {
   "cell_type": "code",
   "execution_count": 119,
   "metadata": {},
   "outputs": [
    {
     "data": {
      "text/plain": [
       "100"
      ]
     },
     "execution_count": 119,
     "metadata": {},
     "output_type": "execute_result"
    }
   ],
   "source": [
    "len(activity_id_list)"
   ]
  },
  {
   "cell_type": "code",
   "execution_count": 133,
   "metadata": {},
   "outputs": [
    {
     "ename": "NameError",
     "evalue": "name 'example_activity' is not defined",
     "output_type": "error",
     "traceback": [
      "\u001b[0;31m---------------------------------------------------------------------------\u001b[0m",
      "\u001b[0;31mNameError\u001b[0m                                 Traceback (most recent call last)",
      "\u001b[0;32m<ipython-input-133-d6d661391f99>\u001b[0m in \u001b[0;36m<module>\u001b[0;34m\u001b[0m\n\u001b[0;32m----> 1\u001b[0;31m \u001b[0mactivity_segments\u001b[0m \u001b[0;34m=\u001b[0m \u001b[0mclient\u001b[0m\u001b[0;34m.\u001b[0m\u001b[0mget_activity\u001b[0m\u001b[0;34m(\u001b[0m\u001b[0mexample_activity\u001b[0m\u001b[0;34m,\u001b[0m \u001b[0minclude_all_efforts\u001b[0m\u001b[0;34m=\u001b[0m\u001b[0;32mTrue\u001b[0m\u001b[0;34m)\u001b[0m\u001b[0;34m.\u001b[0m\u001b[0msegment_efforts\u001b[0m\u001b[0;34m\u001b[0m\u001b[0;34m\u001b[0m\u001b[0m\n\u001b[0m\u001b[1;32m      2\u001b[0m \u001b[0;34m\u001b[0m\u001b[0m\n\u001b[1;32m      3\u001b[0m \u001b[0msegment_id_list\u001b[0m \u001b[0;34m=\u001b[0m \u001b[0;34m[\u001b[0m\u001b[0;34m]\u001b[0m\u001b[0;34m\u001b[0m\u001b[0;34m\u001b[0m\u001b[0m\n\u001b[1;32m      4\u001b[0m \u001b[0;34m\u001b[0m\u001b[0m\n\u001b[1;32m      5\u001b[0m \u001b[0;32mfor\u001b[0m \u001b[0msegment\u001b[0m \u001b[0;32min\u001b[0m \u001b[0mactivity_segments\u001b[0m\u001b[0;34m:\u001b[0m\u001b[0;34m\u001b[0m\u001b[0;34m\u001b[0m\u001b[0m\n",
      "\u001b[0;31mNameError\u001b[0m: name 'example_activity' is not defined"
     ]
    }
   ],
   "source": [
    "activity_segments = client.get_activity(example_activity, include_all_efforts=True).segment_efforts\n",
    "\n",
    "segment_id_list = []\n",
    "\n",
    "for segment in activity_segments:\n",
    "    segment_id_list.append(segment.segment.id)"
   ]
  },
  {
   "cell_type": "code",
   "execution_count": 125,
   "metadata": {},
   "outputs": [
    {
     "data": {
      "text/plain": [
       "[766268,\n",
       " 7647713,\n",
       " 18035653,\n",
       " 1704345,\n",
       " 1704365,\n",
       " 1371215,\n",
       " 16338574,\n",
       " 7080770,\n",
       " 16092525,\n",
       " 13748124,\n",
       " 13301990,\n",
       " 13150869,\n",
       " 1595279,\n",
       " 1109506,\n",
       " 2205044,\n",
       " 5524206,\n",
       " 9166921,\n",
       " 3750335,\n",
       " 20042233,\n",
       " 6866559,\n",
       " 16554504]"
      ]
     },
     "execution_count": 125,
     "metadata": {},
     "output_type": "execute_result"
    }
   ],
   "source": [
    "segment_id_list"
   ]
  },
  {
   "cell_type": "code",
   "execution_count": 32,
   "metadata": {},
   "outputs": [
    {
     "data": {
      "text/plain": [
       "<Athlete id=1715160 firstname='Feldy' lastname='Bikes'>"
      ]
     },
     "execution_count": 32,
     "metadata": {},
     "output_type": "execute_result"
    }
   ],
   "source": [
    "client = Client(access_token=TOKEN)\n",
    "client.get_athlete()"
   ]
  },
  {
   "cell_type": "code",
   "execution_count": 40,
   "metadata": {},
   "outputs": [
    {
     "data": {
      "text/plain": [
       "<Athlete id=1715160 firstname='Feldy' lastname='Bikes'>"
      ]
     },
     "execution_count": 40,
     "metadata": {},
     "output_type": "execute_result"
    }
   ],
   "source": [
    "athlete = client.get_athlete()\n",
    "athlete"
   ]
  },
  {
   "cell_type": "code",
   "execution_count": 41,
   "metadata": {},
   "outputs": [
    {
     "name": "stdout",
     "output_type": "stream",
     "text": [
      "Hello, Feldy. I know your email is None\n"
     ]
    }
   ],
   "source": [
    "print(\"Hello, {}. I know your email is {}\".format(athlete.firstname, athlete.email))\n",
    "# \"Hello, John.  I know your email is john@example.com\""
   ]
  },
  {
   "cell_type": "code",
   "execution_count": 134,
   "metadata": {},
   "outputs": [
    {
     "ename": "AccessUnauthorized",
     "evalue": "Unauthorized: Authorization Error: [{'resource': 'Athlete', 'field': 'access_token', 'code': 'invalid'}]",
     "output_type": "error",
     "traceback": [
      "\u001b[0;31m---------------------------------------------------------------------------\u001b[0m",
      "\u001b[0;31mAccessUnauthorized\u001b[0m                        Traceback (most recent call last)",
      "\u001b[0;32m<ipython-input-134-778d3a610959>\u001b[0m in \u001b[0;36m<module>\u001b[0;34m\u001b[0m\n\u001b[0;32m----> 1\u001b[0;31m \u001b[0mlist\u001b[0m\u001b[0;34m(\u001b[0m\u001b[0mclient\u001b[0m\u001b[0;34m.\u001b[0m\u001b[0mget_athlete_friends\u001b[0m\u001b[0;34m(\u001b[0m\u001b[0;34m)\u001b[0m\u001b[0;34m)\u001b[0m\u001b[0;34m\u001b[0m\u001b[0;34m\u001b[0m\u001b[0m\n\u001b[0m",
      "\u001b[0;32m/anaconda3/lib/python3.7/site-packages/stravalib/client.py\u001b[0m in \u001b[0;36m__next__\u001b[0;34m(self)\u001b[0m\n\u001b[1;32m   1666\u001b[0m \u001b[0;34m\u001b[0m\u001b[0m\n\u001b[1;32m   1667\u001b[0m     \u001b[0;32mdef\u001b[0m \u001b[0m__next__\u001b[0m\u001b[0;34m(\u001b[0m\u001b[0mself\u001b[0m\u001b[0;34m)\u001b[0m\u001b[0;34m:\u001b[0m\u001b[0;34m\u001b[0m\u001b[0;34m\u001b[0m\u001b[0m\n\u001b[0;32m-> 1668\u001b[0;31m         \u001b[0;32mreturn\u001b[0m \u001b[0mself\u001b[0m\u001b[0;34m.\u001b[0m\u001b[0mnext\u001b[0m\u001b[0;34m(\u001b[0m\u001b[0;34m)\u001b[0m\u001b[0;34m\u001b[0m\u001b[0;34m\u001b[0m\u001b[0m\n\u001b[0m\u001b[1;32m   1669\u001b[0m \u001b[0;34m\u001b[0m\u001b[0m\n\u001b[1;32m   1670\u001b[0m     \u001b[0;32mdef\u001b[0m \u001b[0mnext\u001b[0m\u001b[0;34m(\u001b[0m\u001b[0mself\u001b[0m\u001b[0;34m)\u001b[0m\u001b[0;34m:\u001b[0m\u001b[0;34m\u001b[0m\u001b[0;34m\u001b[0m\u001b[0m\n",
      "\u001b[0;32m/anaconda3/lib/python3.7/site-packages/stravalib/client.py\u001b[0m in \u001b[0;36mnext\u001b[0;34m(self)\u001b[0m\n\u001b[1;32m   1672\u001b[0m             \u001b[0mself\u001b[0m\u001b[0;34m.\u001b[0m\u001b[0m_eof\u001b[0m\u001b[0;34m(\u001b[0m\u001b[0;34m)\u001b[0m\u001b[0;34m\u001b[0m\u001b[0;34m\u001b[0m\u001b[0m\n\u001b[1;32m   1673\u001b[0m         \u001b[0;32mif\u001b[0m \u001b[0;32mnot\u001b[0m \u001b[0mself\u001b[0m\u001b[0;34m.\u001b[0m\u001b[0m_buffer\u001b[0m\u001b[0;34m:\u001b[0m\u001b[0;34m\u001b[0m\u001b[0;34m\u001b[0m\u001b[0m\n\u001b[0;32m-> 1674\u001b[0;31m             \u001b[0mself\u001b[0m\u001b[0;34m.\u001b[0m\u001b[0m_fill_buffer\u001b[0m\u001b[0;34m(\u001b[0m\u001b[0;34m)\u001b[0m\u001b[0;34m\u001b[0m\u001b[0;34m\u001b[0m\u001b[0m\n\u001b[0m\u001b[1;32m   1675\u001b[0m         \u001b[0;32mtry\u001b[0m\u001b[0;34m:\u001b[0m\u001b[0;34m\u001b[0m\u001b[0;34m\u001b[0m\u001b[0m\n\u001b[1;32m   1676\u001b[0m             \u001b[0mresult\u001b[0m \u001b[0;34m=\u001b[0m \u001b[0mself\u001b[0m\u001b[0;34m.\u001b[0m\u001b[0m_buffer\u001b[0m\u001b[0;34m.\u001b[0m\u001b[0mpopleft\u001b[0m\u001b[0;34m(\u001b[0m\u001b[0;34m)\u001b[0m\u001b[0;34m\u001b[0m\u001b[0;34m\u001b[0m\u001b[0m\n",
      "\u001b[0;32m/anaconda3/lib/python3.7/site-packages/stravalib/client.py\u001b[0m in \u001b[0;36m_fill_buffer\u001b[0;34m(self)\u001b[0m\n\u001b[1;32m   1643\u001b[0m             \u001b[0mself\u001b[0m\u001b[0;34m.\u001b[0m\u001b[0m_eof\u001b[0m\u001b[0;34m(\u001b[0m\u001b[0;34m)\u001b[0m\u001b[0;34m\u001b[0m\u001b[0;34m\u001b[0m\u001b[0m\n\u001b[1;32m   1644\u001b[0m \u001b[0;34m\u001b[0m\u001b[0m\n\u001b[0;32m-> 1645\u001b[0;31m         \u001b[0mraw_results\u001b[0m \u001b[0;34m=\u001b[0m \u001b[0mself\u001b[0m\u001b[0;34m.\u001b[0m\u001b[0mresult_fetcher\u001b[0m\u001b[0;34m(\u001b[0m\u001b[0mpage\u001b[0m\u001b[0;34m=\u001b[0m\u001b[0mself\u001b[0m\u001b[0;34m.\u001b[0m\u001b[0m_page\u001b[0m\u001b[0;34m,\u001b[0m \u001b[0mper_page\u001b[0m\u001b[0;34m=\u001b[0m\u001b[0mself\u001b[0m\u001b[0;34m.\u001b[0m\u001b[0mper_page\u001b[0m\u001b[0;34m)\u001b[0m\u001b[0;34m\u001b[0m\u001b[0;34m\u001b[0m\u001b[0m\n\u001b[0m\u001b[1;32m   1646\u001b[0m \u001b[0;34m\u001b[0m\u001b[0m\n\u001b[1;32m   1647\u001b[0m         \u001b[0mentities\u001b[0m \u001b[0;34m=\u001b[0m \u001b[0;34m[\u001b[0m\u001b[0;34m]\u001b[0m\u001b[0;34m\u001b[0m\u001b[0;34m\u001b[0m\u001b[0m\n",
      "\u001b[0;32m/anaconda3/lib/python3.7/site-packages/stravalib/protocol.py\u001b[0m in \u001b[0;36mget\u001b[0;34m(self, url, check_for_errors, use_webhook_server, **kwargs)\u001b[0m\n\u001b[1;32m    297\u001b[0m         \u001b[0murl\u001b[0m \u001b[0;34m=\u001b[0m \u001b[0murl\u001b[0m\u001b[0;34m.\u001b[0m\u001b[0mformat\u001b[0m\u001b[0;34m(\u001b[0m\u001b[0;34m**\u001b[0m\u001b[0mkwargs\u001b[0m\u001b[0;34m)\u001b[0m\u001b[0;34m\u001b[0m\u001b[0;34m\u001b[0m\u001b[0m\n\u001b[1;32m    298\u001b[0m         \u001b[0mparams\u001b[0m \u001b[0;34m=\u001b[0m \u001b[0mdict\u001b[0m\u001b[0;34m(\u001b[0m\u001b[0;34m[\u001b[0m\u001b[0;34m(\u001b[0m\u001b[0mk\u001b[0m\u001b[0;34m,\u001b[0m \u001b[0mv\u001b[0m\u001b[0;34m)\u001b[0m \u001b[0;32mfor\u001b[0m \u001b[0mk\u001b[0m\u001b[0;34m,\u001b[0m \u001b[0mv\u001b[0m \u001b[0;32min\u001b[0m \u001b[0mkwargs\u001b[0m\u001b[0;34m.\u001b[0m\u001b[0mitems\u001b[0m\u001b[0;34m(\u001b[0m\u001b[0;34m)\u001b[0m \u001b[0;32mif\u001b[0m \u001b[0;32mnot\u001b[0m \u001b[0mk\u001b[0m \u001b[0;32min\u001b[0m \u001b[0mreferenced\u001b[0m\u001b[0;34m]\u001b[0m\u001b[0;34m)\u001b[0m\u001b[0;34m\u001b[0m\u001b[0;34m\u001b[0m\u001b[0m\n\u001b[0;32m--> 299\u001b[0;31m         \u001b[0;32mreturn\u001b[0m \u001b[0mself\u001b[0m\u001b[0;34m.\u001b[0m\u001b[0m_request\u001b[0m\u001b[0;34m(\u001b[0m\u001b[0murl\u001b[0m\u001b[0;34m,\u001b[0m \u001b[0mparams\u001b[0m\u001b[0;34m=\u001b[0m\u001b[0mparams\u001b[0m\u001b[0;34m,\u001b[0m \u001b[0mcheck_for_errors\u001b[0m\u001b[0;34m=\u001b[0m\u001b[0mcheck_for_errors\u001b[0m\u001b[0;34m,\u001b[0m \u001b[0muse_webhook_server\u001b[0m\u001b[0;34m=\u001b[0m\u001b[0muse_webhook_server\u001b[0m\u001b[0;34m)\u001b[0m\u001b[0;34m\u001b[0m\u001b[0;34m\u001b[0m\u001b[0m\n\u001b[0m\u001b[1;32m    300\u001b[0m \u001b[0;34m\u001b[0m\u001b[0m\n\u001b[1;32m    301\u001b[0m     \u001b[0;32mdef\u001b[0m \u001b[0mpost\u001b[0m\u001b[0;34m(\u001b[0m\u001b[0mself\u001b[0m\u001b[0;34m,\u001b[0m \u001b[0murl\u001b[0m\u001b[0;34m,\u001b[0m \u001b[0mfiles\u001b[0m\u001b[0;34m=\u001b[0m\u001b[0;32mNone\u001b[0m\u001b[0;34m,\u001b[0m \u001b[0mcheck_for_errors\u001b[0m\u001b[0;34m=\u001b[0m\u001b[0;32mTrue\u001b[0m\u001b[0;34m,\u001b[0m \u001b[0muse_webhook_server\u001b[0m\u001b[0;34m=\u001b[0m\u001b[0;32mFalse\u001b[0m\u001b[0;34m,\u001b[0m \u001b[0;34m**\u001b[0m\u001b[0mkwargs\u001b[0m\u001b[0;34m)\u001b[0m\u001b[0;34m:\u001b[0m\u001b[0;34m\u001b[0m\u001b[0;34m\u001b[0m\u001b[0m\n",
      "\u001b[0;32m/anaconda3/lib/python3.7/site-packages/stravalib/protocol.py\u001b[0m in \u001b[0;36m_request\u001b[0;34m(self, url, params, files, method, check_for_errors, use_webhook_server)\u001b[0m\n\u001b[1;32m    219\u001b[0m \u001b[0;34m\u001b[0m\u001b[0m\n\u001b[1;32m    220\u001b[0m         \u001b[0;32mif\u001b[0m \u001b[0mcheck_for_errors\u001b[0m\u001b[0;34m:\u001b[0m\u001b[0;34m\u001b[0m\u001b[0;34m\u001b[0m\u001b[0m\n\u001b[0;32m--> 221\u001b[0;31m             \u001b[0mself\u001b[0m\u001b[0;34m.\u001b[0m\u001b[0m_handle_protocol_error\u001b[0m\u001b[0;34m(\u001b[0m\u001b[0mraw\u001b[0m\u001b[0;34m)\u001b[0m\u001b[0;34m\u001b[0m\u001b[0;34m\u001b[0m\u001b[0m\n\u001b[0m\u001b[1;32m    222\u001b[0m \u001b[0;34m\u001b[0m\u001b[0m\n\u001b[1;32m    223\u001b[0m         \u001b[0;31m# 204 = No content\u001b[0m\u001b[0;34m\u001b[0m\u001b[0;34m\u001b[0m\u001b[0;34m\u001b[0m\u001b[0m\n",
      "\u001b[0;32m/anaconda3/lib/python3.7/site-packages/stravalib/protocol.py\u001b[0m in \u001b[0;36m_handle_protocol_error\u001b[0;34m(self, response)\u001b[0m\n\u001b[1;32m    266\u001b[0m \u001b[0;34m\u001b[0m\u001b[0m\n\u001b[1;32m    267\u001b[0m         \u001b[0;32mif\u001b[0m \u001b[0mexc_class\u001b[0m \u001b[0;32mis\u001b[0m \u001b[0;32mnot\u001b[0m \u001b[0;32mNone\u001b[0m\u001b[0;34m:\u001b[0m\u001b[0;34m\u001b[0m\u001b[0;34m\u001b[0m\u001b[0m\n\u001b[0;32m--> 268\u001b[0;31m             \u001b[0;32mraise\u001b[0m \u001b[0mexc_class\u001b[0m\u001b[0;34m(\u001b[0m\u001b[0mmsg\u001b[0m\u001b[0;34m,\u001b[0m \u001b[0mresponse\u001b[0m\u001b[0;34m=\u001b[0m\u001b[0mresponse\u001b[0m\u001b[0;34m)\u001b[0m\u001b[0;34m\u001b[0m\u001b[0;34m\u001b[0m\u001b[0m\n\u001b[0m\u001b[1;32m    269\u001b[0m \u001b[0;34m\u001b[0m\u001b[0m\n\u001b[1;32m    270\u001b[0m         \u001b[0;32mreturn\u001b[0m \u001b[0mresponse\u001b[0m\u001b[0;34m\u001b[0m\u001b[0;34m\u001b[0m\u001b[0m\n",
      "\u001b[0;31mAccessUnauthorized\u001b[0m: Unauthorized: Authorization Error: [{'resource': 'Athlete', 'field': 'access_token', 'code': 'invalid'}]"
     ]
    }
   ],
   "source": [
    "list(client.get_athlete_friends())"
   ]
  },
  {
   "cell_type": "code",
   "execution_count": 140,
   "metadata": {},
   "outputs": [
    {
     "ename": "Fault",
     "evalue": "403 Client Error: Forbidden [Forbidden: []]",
     "output_type": "error",
     "traceback": [
      "\u001b[0;31m---------------------------------------------------------------------------\u001b[0m",
      "\u001b[0;31mFault\u001b[0m                                     Traceback (most recent call last)",
      "\u001b[0;32m<ipython-input-140-add795004bbd>\u001b[0m in \u001b[0;36m<module>\u001b[0;34m\u001b[0m\n\u001b[0;32m----> 1\u001b[0;31m \u001b[0mlist\u001b[0m\u001b[0;34m(\u001b[0m\u001b[0mfriends\u001b[0m\u001b[0;34m)\u001b[0m\u001b[0;34m[\u001b[0m\u001b[0;36m0\u001b[0m\u001b[0;34m]\u001b[0m\u001b[0;34m\u001b[0m\u001b[0;34m\u001b[0m\u001b[0m\n\u001b[0m",
      "\u001b[0;32m/anaconda3/lib/python3.7/site-packages/stravalib/client.py\u001b[0m in \u001b[0;36m__next__\u001b[0;34m(self)\u001b[0m\n\u001b[1;32m   1666\u001b[0m \u001b[0;34m\u001b[0m\u001b[0m\n\u001b[1;32m   1667\u001b[0m     \u001b[0;32mdef\u001b[0m \u001b[0m__next__\u001b[0m\u001b[0;34m(\u001b[0m\u001b[0mself\u001b[0m\u001b[0;34m)\u001b[0m\u001b[0;34m:\u001b[0m\u001b[0;34m\u001b[0m\u001b[0;34m\u001b[0m\u001b[0m\n\u001b[0;32m-> 1668\u001b[0;31m         \u001b[0;32mreturn\u001b[0m \u001b[0mself\u001b[0m\u001b[0;34m.\u001b[0m\u001b[0mnext\u001b[0m\u001b[0;34m(\u001b[0m\u001b[0;34m)\u001b[0m\u001b[0;34m\u001b[0m\u001b[0;34m\u001b[0m\u001b[0m\n\u001b[0m\u001b[1;32m   1669\u001b[0m \u001b[0;34m\u001b[0m\u001b[0m\n\u001b[1;32m   1670\u001b[0m     \u001b[0;32mdef\u001b[0m \u001b[0mnext\u001b[0m\u001b[0;34m(\u001b[0m\u001b[0mself\u001b[0m\u001b[0;34m)\u001b[0m\u001b[0;34m:\u001b[0m\u001b[0;34m\u001b[0m\u001b[0;34m\u001b[0m\u001b[0m\n",
      "\u001b[0;32m/anaconda3/lib/python3.7/site-packages/stravalib/client.py\u001b[0m in \u001b[0;36mnext\u001b[0;34m(self)\u001b[0m\n\u001b[1;32m   1672\u001b[0m             \u001b[0mself\u001b[0m\u001b[0;34m.\u001b[0m\u001b[0m_eof\u001b[0m\u001b[0;34m(\u001b[0m\u001b[0;34m)\u001b[0m\u001b[0;34m\u001b[0m\u001b[0;34m\u001b[0m\u001b[0m\n\u001b[1;32m   1673\u001b[0m         \u001b[0;32mif\u001b[0m \u001b[0;32mnot\u001b[0m \u001b[0mself\u001b[0m\u001b[0;34m.\u001b[0m\u001b[0m_buffer\u001b[0m\u001b[0;34m:\u001b[0m\u001b[0;34m\u001b[0m\u001b[0;34m\u001b[0m\u001b[0m\n\u001b[0;32m-> 1674\u001b[0;31m             \u001b[0mself\u001b[0m\u001b[0;34m.\u001b[0m\u001b[0m_fill_buffer\u001b[0m\u001b[0;34m(\u001b[0m\u001b[0;34m)\u001b[0m\u001b[0;34m\u001b[0m\u001b[0;34m\u001b[0m\u001b[0m\n\u001b[0m\u001b[1;32m   1675\u001b[0m         \u001b[0;32mtry\u001b[0m\u001b[0;34m:\u001b[0m\u001b[0;34m\u001b[0m\u001b[0;34m\u001b[0m\u001b[0m\n\u001b[1;32m   1676\u001b[0m             \u001b[0mresult\u001b[0m \u001b[0;34m=\u001b[0m \u001b[0mself\u001b[0m\u001b[0;34m.\u001b[0m\u001b[0m_buffer\u001b[0m\u001b[0;34m.\u001b[0m\u001b[0mpopleft\u001b[0m\u001b[0;34m(\u001b[0m\u001b[0;34m)\u001b[0m\u001b[0;34m\u001b[0m\u001b[0;34m\u001b[0m\u001b[0m\n",
      "\u001b[0;32m/anaconda3/lib/python3.7/site-packages/stravalib/client.py\u001b[0m in \u001b[0;36m_fill_buffer\u001b[0;34m(self)\u001b[0m\n\u001b[1;32m   1643\u001b[0m             \u001b[0mself\u001b[0m\u001b[0;34m.\u001b[0m\u001b[0m_eof\u001b[0m\u001b[0;34m(\u001b[0m\u001b[0;34m)\u001b[0m\u001b[0;34m\u001b[0m\u001b[0;34m\u001b[0m\u001b[0m\n\u001b[1;32m   1644\u001b[0m \u001b[0;34m\u001b[0m\u001b[0m\n\u001b[0;32m-> 1645\u001b[0;31m         \u001b[0mraw_results\u001b[0m \u001b[0;34m=\u001b[0m \u001b[0mself\u001b[0m\u001b[0;34m.\u001b[0m\u001b[0mresult_fetcher\u001b[0m\u001b[0;34m(\u001b[0m\u001b[0mpage\u001b[0m\u001b[0;34m=\u001b[0m\u001b[0mself\u001b[0m\u001b[0;34m.\u001b[0m\u001b[0m_page\u001b[0m\u001b[0;34m,\u001b[0m \u001b[0mper_page\u001b[0m\u001b[0;34m=\u001b[0m\u001b[0mself\u001b[0m\u001b[0;34m.\u001b[0m\u001b[0mper_page\u001b[0m\u001b[0;34m)\u001b[0m\u001b[0;34m\u001b[0m\u001b[0;34m\u001b[0m\u001b[0m\n\u001b[0m\u001b[1;32m   1646\u001b[0m \u001b[0;34m\u001b[0m\u001b[0m\n\u001b[1;32m   1647\u001b[0m         \u001b[0mentities\u001b[0m \u001b[0;34m=\u001b[0m \u001b[0;34m[\u001b[0m\u001b[0;34m]\u001b[0m\u001b[0;34m\u001b[0m\u001b[0;34m\u001b[0m\u001b[0m\n",
      "\u001b[0;32m/anaconda3/lib/python3.7/site-packages/stravalib/protocol.py\u001b[0m in \u001b[0;36mget\u001b[0;34m(self, url, check_for_errors, use_webhook_server, **kwargs)\u001b[0m\n\u001b[1;32m    297\u001b[0m         \u001b[0murl\u001b[0m \u001b[0;34m=\u001b[0m \u001b[0murl\u001b[0m\u001b[0;34m.\u001b[0m\u001b[0mformat\u001b[0m\u001b[0;34m(\u001b[0m\u001b[0;34m**\u001b[0m\u001b[0mkwargs\u001b[0m\u001b[0;34m)\u001b[0m\u001b[0;34m\u001b[0m\u001b[0;34m\u001b[0m\u001b[0m\n\u001b[1;32m    298\u001b[0m         \u001b[0mparams\u001b[0m \u001b[0;34m=\u001b[0m \u001b[0mdict\u001b[0m\u001b[0;34m(\u001b[0m\u001b[0;34m[\u001b[0m\u001b[0;34m(\u001b[0m\u001b[0mk\u001b[0m\u001b[0;34m,\u001b[0m \u001b[0mv\u001b[0m\u001b[0;34m)\u001b[0m \u001b[0;32mfor\u001b[0m \u001b[0mk\u001b[0m\u001b[0;34m,\u001b[0m \u001b[0mv\u001b[0m \u001b[0;32min\u001b[0m \u001b[0mkwargs\u001b[0m\u001b[0;34m.\u001b[0m\u001b[0mitems\u001b[0m\u001b[0;34m(\u001b[0m\u001b[0;34m)\u001b[0m \u001b[0;32mif\u001b[0m \u001b[0;32mnot\u001b[0m \u001b[0mk\u001b[0m \u001b[0;32min\u001b[0m \u001b[0mreferenced\u001b[0m\u001b[0;34m]\u001b[0m\u001b[0;34m)\u001b[0m\u001b[0;34m\u001b[0m\u001b[0;34m\u001b[0m\u001b[0m\n\u001b[0;32m--> 299\u001b[0;31m         \u001b[0;32mreturn\u001b[0m \u001b[0mself\u001b[0m\u001b[0;34m.\u001b[0m\u001b[0m_request\u001b[0m\u001b[0;34m(\u001b[0m\u001b[0murl\u001b[0m\u001b[0;34m,\u001b[0m \u001b[0mparams\u001b[0m\u001b[0;34m=\u001b[0m\u001b[0mparams\u001b[0m\u001b[0;34m,\u001b[0m \u001b[0mcheck_for_errors\u001b[0m\u001b[0;34m=\u001b[0m\u001b[0mcheck_for_errors\u001b[0m\u001b[0;34m,\u001b[0m \u001b[0muse_webhook_server\u001b[0m\u001b[0;34m=\u001b[0m\u001b[0muse_webhook_server\u001b[0m\u001b[0;34m)\u001b[0m\u001b[0;34m\u001b[0m\u001b[0;34m\u001b[0m\u001b[0m\n\u001b[0m\u001b[1;32m    300\u001b[0m \u001b[0;34m\u001b[0m\u001b[0m\n\u001b[1;32m    301\u001b[0m     \u001b[0;32mdef\u001b[0m \u001b[0mpost\u001b[0m\u001b[0;34m(\u001b[0m\u001b[0mself\u001b[0m\u001b[0;34m,\u001b[0m \u001b[0murl\u001b[0m\u001b[0;34m,\u001b[0m \u001b[0mfiles\u001b[0m\u001b[0;34m=\u001b[0m\u001b[0;32mNone\u001b[0m\u001b[0;34m,\u001b[0m \u001b[0mcheck_for_errors\u001b[0m\u001b[0;34m=\u001b[0m\u001b[0;32mTrue\u001b[0m\u001b[0;34m,\u001b[0m \u001b[0muse_webhook_server\u001b[0m\u001b[0;34m=\u001b[0m\u001b[0;32mFalse\u001b[0m\u001b[0;34m,\u001b[0m \u001b[0;34m**\u001b[0m\u001b[0mkwargs\u001b[0m\u001b[0;34m)\u001b[0m\u001b[0;34m:\u001b[0m\u001b[0;34m\u001b[0m\u001b[0;34m\u001b[0m\u001b[0m\n",
      "\u001b[0;32m/anaconda3/lib/python3.7/site-packages/stravalib/protocol.py\u001b[0m in \u001b[0;36m_request\u001b[0;34m(self, url, params, files, method, check_for_errors, use_webhook_server)\u001b[0m\n\u001b[1;32m    219\u001b[0m \u001b[0;34m\u001b[0m\u001b[0m\n\u001b[1;32m    220\u001b[0m         \u001b[0;32mif\u001b[0m \u001b[0mcheck_for_errors\u001b[0m\u001b[0;34m:\u001b[0m\u001b[0;34m\u001b[0m\u001b[0;34m\u001b[0m\u001b[0m\n\u001b[0;32m--> 221\u001b[0;31m             \u001b[0mself\u001b[0m\u001b[0;34m.\u001b[0m\u001b[0m_handle_protocol_error\u001b[0m\u001b[0;34m(\u001b[0m\u001b[0mraw\u001b[0m\u001b[0;34m)\u001b[0m\u001b[0;34m\u001b[0m\u001b[0;34m\u001b[0m\u001b[0m\n\u001b[0m\u001b[1;32m    222\u001b[0m \u001b[0;34m\u001b[0m\u001b[0m\n\u001b[1;32m    223\u001b[0m         \u001b[0;31m# 204 = No content\u001b[0m\u001b[0;34m\u001b[0m\u001b[0;34m\u001b[0m\u001b[0;34m\u001b[0m\u001b[0m\n",
      "\u001b[0;32m/anaconda3/lib/python3.7/site-packages/stravalib/protocol.py\u001b[0m in \u001b[0;36m_handle_protocol_error\u001b[0;34m(self, response)\u001b[0m\n\u001b[1;32m    266\u001b[0m \u001b[0;34m\u001b[0m\u001b[0m\n\u001b[1;32m    267\u001b[0m         \u001b[0;32mif\u001b[0m \u001b[0mexc_class\u001b[0m \u001b[0;32mis\u001b[0m \u001b[0;32mnot\u001b[0m \u001b[0;32mNone\u001b[0m\u001b[0;34m:\u001b[0m\u001b[0;34m\u001b[0m\u001b[0;34m\u001b[0m\u001b[0m\n\u001b[0;32m--> 268\u001b[0;31m             \u001b[0;32mraise\u001b[0m \u001b[0mexc_class\u001b[0m\u001b[0;34m(\u001b[0m\u001b[0mmsg\u001b[0m\u001b[0;34m,\u001b[0m \u001b[0mresponse\u001b[0m\u001b[0;34m=\u001b[0m\u001b[0mresponse\u001b[0m\u001b[0;34m)\u001b[0m\u001b[0;34m\u001b[0m\u001b[0;34m\u001b[0m\u001b[0m\n\u001b[0m\u001b[1;32m    269\u001b[0m \u001b[0;34m\u001b[0m\u001b[0m\n\u001b[1;32m    270\u001b[0m         \u001b[0;32mreturn\u001b[0m \u001b[0mresponse\u001b[0m\u001b[0;34m\u001b[0m\u001b[0;34m\u001b[0m\u001b[0m\n",
      "\u001b[0;31mFault\u001b[0m: 403 Client Error: Forbidden [Forbidden: []]"
     ]
    }
   ],
   "source": [
    "list(friends)[0]"
   ]
  },
  {
   "cell_type": "code",
   "execution_count": 100,
   "metadata": {},
   "outputs": [
    {
     "name": "stdout",
     "output_type": "stream",
     "text": [
      "For 1715160, I now have an access token ae87070294c274aa66511327120de229cc8352e0\n"
     ]
    }
   ],
   "source": [
    "from stravalib.client import Client\n",
    "import time\n",
    "\n",
    "client = Client()\n",
    "authorize_url = client.authorization_url(client_id=1234, redirect_uri='http://localhost:8282/authorized')\n",
    "# Have the user click the authorization URL, a 'code' param will be added to the redirect_uri\n",
    "# .....\n",
    "\n",
    "# Extract the code from your webapp response\n",
    "#code = request.get('code') # or whatever your framework does\n",
    "#token_response = client.exchange_code_for_token(client_id=MY_STRAVA_CLIENT_ID, MY_STRAVA_CLIENT_SECRET='asdf1234', code=code)\n",
    "access_token = 'ae87070294c274aa66511327120de229cc8352e0' #token_response['access_token']\n",
    "refresh_token = 'a5e89ec1b07b2eeca8f33e08ef0e4d357de63160' #['refresh_token']\n",
    "expires_at = '2019-09-24T23:46:10Z' #token_response['expires_at']\n",
    "\n",
    "# Now store that short-lived access token somewhere (a database?)\n",
    "client.access_token = access_token\n",
    "# You must also store the refresh token to be used later on to obtain another valid access token \n",
    "# in case the current is already expired\n",
    "client.refresh_token = refresh_token\n",
    "\n",
    "# An access_token is only valid for 6 hours, store expires_at somewhere and\n",
    "# check it before making an API call.\n",
    "client.token_expires_at = expires_at\n",
    " \n",
    "athlete = client.get_athlete()\n",
    "print(\"For {id}, I now have an access token {token}\".format(id=athlete.id, token=access_token))\n",
    "\n",
    "# ... time passes ...\n",
    "if time.time() > time.mktime(time.strptime(expires_at, '%Y-%m-%dT%H:%M:%SZ')): #client.token_expires_at:\n",
    "    refresh_response = client.refresh_access_token(client_id=1234, client_secret='asdf1234',\n",
    "        refresh_token=client.refresh_token)\n",
    "    access_token = refresh_response['access_token']\n",
    "    refresh_token = refresh_response['refresh_token']\n",
    "    expires_at = refresh_response['expires_at']"
   ]
  },
  {
   "cell_type": "code",
   "execution_count": 133,
   "metadata": {},
   "outputs": [
    {
     "data": {
      "text/plain": [
       "<Athlete id=1715160 firstname='Feldy' lastname='Bikes'>"
      ]
     },
     "execution_count": 133,
     "metadata": {},
     "output_type": "execute_result"
    }
   ],
   "source": [
    "curr_athlete = client.get_athlete()\n",
    "curr_athlete"
   ]
  },
  {
   "cell_type": "code",
   "execution_count": 134,
   "metadata": {},
   "outputs": [
    {
     "ename": "AttributeError",
     "evalue": "'NoneType' object has no attribute 'keys'",
     "output_type": "error",
     "traceback": [
      "\u001b[0;31m---------------------------------------------------------------------------\u001b[0m",
      "\u001b[0;31mAttributeError\u001b[0m                            Traceback (most recent call last)",
      "\u001b[0;32m<ipython-input-134-9e210bbef594>\u001b[0m in \u001b[0;36m<module>\u001b[0;34m\u001b[0m\n\u001b[1;32m      5\u001b[0m \u001b[0;34m\u001b[0m\u001b[0m\n\u001b[1;32m      6\u001b[0m \u001b[0;31m#  Result is a dictionary object.  The dict's key are the stream type.\u001b[0m\u001b[0;34m\u001b[0m\u001b[0;34m\u001b[0m\u001b[0;34m\u001b[0m\u001b[0m\n\u001b[0;32m----> 7\u001b[0;31m \u001b[0;32mif\u001b[0m \u001b[0;34m'altitude'\u001b[0m \u001b[0;32min\u001b[0m \u001b[0mstreams\u001b[0m\u001b[0;34m.\u001b[0m\u001b[0mkeys\u001b[0m\u001b[0;34m(\u001b[0m\u001b[0;34m)\u001b[0m\u001b[0;34m:\u001b[0m\u001b[0;34m\u001b[0m\u001b[0;34m\u001b[0m\u001b[0m\n\u001b[0m\u001b[1;32m      8\u001b[0m     \u001b[0mprint\u001b[0m\u001b[0;34m(\u001b[0m\u001b[0mstreams\u001b[0m\u001b[0;34m[\u001b[0m\u001b[0;34m'altitude'\u001b[0m\u001b[0;34m]\u001b[0m\u001b[0;34m.\u001b[0m\u001b[0mdata\u001b[0m\u001b[0;34m)\u001b[0m\u001b[0;34m\u001b[0m\u001b[0;34m\u001b[0m\u001b[0m\n",
      "\u001b[0;31mAttributeError\u001b[0m: 'NoneType' object has no attribute 'keys'"
     ]
    }
   ],
   "source": [
    "# Activities can have many streams, you can request n desired stream types\n",
    "types = ['time', 'latlng', 'altitude', 'heartrate', 'temp', ]\n",
    "\n",
    "streams = client.get_activity_streams(123, types=types, resolution='medium')\n",
    "\n",
    "#  Result is a dictionary object.  The dict's key are the stream type.\n",
    "if 'altitude' in streams.keys():\n",
    "    print(streams['altitude'].data)"
   ]
  },
  {
   "cell_type": "code",
   "execution_count": 132,
   "metadata": {},
   "outputs": [
    {
     "data": {
      "text/plain": [
       "{'biggest_ride_distance': 108757.0,\n",
       " 'biggest_climb_elevation_gain': 1474.0000000000002,\n",
       " 'recent_ride_totals': {'achievement_count': 212,\n",
       "  'count': 38,\n",
       "  'distance': 802257.9348144531,\n",
       "  'elapsed_time': '6 days, 23:05:12',\n",
       "  'elevation_gain': 11067.26012802124,\n",
       "  'moving_time': '1 day, 20:54:39'},\n",
       " 'recent_run_totals': {'achievement_count': 0,\n",
       "  'count': 0,\n",
       "  'distance': 0.0,\n",
       "  'elapsed_time': None,\n",
       "  'elevation_gain': 0.0,\n",
       "  'moving_time': None},\n",
       " 'recent_swim_totals': {'achievement_count': 0,\n",
       "  'count': 0,\n",
       "  'distance': 0.0,\n",
       "  'elapsed_time': None,\n",
       "  'elevation_gain': 0.0,\n",
       "  'moving_time': None},\n",
       " 'ytd_ride_totals': {'achievement_count': None,\n",
       "  'count': 220,\n",
       "  'distance': 4208757,\n",
       "  'elapsed_time': '22 days, 9:11:10',\n",
       "  'elevation_gain': 78197,\n",
       "  'moving_time': '11 days, 10:32:17'},\n",
       " 'ytd_run_totals': {'achievement_count': None,\n",
       "  'count': 0,\n",
       "  'distance': 0,\n",
       "  'elapsed_time': None,\n",
       "  'elevation_gain': 0,\n",
       "  'moving_time': None},\n",
       " 'ytd_swim_totals': {'achievement_count': None,\n",
       "  'count': 30,\n",
       "  'distance': 29705,\n",
       "  'elapsed_time': '16:07:35',\n",
       "  'elevation_gain': 5,\n",
       "  'moving_time': '12:05:26'},\n",
       " 'all_ride_totals': {'achievement_count': None,\n",
       "  'count': 1987,\n",
       "  'distance': 43263404,\n",
       "  'elapsed_time': '198 days, 21:57:32',\n",
       "  'elevation_gain': 868732,\n",
       "  'moving_time': '115 days, 3:10:57'},\n",
       " 'all_run_totals': {'achievement_count': None,\n",
       "  'count': 46,\n",
       "  'distance': 181604,\n",
       "  'elapsed_time': '19:51:44',\n",
       "  'elevation_gain': 2736,\n",
       "  'moving_time': '18:38:57'},\n",
       " 'all_swim_totals': {'achievement_count': None,\n",
       "  'count': 153,\n",
       "  'distance': 146945,\n",
       "  'elapsed_time': '3 days, 5:28:22',\n",
       "  'elevation_gain': 1834,\n",
       "  'moving_time': '2 days, 22:50:54'}}"
      ]
     },
     "execution_count": 132,
     "metadata": {},
     "output_type": "execute_result"
    }
   ],
   "source": [
    "client.get_athlete_stats(athlete_id=None).to_dict()"
   ]
  },
  {
   "cell_type": "code",
   "execution_count": 103,
   "metadata": {},
   "outputs": [],
   "source": [
    "#http://www.hainke.ca/index.php/2018/08/23/using-the-strava-api-to-retrieve-activity-data/\n",
    "\n",
    "col_names = ['id','type']\n",
    "activities = pd.DataFrame(columns=col_names)\n",
    " \n",
    "#access_token = \"access_token=xxxxxxxx\" # replace with your access token here\n",
    "url = \"https://www.strava.com/api/v3/activities\""
   ]
  },
  {
   "cell_type": "code",
   "execution_count": 106,
   "metadata": {},
   "outputs": [
    {
     "ename": "NameError",
     "evalue": "name 'requests' is not defined",
     "output_type": "error",
     "traceback": [
      "\u001b[0;31m---------------------------------------------------------------------------\u001b[0m",
      "\u001b[0;31mNameError\u001b[0m                                 Traceback (most recent call last)",
      "\u001b[0;32m<ipython-input-106-166d39d9bd9f>\u001b[0m in \u001b[0;36m<module>\u001b[0;34m\u001b[0m\n\u001b[1;32m      4\u001b[0m \u001b[0;34m\u001b[0m\u001b[0m\n\u001b[1;32m      5\u001b[0m     \u001b[0;31m# get page of activities from Strava\u001b[0m\u001b[0;34m\u001b[0m\u001b[0;34m\u001b[0m\u001b[0;34m\u001b[0m\u001b[0m\n\u001b[0;32m----> 6\u001b[0;31m     \u001b[0mr\u001b[0m \u001b[0;34m=\u001b[0m \u001b[0mrequests\u001b[0m\u001b[0;34m.\u001b[0m\u001b[0mget\u001b[0m\u001b[0;34m(\u001b[0m\u001b[0murl\u001b[0m \u001b[0;34m+\u001b[0m \u001b[0;34m'?'\u001b[0m \u001b[0;34m+\u001b[0m \u001b[0maccess_token\u001b[0m \u001b[0;34m+\u001b[0m \u001b[0;34m'&per_page=50'\u001b[0m \u001b[0;34m+\u001b[0m \u001b[0;34m'&page='\u001b[0m \u001b[0;34m+\u001b[0m \u001b[0mstr\u001b[0m\u001b[0;34m(\u001b[0m\u001b[0mpage\u001b[0m\u001b[0;34m)\u001b[0m\u001b[0;34m)\u001b[0m\u001b[0;34m\u001b[0m\u001b[0;34m\u001b[0m\u001b[0m\n\u001b[0m\u001b[1;32m      7\u001b[0m     \u001b[0mr\u001b[0m \u001b[0;34m=\u001b[0m \u001b[0mr\u001b[0m\u001b[0;34m.\u001b[0m\u001b[0mjson\u001b[0m\u001b[0;34m(\u001b[0m\u001b[0;34m)\u001b[0m\u001b[0;34m\u001b[0m\u001b[0;34m\u001b[0m\u001b[0m\n\u001b[1;32m      8\u001b[0m \u001b[0;34m\u001b[0m\u001b[0m\n",
      "\u001b[0;31mNameError\u001b[0m: name 'requests' is not defined"
     ]
    }
   ],
   "source": [
    "#http://www.hainke.ca/index.php/2018/08/23/using-the-strava-api-to-retrieve-activity-data/\n",
    "\n",
    "page = 1\n",
    " \n",
    "while True:\n",
    "    \n",
    "    # get page of activities from Strava\n",
    "    r = requests.get(url + '?' + access_token + '&per_page=50' + '&page=' + str(page))\n",
    "    r = r.json()\n",
    " \n",
    "    # if no results then exit loop\n",
    "    if (not r):\n",
    "        break\n",
    "    \n",
    "    # otherwise add new data to dataframe\n",
    "    for x in range(len(r)):\n",
    "        activities.loc[x + (page-1)*50,'id'] = r[x]['id']\n",
    "        activities.loc[x + (page-1)*50,'type'] = r[x]['type']\n",
    " \n",
    "    # increment page\n",
    "    page += 1"
   ]
  },
  {
   "cell_type": "code",
   "execution_count": 158,
   "metadata": {},
   "outputs": [
    {
     "data": {
      "text/plain": [
       "{'name': 'Lookout Mountain (Gate-BB Grave)',\n",
       " 'activity_type': 'Ride',\n",
       " 'distance': 7361.19,\n",
       " 'average_grade': 5.4,\n",
       " 'maximum_grade': 31.1,\n",
       " 'elevation_high': 2230.3,\n",
       " 'elevation_low': 1843.0,\n",
       " 'start_latlng': '39.740329,-105.227683',\n",
       " 'end_latlng': '39.731674,-105.239256',\n",
       " 'start_latitude': 39.740329,\n",
       " 'end_latitude': 39.731674,\n",
       " 'start_longitude': -105.227683,\n",
       " 'end_longitude': -105.239256,\n",
       " 'climb_category': 3,\n",
       " 'city': 'Golden',\n",
       " 'state': 'Colorado',\n",
       " 'country': 'United States',\n",
       " 'private': False,\n",
       " 'starred': True,\n",
       " 'athlete_segment_stats': {'effort_count': 81,\n",
       "  'pr_elapsed_time': '0:24:28',\n",
       "  'pr_date': '2012-09-16'},\n",
       " 'created_at': '2010-04-16T03:33:52+00:00',\n",
       " 'updated_at': '2019-09-24T08:13:37+00:00',\n",
       " 'total_elevation_gain': 0.0,\n",
       " 'map': {'id': 's609371',\n",
       "  'polyline': '_xpqF`hgaS\\\\QHDFJCNSb@Ul@Q`AY|BA\\\\Dl@Rt@PdA@f@E\\\\IRKJuAr@UXSr@SpAYr@U\\\\o@r@yAdAw@p@gAlAS^Kb@An@Jx@Nz@?h@SVIBa@EcBy@g@Oq@Ac@Je@^S`@G^?v@Bj@R`B@ZKZKB[C{@g@a@Oa@I]A]Bk@R_@\\\\{@nAYXSNa@LaACWHGDU\\\\Mj@EvAKd@[`@UDcC@_@Dk@PUNOPIN]hAm@xAEN@~@NxAHb@P^x@hAXv@XdBNnAB|@Eh@]bBI~@CvAO|B?HJ^H@Z[p@iEb@gBFg@D}ABERAHV@n@Ct@GvAOnB@LPVJ?RODYHwAh@wCDq@@g@C_AQu@eAcBQi@Gg@@oAFe@HUVWXGn@Bl@@XIbAo@VIZAn@Db@EZQnAiA\\\\SRGZC`@@ZFzAXh@PPNZd@^^\\\\NnA^XFZ@\\\\OJKz@_B`@WPAJ@NDx@t@|Af@`@`@Vp@FTnA|GRp@Xh@pAlAX`@ZZRFV@^El@QTCJ@\\\\JdAz@`@`@V^x@tA\\\\r@xApDX^LHLBJ?VGPM`AeAf@e@p@e@d@Sd@?pANfDVpAArAI\\\\?JL@LEHKJYDm@Ec@BM`@JPVHr@A`@BDF@PEJSJq@Ae@I]CwBFoBPWFW`@?LHPVLT?fAM`@@d@LzAz@VFZBn@Cr@Un@_@hBoBZ_@Rk@Jo@L{BLs@HWLSn@e@LMHg@Si@u@s@i@]uAo@]WK]IiBWgBDe@Z{@?g@GKSQm@S_Ag@cBc@U[C_@H{AHe@N]jCoDh@m@POVKTGt@Ah@Br@JPFHHXf@DRBPAr@ShCCp@@h@',\n",
       "  'summary_polyline': None},\n",
       " 'effort_count': 183717,\n",
       " 'athlete_count': 19778,\n",
       " 'hazardous': False,\n",
       " 'star_count': 1682,\n",
       " 'pr_time': None,\n",
       " 'starred_date': None,\n",
       " 'athlete_pr_effort': None}"
      ]
     },
     "execution_count": 158,
     "metadata": {},
     "output_type": "execute_result"
    }
   ],
   "source": [
    "client.get_segment(609371).to_dict()"
   ]
  },
  {
   "cell_type": "code",
   "execution_count": null,
   "metadata": {},
   "outputs": [],
   "source": []
  }
 ],
 "metadata": {
  "kernelspec": {
   "display_name": "Python 3",
   "language": "python",
   "name": "python3"
  },
  "language_info": {
   "codemirror_mode": {
    "name": "ipython",
    "version": 3
   },
   "file_extension": ".py",
   "mimetype": "text/x-python",
   "name": "python",
   "nbconvert_exporter": "python",
   "pygments_lexer": "ipython3",
   "version": "3.7.3"
  }
 },
 "nbformat": 4,
 "nbformat_minor": 2
}
