{
 "cells": [
  {
   "cell_type": "markdown",
   "metadata": {},
   "source": [
    "navigate to strava folder in terminal and use:\n",
    "$ APP_SETTINGS=settings.cfg python server.py\n",
    "\n",
    "open up http://localhost:5000 and grab the access_token from there"
   ]
  },
  {
   "cell_type": "code",
   "execution_count": 916,
   "metadata": {},
   "outputs": [],
   "source": [
    "import numpy as np\n",
    "import pandas as pd\n",
    "import matplotlib.pyplot as plt\n",
    "import time\n",
    "import timeit\n",
    "import datetime\n",
    "import seaborn as sns\n",
    "from stravalib.client import Client\n",
    "import os\n",
    "from pathlib import Path\n",
    "pd.set_option('display.max_columns', 500)"
   ]
  },
  {
   "cell_type": "code",
   "execution_count": 917,
   "metadata": {},
   "outputs": [],
   "source": [
    "TOKEN = '30841e5a2d07e469edbfe18ac3f87a9a38a9e10d'\n",
    "\n",
    "client = Client(access_token=TOKEN)"
   ]
  },
  {
   "cell_type": "code",
   "execution_count": 372,
   "metadata": {},
   "outputs": [],
   "source": [
    "def meters_to_miles(df, col):\n",
    "    df[col] = df[col].apply(lambda x : x * 0.000621371)\n",
    "    \n",
    "def meters_to_feet(df, col):\n",
    "    df[col] = df[col].apply(lambda x : x * 3.28084)\n",
    "    \n",
    "def remove_meters_label(df, col):\n",
    "    df[col] = df[col].str[:-2]\n",
    "    df[col] = df[col].astype(float)\n",
    "    \n",
    "def convert_ride_time(df, col):\n",
    "    df[col] = df[col].str[-8:]\n",
    "    df[df[col] == '00000000'] = np.nan\n",
    "    df[col] = pd.to_datetime(df[col], format='%H:%M:%S')\n",
    "    df[col] = [datetime.datetime.time(d) for d in df[col]]"
   ]
  },
  {
   "cell_type": "code",
   "execution_count": 609,
   "metadata": {},
   "outputs": [],
   "source": [
    "athlete = client.get_athlete()"
   ]
  },
  {
   "cell_type": "code",
   "execution_count": 871,
   "metadata": {},
   "outputs": [
    {
     "data": {
      "text/plain": [
       "'/Users/peabody/Documents/galvanize/capstones/strava'"
      ]
     },
     "execution_count": 871,
     "metadata": {},
     "output_type": "execute_result"
    }
   ],
   "source": [
    "os.getcwd()"
   ]
  },
  {
   "cell_type": "code",
   "execution_count": 891,
   "metadata": {},
   "outputs": [
    {
     "name": "stdout",
     "output_type": "stream",
     "text": [
      "/Users/peabody/Documents/galvanize/capstones/strava\n"
     ]
    }
   ],
   "source": [
    "cd .."
   ]
  },
  {
   "cell_type": "code",
   "execution_count": 889,
   "metadata": {},
   "outputs": [],
   "source": [
    "def check_strava_dir():\n",
    "    if os.path.basename(os.getcwd()) != 'strava':\n",
    "        print('please navigate to strava directory before proceeding.')\n",
    "        pass\n",
    "    else:\n",
    "        print('in strava directory.')"
   ]
  },
  {
   "cell_type": "code",
   "execution_count": 894,
   "metadata": {},
   "outputs": [],
   "source": [
    "df = ride_ids"
   ]
  },
  {
   "cell_type": "code",
   "execution_count": 900,
   "metadata": {},
   "outputs": [
    {
     "data": {
      "text/plain": [
       "'df'"
      ]
     },
     "execution_count": 900,
     "metadata": {},
     "output_type": "execute_result"
    }
   ],
   "source": [
    "df.name"
   ]
  },
  {
   "cell_type": "code",
   "execution_count": 901,
   "metadata": {},
   "outputs": [
    {
     "name": "stdout",
     "output_type": "stream",
     "text": [
      "in strava directory.\n"
     ]
    }
   ],
   "source": [
    "check_strava_dir()"
   ]
  },
  {
   "cell_type": "code",
   "execution_count": 903,
   "metadata": {},
   "outputs": [],
   "source": [
    "def check_dependency(df):\n",
    "    try:\n",
    "        df = df\n",
    "    except:\n",
    "        print('no'+df+'. run appropriate method')\n",
    "        pass"
   ]
  },
  {
   "cell_type": "code",
   "execution_count": 908,
   "metadata": {},
   "outputs": [
    {
     "ename": "NameError",
     "evalue": "name 'dskfj' is not defined",
     "output_type": "error",
     "traceback": [
      "\u001b[0;31m---------------------------------------------------------------------------\u001b[0m",
      "\u001b[0;31mNameError\u001b[0m                                 Traceback (most recent call last)",
      "\u001b[0;32m<ipython-input-908-62fbb4914a68>\u001b[0m in \u001b[0;36m<module>\u001b[0;34m\u001b[0m\n\u001b[0;32m----> 1\u001b[0;31m \u001b[0mcheck_dependency\u001b[0m\u001b[0;34m(\u001b[0m\u001b[0mdskfj\u001b[0m\u001b[0;34m)\u001b[0m\u001b[0;34m\u001b[0m\u001b[0;34m\u001b[0m\u001b[0m\n\u001b[0m",
      "\u001b[0;31mNameError\u001b[0m: name 'dskfj' is not defined"
     ]
    }
   ],
   "source": [
    "check_dependency(dskfj)"
   ]
  },
  {
   "cell_type": "code",
   "execution_count": 874,
   "metadata": {},
   "outputs": [
    {
     "ename": "FileNotFoundError",
     "evalue": "[Errno 2] No such file or directory: 'data/Karyn_Peabody'",
     "output_type": "error",
     "traceback": [
      "\u001b[0;31m---------------------------------------------------------------------------\u001b[0m",
      "\u001b[0;31mFileNotFoundError\u001b[0m                         Traceback (most recent call last)",
      "\u001b[0;32m<ipython-input-874-57b68c5eee74>\u001b[0m in \u001b[0;36m<module>\u001b[0;34m\u001b[0m\n\u001b[0;32m----> 1\u001b[0;31m \u001b[0mos\u001b[0m\u001b[0;34m.\u001b[0m\u001b[0mchdir\u001b[0m\u001b[0;34m(\u001b[0m\u001b[0;34m'data/'\u001b[0m\u001b[0;34m+\u001b[0m\u001b[0;34m'Karyn_Peabody'\u001b[0m\u001b[0;34m)\u001b[0m\u001b[0;34m\u001b[0m\u001b[0;34m\u001b[0m\u001b[0m\n\u001b[0m",
      "\u001b[0;31mFileNotFoundError\u001b[0m: [Errno 2] No such file or directory: 'data/Karyn_Peabody'"
     ]
    }
   ],
   "source": [
    "os.chdir('data/'+'Karyn_Peabody')"
   ]
  },
  {
   "cell_type": "code",
   "execution_count": 875,
   "metadata": {},
   "outputs": [],
   "source": [
    "os.chdir(Path(os.getcwd()).parents[1])"
   ]
  },
  {
   "cell_type": "code",
   "execution_count": 876,
   "metadata": {},
   "outputs": [
    {
     "name": "stdout",
     "output_type": "stream",
     "text": [
      "data for Karyn_Peabody to be stored in data/Karyn_Peabody\n"
     ]
    }
   ],
   "source": [
    "try:\n",
    "    os.chdir('data/'+self._athlete_name())\n",
    "    print('data for {0} to be stored in {1}'.format(\n",
    "        self._athlete_name(),'data/'+self._athlete_name()))\n",
    "    os.chdir(Path(os.getcwd()).parents[1])\n",
    "except:\n",
    "    print('need to create directory first. use .add_athlete()')\n",
    "    pass"
   ]
  },
  {
   "cell_type": "code",
   "execution_count": 632,
   "metadata": {},
   "outputs": [
    {
     "name": "stdout",
     "output_type": "stream",
     "text": [
      "ath_df successfully loaded\n"
     ]
    }
   ],
   "source": [
    "try: #try to load df\n",
    "    ath_df = pd.read_csv('data/athletes.csv') \n",
    "    print('ath_df successfully loaded')\n",
    "except: #check that df isn't in memory\n",
    "    try:\n",
    "        ath_df = ath_df \n",
    "        print('ath_df already in memory')\n",
    "    except: #create empty df\n",
    "        ath_cols = ['firstname','lastname','city','state']\n",
    "        ath_df = pd.DataFrame(columns = ath_cols)\n",
    "        print('empty ath_df intialized')"
   ]
  },
  {
   "cell_type": "code",
   "execution_count": 918,
   "metadata": {},
   "outputs": [
    {
     "data": {
      "text/html": [
       "<div>\n",
       "<style scoped>\n",
       "    .dataframe tbody tr th:only-of-type {\n",
       "        vertical-align: middle;\n",
       "    }\n",
       "\n",
       "    .dataframe tbody tr th {\n",
       "        vertical-align: top;\n",
       "    }\n",
       "\n",
       "    .dataframe thead th {\n",
       "        text-align: right;\n",
       "    }\n",
       "</style>\n",
       "<table border=\"1\" class=\"dataframe\">\n",
       "  <thead>\n",
       "    <tr style=\"text-align: right;\">\n",
       "      <th></th>\n",
       "      <th>firstname</th>\n",
       "      <th>lastname</th>\n",
       "      <th>city</th>\n",
       "      <th>state</th>\n",
       "    </tr>\n",
       "  </thead>\n",
       "  <tbody>\n",
       "    <tr>\n",
       "      <th>0</th>\n",
       "      <td>Feldy</td>\n",
       "      <td>Bikes</td>\n",
       "      <td>Golden</td>\n",
       "      <td>CO</td>\n",
       "    </tr>\n",
       "    <tr>\n",
       "      <th>1</th>\n",
       "      <td>Karyn</td>\n",
       "      <td>Peabody</td>\n",
       "      <td>Golden</td>\n",
       "      <td>CO</td>\n",
       "    </tr>\n",
       "  </tbody>\n",
       "</table>\n",
       "</div>"
      ],
      "text/plain": [
       "  firstname lastname    city state\n",
       "0     Feldy    Bikes  Golden    CO\n",
       "1     Karyn  Peabody  Golden    CO"
      ]
     },
     "execution_count": 918,
     "metadata": {},
     "output_type": "execute_result"
    }
   ],
   "source": [
    "ath_df"
   ]
  },
  {
   "cell_type": "code",
   "execution_count": null,
   "metadata": {},
   "outputs": [],
   "source": [
    "ath_cols = ['firstname','lastname']\n",
    "\n",
    "ath_df = pd.DataFrame(columns = ath_cols)"
   ]
  },
  {
   "cell_type": "code",
   "execution_count": 828,
   "metadata": {},
   "outputs": [
    {
     "name": "stdout",
     "output_type": "stream",
     "text": [
      "Karyn Peabody added to ath_df\n"
     ]
    },
    {
     "data": {
      "text/html": [
       "<div>\n",
       "<style scoped>\n",
       "    .dataframe tbody tr th:only-of-type {\n",
       "        vertical-align: middle;\n",
       "    }\n",
       "\n",
       "    .dataframe tbody tr th {\n",
       "        vertical-align: top;\n",
       "    }\n",
       "\n",
       "    .dataframe thead th {\n",
       "        text-align: right;\n",
       "    }\n",
       "</style>\n",
       "<table border=\"1\" class=\"dataframe\">\n",
       "  <thead>\n",
       "    <tr style=\"text-align: right;\">\n",
       "      <th></th>\n",
       "      <th>firstname</th>\n",
       "      <th>lastname</th>\n",
       "      <th>city</th>\n",
       "      <th>state</th>\n",
       "    </tr>\n",
       "  </thead>\n",
       "  <tbody>\n",
       "    <tr>\n",
       "      <th>0</th>\n",
       "      <td>Feldy</td>\n",
       "      <td>Bikes</td>\n",
       "      <td>Golden</td>\n",
       "      <td>CO</td>\n",
       "    </tr>\n",
       "    <tr>\n",
       "      <th>1</th>\n",
       "      <td>Karyn</td>\n",
       "      <td>Peabody</td>\n",
       "      <td>Golden</td>\n",
       "      <td>CO</td>\n",
       "    </tr>\n",
       "  </tbody>\n",
       "</table>\n",
       "</div>"
      ],
      "text/plain": [
       "  firstname lastname    city state\n",
       "0     Feldy    Bikes  Golden    CO\n",
       "1     Karyn  Peabody  Golden    CO"
      ]
     },
     "execution_count": 828,
     "metadata": {},
     "output_type": "execute_result"
    }
   ],
   "source": [
    "athlete_dict =  client.get_athlete().to_dict()\n",
    "ath_df = ath_df.append({k:athlete_dict[k] for k in ath_cols if k in athlete_dict},ignore_index=True)\n",
    "ath_df = ath_df.drop_duplicates()\n",
    "print('{0} {1} added to ath_df'.format(ath_df.firstname.iloc[-1],ath_df.lastname.iloc[-1]))\n",
    "\n",
    "ath_df"
   ]
  },
  {
   "cell_type": "code",
   "execution_count": 631,
   "metadata": {},
   "outputs": [
    {
     "data": {
      "text/plain": [
       "'Karyn'"
      ]
     },
     "execution_count": 631,
     "metadata": {},
     "output_type": "execute_result"
    }
   ],
   "source": [
    "ath_df.firstname.iloc[-1]"
   ]
  },
  {
   "cell_type": "code",
   "execution_count": 919,
   "metadata": {},
   "outputs": [],
   "source": [
    "ath_df.to_csv('data/athletes.csv', index=False)"
   ]
  },
  {
   "cell_type": "code",
   "execution_count": 816,
   "metadata": {},
   "outputs": [
    {
     "data": {
      "text/plain": [
       "'Karyn'"
      ]
     },
     "execution_count": 816,
     "metadata": {},
     "output_type": "execute_result"
    }
   ],
   "source": [
    "athlete.firstname"
   ]
  },
  {
   "cell_type": "code",
   "execution_count": 826,
   "metadata": {},
   "outputs": [
    {
     "data": {
      "text/plain": [
       "0    Feldy\n",
       "1    Karyn\n",
       "Name: firstname, dtype: object"
      ]
     },
     "execution_count": 826,
     "metadata": {},
     "output_type": "execute_result"
    }
   ],
   "source": [
    "athlete.firstname in ath_df.firstname"
   ]
  },
  {
   "cell_type": "code",
   "execution_count": 634,
   "metadata": {},
   "outputs": [
    {
     "data": {
      "text/plain": [
       "'karyn_peabody'"
      ]
     },
     "execution_count": 634,
     "metadata": {},
     "output_type": "execute_result"
    }
   ],
   "source": [
    "dir = str(ath_df.firstname.iloc[-1] + '_' + ath_df.lastname.iloc[-1]).lower()\n",
    "dir"
   ]
  },
  {
   "cell_type": "code",
   "execution_count": 877,
   "metadata": {},
   "outputs": [],
   "source": [
    "# if os.path.basename(os.getcwd()) == dir:\n",
    "#     print('in {} directory'.format(dir))\n",
    "#     pass\n",
    "# else:\n",
    "#     try:\n",
    "#         os.mkdir('data/' + dir)\n",
    "#         print('{} directory created'.format(dir))\n",
    "#         print('changing directory to {}'.format(dir))\n",
    "#     except FileExistsError:\n",
    "#         os.chdir('data/' + dir)\n",
    "#         print('{} directory already exists'.format(dir))\n",
    "#         print('changing directory to {}'.format('data/' + dir))\n",
    "#     except:\n",
    "#         print('unable to change directory')\n",
    "    \n"
   ]
  },
  {
   "cell_type": "code",
   "execution_count": 645,
   "metadata": {},
   "outputs": [
    {
     "name": "stdout",
     "output_type": "stream",
     "text": [
      "need to gather ride IDs...\n",
      "ride IDs successfully downloaded\n",
      "ride IDs saved to karyn_peabody/ride_ids.csv\n"
     ]
    }
   ],
   "source": [
    "try:\n",
    "    ride_ids = pd.read_csv('data/ride_ids.csv')\n",
    "    print('ride_ids csv successfully loaded')\n",
    "except:\n",
    "    print('need to gather ride IDs...')\n",
    "    activities = client.get_activities() \n",
    "    act_list = list(activities)\n",
    "    print('ride IDs successfully downloaded')\n",
    "    ride_id_list = []\n",
    "    for act in act_list:\n",
    "        if act.type != 'Ride':\n",
    "            continue\n",
    "        else:\n",
    "            ride_id_list.append(act.id)\n",
    "    ride_ids = pd.DataFrame(ride_id_list)\n",
    "    ride_ids.columns = ['ride_id']\n",
    "    ride_ids.to_csv('ride_ids.csv', index=False)\n",
    "    print('ride IDs saved to {}/ride_ids.csv'.format(os.path.basename(os.getcwd())))"
   ]
  },
  {
   "cell_type": "code",
   "execution_count": 646,
   "metadata": {
    "scrolled": true
   },
   "outputs": [
    {
     "name": "stdout",
     "output_type": "stream",
     "text": [
      "(520, 1)\n"
     ]
    },
    {
     "data": {
      "text/html": [
       "<div>\n",
       "<style scoped>\n",
       "    .dataframe tbody tr th:only-of-type {\n",
       "        vertical-align: middle;\n",
       "    }\n",
       "\n",
       "    .dataframe tbody tr th {\n",
       "        vertical-align: top;\n",
       "    }\n",
       "\n",
       "    .dataframe thead th {\n",
       "        text-align: right;\n",
       "    }\n",
       "</style>\n",
       "<table border=\"1\" class=\"dataframe\">\n",
       "  <thead>\n",
       "    <tr style=\"text-align: right;\">\n",
       "      <th></th>\n",
       "      <th>ride_id</th>\n",
       "    </tr>\n",
       "  </thead>\n",
       "  <tbody>\n",
       "    <tr>\n",
       "      <th>0</th>\n",
       "      <td>2786841798</td>\n",
       "    </tr>\n",
       "    <tr>\n",
       "      <th>1</th>\n",
       "      <td>2783913174</td>\n",
       "    </tr>\n",
       "    <tr>\n",
       "      <th>2</th>\n",
       "      <td>2783759752</td>\n",
       "    </tr>\n",
       "    <tr>\n",
       "      <th>3</th>\n",
       "      <td>2768876238</td>\n",
       "    </tr>\n",
       "    <tr>\n",
       "      <th>4</th>\n",
       "      <td>2750664039</td>\n",
       "    </tr>\n",
       "  </tbody>\n",
       "</table>\n",
       "</div>"
      ],
      "text/plain": [
       "      ride_id\n",
       "0  2786841798\n",
       "1  2783913174\n",
       "2  2783759752\n",
       "3  2768876238\n",
       "4  2750664039"
      ]
     },
     "execution_count": 646,
     "metadata": {},
     "output_type": "execute_result"
    }
   ],
   "source": [
    "print(ride_ids.shape)\n",
    "ride_ids.head()"
   ]
  },
  {
   "cell_type": "code",
   "execution_count": 648,
   "metadata": {},
   "outputs": [
    {
     "data": {
      "text/plain": [
       "520"
      ]
     },
     "execution_count": 648,
     "metadata": {},
     "output_type": "execute_result"
    }
   ],
   "source": [
    "len(ride_ids.ride_id.unique())"
   ]
  },
  {
   "cell_type": "code",
   "execution_count": 732,
   "metadata": {},
   "outputs": [],
   "source": [
    "segment_cols = ['ride_name',\n",
    "                'ride_id',\n",
    "                'bike',\n",
    "                'ride_distance',\n",
    "                'ride_moving_time',\n",
    "                'ride_elapsed_time',\n",
    "                'ride_elevation_gain',\n",
    "                'ride_start_time',\n",
    "                'segment_id']\n",
    "\n",
    "segments_df = pd.DataFrame(columns = segment_cols)"
   ]
  },
  {
   "cell_type": "code",
   "execution_count": 748,
   "metadata": {},
   "outputs": [
    {
     "data": {
      "text/html": [
       "<div>\n",
       "<style scoped>\n",
       "    .dataframe tbody tr th:only-of-type {\n",
       "        vertical-align: middle;\n",
       "    }\n",
       "\n",
       "    .dataframe tbody tr th {\n",
       "        vertical-align: top;\n",
       "    }\n",
       "\n",
       "    .dataframe thead th {\n",
       "        text-align: right;\n",
       "    }\n",
       "</style>\n",
       "<table border=\"1\" class=\"dataframe\">\n",
       "  <thead>\n",
       "    <tr style=\"text-align: right;\">\n",
       "      <th></th>\n",
       "      <th>ride_name</th>\n",
       "      <th>ride_id</th>\n",
       "      <th>bike</th>\n",
       "      <th>ride_distance</th>\n",
       "      <th>ride_moving_time</th>\n",
       "      <th>ride_elapsed_time</th>\n",
       "      <th>ride_elevation_gain</th>\n",
       "      <th>ride_start_time</th>\n",
       "      <th>segment_id</th>\n",
       "    </tr>\n",
       "  </thead>\n",
       "  <tbody>\n",
       "    <tr>\n",
       "      <th>0</th>\n",
       "      <td>Mountain Top Ride</td>\n",
       "      <td>59116770</td>\n",
       "      <td>NaN</td>\n",
       "      <td>9932.90 m</td>\n",
       "      <td>00:54:03</td>\n",
       "      <td>01:03:52</td>\n",
       "      <td>264.40 m</td>\n",
       "      <td>2013-06-08 17:22:55</td>\n",
       "      <td>1370940</td>\n",
       "    </tr>\n",
       "    <tr>\n",
       "      <th>1</th>\n",
       "      <td>Mountain Top Ride</td>\n",
       "      <td>59116770</td>\n",
       "      <td>NaN</td>\n",
       "      <td>9932.90 m</td>\n",
       "      <td>00:54:03</td>\n",
       "      <td>01:03:52</td>\n",
       "      <td>264.40 m</td>\n",
       "      <td>2013-06-08 17:22:55</td>\n",
       "      <td>15316909</td>\n",
       "    </tr>\n",
       "    <tr>\n",
       "      <th>2</th>\n",
       "      <td>Mountain Top Ride</td>\n",
       "      <td>59116770</td>\n",
       "      <td>NaN</td>\n",
       "      <td>9932.90 m</td>\n",
       "      <td>00:54:03</td>\n",
       "      <td>01:03:52</td>\n",
       "      <td>264.40 m</td>\n",
       "      <td>2013-06-08 17:22:55</td>\n",
       "      <td>2127168</td>\n",
       "    </tr>\n",
       "    <tr>\n",
       "      <th>3</th>\n",
       "      <td>Mountain Top Ride</td>\n",
       "      <td>59116770</td>\n",
       "      <td>NaN</td>\n",
       "      <td>9932.90 m</td>\n",
       "      <td>00:54:03</td>\n",
       "      <td>01:03:52</td>\n",
       "      <td>264.40 m</td>\n",
       "      <td>2013-06-08 17:22:55</td>\n",
       "      <td>1169578</td>\n",
       "    </tr>\n",
       "    <tr>\n",
       "      <th>4</th>\n",
       "      <td>Mountain Top Ride</td>\n",
       "      <td>59116770</td>\n",
       "      <td>NaN</td>\n",
       "      <td>9932.90 m</td>\n",
       "      <td>00:54:03</td>\n",
       "      <td>01:03:52</td>\n",
       "      <td>264.40 m</td>\n",
       "      <td>2013-06-08 17:22:55</td>\n",
       "      <td>4291122</td>\n",
       "    </tr>\n",
       "  </tbody>\n",
       "</table>\n",
       "</div>"
      ],
      "text/plain": [
       "           ride_name   ride_id bike ride_distance ride_moving_time  \\\n",
       "0  Mountain Top Ride  59116770  NaN     9932.90 m         00:54:03   \n",
       "1  Mountain Top Ride  59116770  NaN     9932.90 m         00:54:03   \n",
       "2  Mountain Top Ride  59116770  NaN     9932.90 m         00:54:03   \n",
       "3  Mountain Top Ride  59116770  NaN     9932.90 m         00:54:03   \n",
       "4  Mountain Top Ride  59116770  NaN     9932.90 m         00:54:03   \n",
       "\n",
       "  ride_elapsed_time ride_elevation_gain     ride_start_time segment_id  \n",
       "0          01:03:52            264.40 m 2013-06-08 17:22:55    1370940  \n",
       "1          01:03:52            264.40 m 2013-06-08 17:22:55   15316909  \n",
       "2          01:03:52            264.40 m 2013-06-08 17:22:55    2127168  \n",
       "3          01:03:52            264.40 m 2013-06-08 17:22:55    1169578  \n",
       "4          01:03:52            264.40 m 2013-06-08 17:22:55    4291122  "
      ]
     },
     "execution_count": 748,
     "metadata": {},
     "output_type": "execute_result"
    }
   ],
   "source": [
    "segments_df.head()"
   ]
  },
  {
   "cell_type": "code",
   "execution_count": 734,
   "metadata": {},
   "outputs": [],
   "source": [
    "ride_index = 0"
   ]
  },
  {
   "cell_type": "code",
   "execution_count": 735,
   "metadata": {},
   "outputs": [],
   "source": [
    "total_rides = len(list(ride_ids.ride_id))\n",
    "rides = list(ride_ids.ride_id) #should think about making this a set"
   ]
  },
  {
   "cell_type": "code",
   "execution_count": 736,
   "metadata": {},
   "outputs": [
    {
     "name": "stdout",
     "output_type": "stream",
     "text": [
      "file not found :(\n"
     ]
    }
   ],
   "source": [
    "try:\n",
    "    segments_df = pd.read_csv('segments_df.csv')\n",
    "    print('segments_df successfully loaded')\n",
    "except:\n",
    "    print('file not found :(')\n",
    "downloaded_rides = segments_df.ride_id.unique()"
   ]
  },
  {
   "cell_type": "code",
   "execution_count": 737,
   "metadata": {},
   "outputs": [
    {
     "data": {
      "text/plain": [
       "520"
      ]
     },
     "execution_count": 737,
     "metadata": {},
     "output_type": "execute_result"
    }
   ],
   "source": [
    "remaining_rides = np.setdiff1d(ride_ids.ride_id,downloaded_rides)\n",
    "len(remaining_rides)"
   ]
  },
  {
   "cell_type": "code",
   "execution_count": 738,
   "metadata": {},
   "outputs": [],
   "source": [
    "rides_left = len(remaining_rides)\n",
    "rides = remaining_rides"
   ]
  },
  {
   "cell_type": "code",
   "execution_count": 739,
   "metadata": {},
   "outputs": [
    {
     "name": "stdout",
     "output_type": "stream",
     "text": [
      "ride_index: 0\n",
      "rides_left: 520\n"
     ]
    }
   ],
   "source": [
    "print('ride_index: {}'.format(ride_index))\n",
    "print('rides_left: {}'.format(rides_left))"
   ]
  },
  {
   "cell_type": "code",
   "execution_count": 740,
   "metadata": {},
   "outputs": [
    {
     "data": {
      "text/plain": [
       "'/Users/peabody/Documents/galvanize/capstones/strava/data/karyn_peabody'"
      ]
     },
     "execution_count": 740,
     "metadata": {},
     "output_type": "execute_result"
    }
   ],
   "source": [
    "os.getcwd()"
   ]
  },
  {
   "cell_type": "code",
   "execution_count": 759,
   "metadata": {
    "scrolled": false
   },
   "outputs": [
    {
     "name": "stdout",
     "output_type": "stream",
     "text": [
      "segments_df successfully loaded\n"
     ]
    }
   ],
   "source": [
    "try:\n",
    "    segments_df = pd.read_csv('segments_df.csv')\n",
    "    print('segments_df successfully loaded')\n",
    "except:\n",
    "    while ride_index <= rides_left:\n",
    "        try:\n",
    "            for ride in range(ride_index, rides_left):\n",
    "                activity = client.get_activity(rides[ride], include_all_efforts=True)\n",
    "                for segment in activity.segment_efforts:\n",
    "                    try:\n",
    "                        activity.gear.name\n",
    "                        segments_df = segments_df.append({'ride_name' : activity.name,\n",
    "                                                          'ride_id' : activity.id,\n",
    "                                                          'bike' : activity.gear.name, \n",
    "                                                          'ride_distance' : activity.distance, \n",
    "                                                          'ride_moving_time' : activity.moving_time, \n",
    "                                                          'ride_elapsed_time' : activity.elapsed_time, \n",
    "                                                          'ride_elevation_gain' : activity.total_elevation_gain, \n",
    "                                                          'ride_start_time' : activity.start_date_local,\n",
    "                                                          'segment_id' : segment.segment.id},\n",
    "                                                         ignore_index=True)\n",
    "                    except AttributeError: #if activity.gear.name is missing, skip it\n",
    "                        segments_df = segments_df.append({'ride_name' : activity.name,\n",
    "                                                          'ride_id' : activity.id,\n",
    "                                                          'ride_distance' : activity.distance, \n",
    "                                                          'ride_moving_time' : activity.moving_time, \n",
    "                                                          'ride_elapsed_time' : activity.elapsed_time, \n",
    "                                                          'ride_elevation_gain' : activity.total_elevation_gain, \n",
    "                                                          'ride_start_time' : activity.start_date_local,\n",
    "                                                          'segment_id' : segment.segment.id},\n",
    "                                                         ignore_index=True)\n",
    "                ride_index += 1\n",
    "                if ride_index % 50 == 0:\n",
    "                    print('Last ride downloaded: id:{} {}'.format(segments_df.tail(1).iloc[0,1],\n",
    "                                                                   segments_df.tail(1).iloc[0,0]))\n",
    "                    print('It is {0}. Segments for {1} rides downloaded. {2} rides to go'\n",
    "                          .format(datetime.datetime.now().strftime(\"%H:%M\"),\n",
    "                                  ride_index, \n",
    "                                  rides_left-ride_index))\n",
    "        except:\n",
    "            wait = 0\n",
    "            print('rate limit exceeded, need to wait 15')\n",
    "            print('it is now {} minutes after the hour'.format(datetime.datetime.now().minute))\n",
    "            time.sleep(60*16)\n",
    "            print('trying again...')\n",
    "    print('segments for all {} rides downloaded'.format(ride_index))"
   ]
  },
  {
   "cell_type": "code",
   "execution_count": 760,
   "metadata": {},
   "outputs": [
    {
     "data": {
      "text/plain": [
       "(13666, 9)"
      ]
     },
     "execution_count": 760,
     "metadata": {},
     "output_type": "execute_result"
    }
   ],
   "source": [
    "segments_df.shape"
   ]
  },
  {
   "cell_type": "code",
   "execution_count": 755,
   "metadata": {},
   "outputs": [],
   "source": [
    "segments_df.to_csv('segments_df.csv', index=False)"
   ]
  },
  {
   "cell_type": "code",
   "execution_count": 744,
   "metadata": {},
   "outputs": [
    {
     "name": "stdout",
     "output_type": "stream",
     "text": [
      "ride index: 520\n",
      "unique rides downloaded: 511\n",
      "unique segments downloaded: 3909\n"
     ]
    }
   ],
   "source": [
    "print('ride index: {}'.format(ride_index))\n",
    "print('unique rides downloaded: {}'.format(len(segments_df.ride_id.unique())))\n",
    "print('unique segments downloaded: {}'.format(len(segments_df.segment_id.unique())))\n"
   ]
  },
  {
   "cell_type": "code",
   "execution_count": 920,
   "metadata": {},
   "outputs": [
    {
     "ename": "KeyError",
     "evalue": "\"['Unnamed: 0'] not found in axis\"",
     "output_type": "error",
     "traceback": [
      "\u001b[0;31m---------------------------------------------------------------------------\u001b[0m",
      "\u001b[0;31mKeyError\u001b[0m                                  Traceback (most recent call last)",
      "\u001b[0;32m<ipython-input-920-c0ca009610cc>\u001b[0m in \u001b[0;36m<module>\u001b[0;34m\u001b[0m\n\u001b[1;32m      1\u001b[0m \u001b[0;31m#segments_df = segments_df.drop(['Unnamed: 0','Unnamed: 0.1','Unnamed: 0.1.1','Unnamed: 0.1.1.1'], axis=1)\u001b[0m\u001b[0;34m\u001b[0m\u001b[0;34m\u001b[0m\u001b[0;34m\u001b[0m\u001b[0m\n\u001b[0;32m----> 2\u001b[0;31m \u001b[0msegments_df\u001b[0m \u001b[0;34m=\u001b[0m \u001b[0msegments_df\u001b[0m\u001b[0;34m.\u001b[0m\u001b[0mdrop\u001b[0m\u001b[0;34m(\u001b[0m\u001b[0;34m[\u001b[0m\u001b[0;34m'Unnamed: 0'\u001b[0m\u001b[0;34m]\u001b[0m\u001b[0;34m,\u001b[0m \u001b[0maxis\u001b[0m\u001b[0;34m=\u001b[0m\u001b[0;36m1\u001b[0m\u001b[0;34m)\u001b[0m\u001b[0;34m\u001b[0m\u001b[0;34m\u001b[0m\u001b[0m\n\u001b[0m\u001b[1;32m      3\u001b[0m \u001b[0msegments_df\u001b[0m\u001b[0;34m.\u001b[0m\u001b[0mhead\u001b[0m\u001b[0;34m(\u001b[0m\u001b[0;34m)\u001b[0m\u001b[0;34m\u001b[0m\u001b[0;34m\u001b[0m\u001b[0m\n",
      "\u001b[0;32m/anaconda3/lib/python3.7/site-packages/pandas/core/frame.py\u001b[0m in \u001b[0;36mdrop\u001b[0;34m(self, labels, axis, index, columns, level, inplace, errors)\u001b[0m\n\u001b[1;32m   3938\u001b[0m                                            \u001b[0mindex\u001b[0m\u001b[0;34m=\u001b[0m\u001b[0mindex\u001b[0m\u001b[0;34m,\u001b[0m \u001b[0mcolumns\u001b[0m\u001b[0;34m=\u001b[0m\u001b[0mcolumns\u001b[0m\u001b[0;34m,\u001b[0m\u001b[0;34m\u001b[0m\u001b[0;34m\u001b[0m\u001b[0m\n\u001b[1;32m   3939\u001b[0m                                            \u001b[0mlevel\u001b[0m\u001b[0;34m=\u001b[0m\u001b[0mlevel\u001b[0m\u001b[0;34m,\u001b[0m \u001b[0minplace\u001b[0m\u001b[0;34m=\u001b[0m\u001b[0minplace\u001b[0m\u001b[0;34m,\u001b[0m\u001b[0;34m\u001b[0m\u001b[0;34m\u001b[0m\u001b[0m\n\u001b[0;32m-> 3940\u001b[0;31m                                            errors=errors)\n\u001b[0m\u001b[1;32m   3941\u001b[0m \u001b[0;34m\u001b[0m\u001b[0m\n\u001b[1;32m   3942\u001b[0m     @rewrite_axis_style_signature('mapper', [('copy', True),\n",
      "\u001b[0;32m/anaconda3/lib/python3.7/site-packages/pandas/core/generic.py\u001b[0m in \u001b[0;36mdrop\u001b[0;34m(self, labels, axis, index, columns, level, inplace, errors)\u001b[0m\n\u001b[1;32m   3778\u001b[0m         \u001b[0;32mfor\u001b[0m \u001b[0maxis\u001b[0m\u001b[0;34m,\u001b[0m \u001b[0mlabels\u001b[0m \u001b[0;32min\u001b[0m \u001b[0maxes\u001b[0m\u001b[0;34m.\u001b[0m\u001b[0mitems\u001b[0m\u001b[0;34m(\u001b[0m\u001b[0;34m)\u001b[0m\u001b[0;34m:\u001b[0m\u001b[0;34m\u001b[0m\u001b[0;34m\u001b[0m\u001b[0m\n\u001b[1;32m   3779\u001b[0m             \u001b[0;32mif\u001b[0m \u001b[0mlabels\u001b[0m \u001b[0;32mis\u001b[0m \u001b[0;32mnot\u001b[0m \u001b[0;32mNone\u001b[0m\u001b[0;34m:\u001b[0m\u001b[0;34m\u001b[0m\u001b[0;34m\u001b[0m\u001b[0m\n\u001b[0;32m-> 3780\u001b[0;31m                 \u001b[0mobj\u001b[0m \u001b[0;34m=\u001b[0m \u001b[0mobj\u001b[0m\u001b[0;34m.\u001b[0m\u001b[0m_drop_axis\u001b[0m\u001b[0;34m(\u001b[0m\u001b[0mlabels\u001b[0m\u001b[0;34m,\u001b[0m \u001b[0maxis\u001b[0m\u001b[0;34m,\u001b[0m \u001b[0mlevel\u001b[0m\u001b[0;34m=\u001b[0m\u001b[0mlevel\u001b[0m\u001b[0;34m,\u001b[0m \u001b[0merrors\u001b[0m\u001b[0;34m=\u001b[0m\u001b[0merrors\u001b[0m\u001b[0;34m)\u001b[0m\u001b[0;34m\u001b[0m\u001b[0;34m\u001b[0m\u001b[0m\n\u001b[0m\u001b[1;32m   3781\u001b[0m \u001b[0;34m\u001b[0m\u001b[0m\n\u001b[1;32m   3782\u001b[0m         \u001b[0;32mif\u001b[0m \u001b[0minplace\u001b[0m\u001b[0;34m:\u001b[0m\u001b[0;34m\u001b[0m\u001b[0;34m\u001b[0m\u001b[0m\n",
      "\u001b[0;32m/anaconda3/lib/python3.7/site-packages/pandas/core/generic.py\u001b[0m in \u001b[0;36m_drop_axis\u001b[0;34m(self, labels, axis, level, errors)\u001b[0m\n\u001b[1;32m   3810\u001b[0m                 \u001b[0mnew_axis\u001b[0m \u001b[0;34m=\u001b[0m \u001b[0maxis\u001b[0m\u001b[0;34m.\u001b[0m\u001b[0mdrop\u001b[0m\u001b[0;34m(\u001b[0m\u001b[0mlabels\u001b[0m\u001b[0;34m,\u001b[0m \u001b[0mlevel\u001b[0m\u001b[0;34m=\u001b[0m\u001b[0mlevel\u001b[0m\u001b[0;34m,\u001b[0m \u001b[0merrors\u001b[0m\u001b[0;34m=\u001b[0m\u001b[0merrors\u001b[0m\u001b[0;34m)\u001b[0m\u001b[0;34m\u001b[0m\u001b[0;34m\u001b[0m\u001b[0m\n\u001b[1;32m   3811\u001b[0m             \u001b[0;32melse\u001b[0m\u001b[0;34m:\u001b[0m\u001b[0;34m\u001b[0m\u001b[0;34m\u001b[0m\u001b[0m\n\u001b[0;32m-> 3812\u001b[0;31m                 \u001b[0mnew_axis\u001b[0m \u001b[0;34m=\u001b[0m \u001b[0maxis\u001b[0m\u001b[0;34m.\u001b[0m\u001b[0mdrop\u001b[0m\u001b[0;34m(\u001b[0m\u001b[0mlabels\u001b[0m\u001b[0;34m,\u001b[0m \u001b[0merrors\u001b[0m\u001b[0;34m=\u001b[0m\u001b[0merrors\u001b[0m\u001b[0;34m)\u001b[0m\u001b[0;34m\u001b[0m\u001b[0;34m\u001b[0m\u001b[0m\n\u001b[0m\u001b[1;32m   3813\u001b[0m             \u001b[0mresult\u001b[0m \u001b[0;34m=\u001b[0m \u001b[0mself\u001b[0m\u001b[0;34m.\u001b[0m\u001b[0mreindex\u001b[0m\u001b[0;34m(\u001b[0m\u001b[0;34m**\u001b[0m\u001b[0;34m{\u001b[0m\u001b[0maxis_name\u001b[0m\u001b[0;34m:\u001b[0m \u001b[0mnew_axis\u001b[0m\u001b[0;34m}\u001b[0m\u001b[0;34m)\u001b[0m\u001b[0;34m\u001b[0m\u001b[0;34m\u001b[0m\u001b[0m\n\u001b[1;32m   3814\u001b[0m \u001b[0;34m\u001b[0m\u001b[0m\n",
      "\u001b[0;32m/anaconda3/lib/python3.7/site-packages/pandas/core/indexes/base.py\u001b[0m in \u001b[0;36mdrop\u001b[0;34m(self, labels, errors)\u001b[0m\n\u001b[1;32m   4963\u001b[0m             \u001b[0;32mif\u001b[0m \u001b[0merrors\u001b[0m \u001b[0;34m!=\u001b[0m \u001b[0;34m'ignore'\u001b[0m\u001b[0;34m:\u001b[0m\u001b[0;34m\u001b[0m\u001b[0;34m\u001b[0m\u001b[0m\n\u001b[1;32m   4964\u001b[0m                 raise KeyError(\n\u001b[0;32m-> 4965\u001b[0;31m                     '{} not found in axis'.format(labels[mask]))\n\u001b[0m\u001b[1;32m   4966\u001b[0m             \u001b[0mindexer\u001b[0m \u001b[0;34m=\u001b[0m \u001b[0mindexer\u001b[0m\u001b[0;34m[\u001b[0m\u001b[0;34m~\u001b[0m\u001b[0mmask\u001b[0m\u001b[0;34m]\u001b[0m\u001b[0;34m\u001b[0m\u001b[0;34m\u001b[0m\u001b[0m\n\u001b[1;32m   4967\u001b[0m         \u001b[0;32mreturn\u001b[0m \u001b[0mself\u001b[0m\u001b[0;34m.\u001b[0m\u001b[0mdelete\u001b[0m\u001b[0;34m(\u001b[0m\u001b[0mindexer\u001b[0m\u001b[0;34m)\u001b[0m\u001b[0;34m\u001b[0m\u001b[0;34m\u001b[0m\u001b[0m\n",
      "\u001b[0;31mKeyError\u001b[0m: \"['Unnamed: 0'] not found in axis\""
     ]
    }
   ],
   "source": [
    "#segments_df = segments_df.drop(['Unnamed: 0','Unnamed: 0.1','Unnamed: 0.1.1','Unnamed: 0.1.1.1'], axis=1)\n",
    "#segments_df = segments_df.drop(['Unnamed: 0'], axis=1)\n",
    "segments_df.head()"
   ]
  },
  {
   "cell_type": "code",
   "execution_count": 761,
   "metadata": {},
   "outputs": [
    {
     "data": {
      "text/plain": [
       "(13077, 9)"
      ]
     },
     "execution_count": 761,
     "metadata": {},
     "output_type": "execute_result"
    }
   ],
   "source": [
    "segments_df.sort_values(\"ride_id\", inplace=True)\n",
    "segments_df.drop_duplicates(keep='first',inplace=True)\n",
    "segments_df.shape"
   ]
  },
  {
   "cell_type": "code",
   "execution_count": 398,
   "metadata": {},
   "outputs": [],
   "source": [
    "remove_meters_label(segments_df, 'ride_distance')\n",
    "meters_to_miles(segments_df, 'ride_distance')\n",
    "remove_meters_label(segments_df, 'ride_elevation_gain')\n",
    "meters_to_feet(segments_df, 'ride_elevation_gain')\n",
    "\n",
    "#convert_ride_time(segments_df,'ride_moving_time')\n",
    "#convert_ride_time(segments_df,'ride_elapsed_time')"
   ]
  },
  {
   "cell_type": "code",
   "execution_count": 749,
   "metadata": {},
   "outputs": [
    {
     "data": {
      "text/html": [
       "<div>\n",
       "<style scoped>\n",
       "    .dataframe tbody tr th:only-of-type {\n",
       "        vertical-align: middle;\n",
       "    }\n",
       "\n",
       "    .dataframe tbody tr th {\n",
       "        vertical-align: top;\n",
       "    }\n",
       "\n",
       "    .dataframe thead th {\n",
       "        text-align: right;\n",
       "    }\n",
       "</style>\n",
       "<table border=\"1\" class=\"dataframe\">\n",
       "  <thead>\n",
       "    <tr style=\"text-align: right;\">\n",
       "      <th></th>\n",
       "      <th>ride_name</th>\n",
       "      <th>ride_id</th>\n",
       "      <th>bike</th>\n",
       "      <th>ride_distance</th>\n",
       "      <th>ride_moving_time</th>\n",
       "      <th>ride_elapsed_time</th>\n",
       "      <th>ride_elevation_gain</th>\n",
       "      <th>ride_start_time</th>\n",
       "      <th>segment_id</th>\n",
       "    </tr>\n",
       "  </thead>\n",
       "  <tbody>\n",
       "    <tr>\n",
       "      <th>0</th>\n",
       "      <td>Mountain Top Ride</td>\n",
       "      <td>59116770</td>\n",
       "      <td>NaN</td>\n",
       "      <td>9932.90 m</td>\n",
       "      <td>00:54:03</td>\n",
       "      <td>01:03:52</td>\n",
       "      <td>264.40 m</td>\n",
       "      <td>2013-06-08 17:22:55</td>\n",
       "      <td>1370940</td>\n",
       "    </tr>\n",
       "    <tr>\n",
       "      <th>1</th>\n",
       "      <td>Mountain Top Ride</td>\n",
       "      <td>59116770</td>\n",
       "      <td>NaN</td>\n",
       "      <td>9932.90 m</td>\n",
       "      <td>00:54:03</td>\n",
       "      <td>01:03:52</td>\n",
       "      <td>264.40 m</td>\n",
       "      <td>2013-06-08 17:22:55</td>\n",
       "      <td>15316909</td>\n",
       "    </tr>\n",
       "    <tr>\n",
       "      <th>2</th>\n",
       "      <td>Mountain Top Ride</td>\n",
       "      <td>59116770</td>\n",
       "      <td>NaN</td>\n",
       "      <td>9932.90 m</td>\n",
       "      <td>00:54:03</td>\n",
       "      <td>01:03:52</td>\n",
       "      <td>264.40 m</td>\n",
       "      <td>2013-06-08 17:22:55</td>\n",
       "      <td>2127168</td>\n",
       "    </tr>\n",
       "    <tr>\n",
       "      <th>3</th>\n",
       "      <td>Mountain Top Ride</td>\n",
       "      <td>59116770</td>\n",
       "      <td>NaN</td>\n",
       "      <td>9932.90 m</td>\n",
       "      <td>00:54:03</td>\n",
       "      <td>01:03:52</td>\n",
       "      <td>264.40 m</td>\n",
       "      <td>2013-06-08 17:22:55</td>\n",
       "      <td>1169578</td>\n",
       "    </tr>\n",
       "    <tr>\n",
       "      <th>4</th>\n",
       "      <td>Mountain Top Ride</td>\n",
       "      <td>59116770</td>\n",
       "      <td>NaN</td>\n",
       "      <td>9932.90 m</td>\n",
       "      <td>00:54:03</td>\n",
       "      <td>01:03:52</td>\n",
       "      <td>264.40 m</td>\n",
       "      <td>2013-06-08 17:22:55</td>\n",
       "      <td>4291122</td>\n",
       "    </tr>\n",
       "  </tbody>\n",
       "</table>\n",
       "</div>"
      ],
      "text/plain": [
       "           ride_name   ride_id bike ride_distance ride_moving_time  \\\n",
       "0  Mountain Top Ride  59116770  NaN     9932.90 m         00:54:03   \n",
       "1  Mountain Top Ride  59116770  NaN     9932.90 m         00:54:03   \n",
       "2  Mountain Top Ride  59116770  NaN     9932.90 m         00:54:03   \n",
       "3  Mountain Top Ride  59116770  NaN     9932.90 m         00:54:03   \n",
       "4  Mountain Top Ride  59116770  NaN     9932.90 m         00:54:03   \n",
       "\n",
       "  ride_elapsed_time ride_elevation_gain     ride_start_time segment_id  \n",
       "0          01:03:52            264.40 m 2013-06-08 17:22:55    1370940  \n",
       "1          01:03:52            264.40 m 2013-06-08 17:22:55   15316909  \n",
       "2          01:03:52            264.40 m 2013-06-08 17:22:55    2127168  \n",
       "3          01:03:52            264.40 m 2013-06-08 17:22:55    1169578  \n",
       "4          01:03:52            264.40 m 2013-06-08 17:22:55    4291122  "
      ]
     },
     "execution_count": 749,
     "metadata": {},
     "output_type": "execute_result"
    }
   ],
   "source": [
    "segments_df.head()"
   ]
  },
  {
   "cell_type": "code",
   "execution_count": 762,
   "metadata": {},
   "outputs": [
    {
     "name": "stdout",
     "output_type": "stream",
     "text": [
      "shape before drop na:(13077, 9)\n"
     ]
    }
   ],
   "source": [
    "print('shape before drop na:{}'.format(segments_df.shape))\n",
    "#segments_df = segments_df.dropna()\n",
    "#print('shape after drop na:{}'.format(segments_df.shape))"
   ]
  },
  {
   "cell_type": "code",
   "execution_count": 763,
   "metadata": {},
   "outputs": [
    {
     "name": "stdout",
     "output_type": "stream",
     "text": [
      "[nan 'Space Unicorn']\n",
      "2\n"
     ]
    }
   ],
   "source": [
    "print(segments_df.bike.unique())\n",
    "print(len(segments_df.bike.unique()))"
   ]
  },
  {
   "cell_type": "code",
   "execution_count": 402,
   "metadata": {},
   "outputs": [
    {
     "name": "stdout",
     "output_type": "stream",
     "text": [
      "['Road' 'FS Trail' 'DJ' 'Road + Burley' 'Formerly Singlespeed' 'SDF-2'\n",
      " 'Destro' 'Fixed' 'FatFeld' 'Galvatron' 'Carbon Road' 'Trogdor']\n",
      "12\n"
     ]
    }
   ],
   "source": [
    "segments_df = segments_df[~segments_df.bike.isin(['CA Hardtail','Rented/Borrowed/Stolen '])]\n",
    "print(segments_df.bike.unique())\n",
    "print(len(segments_df.bike.unique()))"
   ]
  },
  {
   "cell_type": "code",
   "execution_count": 403,
   "metadata": {},
   "outputs": [],
   "source": [
    "segments_df['bike_type'] = segments_df['bike'].apply(lambda x: 'Road' if x in ['Carbon Road',\n",
    "                                                                               'Road + Burley',\n",
    "                                                                               'Road',\n",
    "                                                                               'Fixed'] \n",
    "                                                                               else 'Mountain')"
   ]
  },
  {
   "cell_type": "code",
   "execution_count": 421,
   "metadata": {},
   "outputs": [
    {
     "data": {
      "text/html": [
       "<div>\n",
       "<style scoped>\n",
       "    .dataframe tbody tr th:only-of-type {\n",
       "        vertical-align: middle;\n",
       "    }\n",
       "\n",
       "    .dataframe tbody tr th {\n",
       "        vertical-align: top;\n",
       "    }\n",
       "\n",
       "    .dataframe thead th {\n",
       "        text-align: right;\n",
       "    }\n",
       "</style>\n",
       "<table border=\"1\" class=\"dataframe\">\n",
       "  <thead>\n",
       "    <tr style=\"text-align: right;\">\n",
       "      <th></th>\n",
       "      <th>bike_type</th>\n",
       "      <th>bike</th>\n",
       "      <th>number_of_attempts</th>\n",
       "    </tr>\n",
       "  </thead>\n",
       "  <tbody>\n",
       "    <tr>\n",
       "      <th>0</th>\n",
       "      <td>Mountain</td>\n",
       "      <td>DJ</td>\n",
       "      <td>369</td>\n",
       "    </tr>\n",
       "    <tr>\n",
       "      <th>1</th>\n",
       "      <td>Mountain</td>\n",
       "      <td>Destro</td>\n",
       "      <td>14030</td>\n",
       "    </tr>\n",
       "    <tr>\n",
       "      <th>2</th>\n",
       "      <td>Mountain</td>\n",
       "      <td>FS Trail</td>\n",
       "      <td>2120</td>\n",
       "    </tr>\n",
       "    <tr>\n",
       "      <th>3</th>\n",
       "      <td>Mountain</td>\n",
       "      <td>FatFeld</td>\n",
       "      <td>590</td>\n",
       "    </tr>\n",
       "    <tr>\n",
       "      <th>4</th>\n",
       "      <td>Mountain</td>\n",
       "      <td>Formerly Singlespeed</td>\n",
       "      <td>2554</td>\n",
       "    </tr>\n",
       "    <tr>\n",
       "      <th>5</th>\n",
       "      <td>Mountain</td>\n",
       "      <td>Galvatron</td>\n",
       "      <td>3502</td>\n",
       "    </tr>\n",
       "    <tr>\n",
       "      <th>6</th>\n",
       "      <td>Mountain</td>\n",
       "      <td>SDF-2</td>\n",
       "      <td>1015</td>\n",
       "    </tr>\n",
       "    <tr>\n",
       "      <th>7</th>\n",
       "      <td>Mountain</td>\n",
       "      <td>Trogdor</td>\n",
       "      <td>5470</td>\n",
       "    </tr>\n",
       "    <tr>\n",
       "      <th>8</th>\n",
       "      <td>Road</td>\n",
       "      <td>Carbon Road</td>\n",
       "      <td>4318</td>\n",
       "    </tr>\n",
       "    <tr>\n",
       "      <th>9</th>\n",
       "      <td>Road</td>\n",
       "      <td>Fixed</td>\n",
       "      <td>164</td>\n",
       "    </tr>\n",
       "    <tr>\n",
       "      <th>10</th>\n",
       "      <td>Road</td>\n",
       "      <td>Road</td>\n",
       "      <td>23026</td>\n",
       "    </tr>\n",
       "    <tr>\n",
       "      <th>11</th>\n",
       "      <td>Road</td>\n",
       "      <td>Road + Burley</td>\n",
       "      <td>862</td>\n",
       "    </tr>\n",
       "  </tbody>\n",
       "</table>\n",
       "</div>"
      ],
      "text/plain": [
       "   bike_type                  bike  number_of_attempts\n",
       "0   Mountain                    DJ                 369\n",
       "1   Mountain                Destro               14030\n",
       "2   Mountain              FS Trail                2120\n",
       "3   Mountain               FatFeld                 590\n",
       "4   Mountain  Formerly Singlespeed                2554\n",
       "5   Mountain             Galvatron                3502\n",
       "6   Mountain                 SDF-2                1015\n",
       "7   Mountain               Trogdor                5470\n",
       "8       Road           Carbon Road                4318\n",
       "9       Road                 Fixed                 164\n",
       "10      Road                  Road               23026\n",
       "11      Road         Road + Burley                 862"
      ]
     },
     "execution_count": 421,
     "metadata": {},
     "output_type": "execute_result"
    }
   ],
   "source": [
    "segments_by_bike = segments_df.groupby(['bike_type','bike']).count().iloc[:,1].reset_index()\n",
    "segments_by_bike.rename(columns={\"ride_id\": \"number_of_attempts\"}, inplace = True)\n",
    "segments_by_bike"
   ]
  },
  {
   "cell_type": "code",
   "execution_count": 422,
   "metadata": {},
   "outputs": [
    {
     "data": {
      "text/html": [
       "<div>\n",
       "<style scoped>\n",
       "    .dataframe tbody tr th:only-of-type {\n",
       "        vertical-align: middle;\n",
       "    }\n",
       "\n",
       "    .dataframe tbody tr th {\n",
       "        vertical-align: top;\n",
       "    }\n",
       "\n",
       "    .dataframe thead th {\n",
       "        text-align: right;\n",
       "    }\n",
       "</style>\n",
       "<table border=\"1\" class=\"dataframe\">\n",
       "  <thead>\n",
       "    <tr style=\"text-align: right;\">\n",
       "      <th></th>\n",
       "      <th>bike_type</th>\n",
       "      <th>number_of_attempts</th>\n",
       "    </tr>\n",
       "  </thead>\n",
       "  <tbody>\n",
       "    <tr>\n",
       "      <th>0</th>\n",
       "      <td>Mountain</td>\n",
       "      <td>29650</td>\n",
       "    </tr>\n",
       "    <tr>\n",
       "      <th>1</th>\n",
       "      <td>Road</td>\n",
       "      <td>28370</td>\n",
       "    </tr>\n",
       "  </tbody>\n",
       "</table>\n",
       "</div>"
      ],
      "text/plain": [
       "  bike_type  number_of_attempts\n",
       "0  Mountain               29650\n",
       "1      Road               28370"
      ]
     },
     "execution_count": 422,
     "metadata": {},
     "output_type": "execute_result"
    }
   ],
   "source": [
    "segments_by_bike_type = segments_df.groupby(['bike_type']).count().iloc[:,1].reset_index()\n",
    "segments_by_bike_type.rename(columns={\"ride_id\": \"number_of_attempts\"}, inplace = True)\n",
    "segments_by_bike_type"
   ]
  },
  {
   "cell_type": "code",
   "execution_count": 427,
   "metadata": {},
   "outputs": [
    {
     "data": {
      "image/png": "[encoded data removed]",
      "text/plain": [
       "<Figure size 576x288 with 2 Axes>"
      ]
     },
     "metadata": {
      "needs_background": "light"
     },
     "output_type": "display_data"
    }
   ],
   "source": [
    "fig, ax = plt.subplots(1,2, figsize = (8,4))\n",
    "    \n",
    "sns.barplot(x=\"bike_type\", y = 'number_of_attempts', data=segments_by_bike_type, ax=ax[0])\n",
    "sns.barplot(x=\"bike\", y = 'number_of_attempts', data=segments_by_bike, ax=ax[1])\n",
    "ax[1].set_title('bike')\n",
    "ax[1].set_xticklabels(ax[1].get_xticklabels(), rotation=90, ha=\"right\")\n",
    "plt.tight_layout()"
   ]
  },
  {
   "cell_type": "code",
   "execution_count": 769,
   "metadata": {},
   "outputs": [],
   "source": [
    "# The following was figured out by viewing the output of get_segment_efforts as a dictionary. \n",
    "# segment_id and effort_id were added in after-the-fact.\n",
    "efforts_columns = ['segment_id',\n",
    "                   'effort_id',\n",
    "                   'name',\n",
    "                   'start_date',\n",
    "                   'moving_time',\n",
    "                   'elapsed_time',\n",
    "                   'average_heartrate',\n",
    "                   'max_heartrate']\n",
    "efforts_df = pd.DataFrame(columns = efforts_columns)"
   ]
  },
  {
   "cell_type": "code",
   "execution_count": 915,
   "metadata": {},
   "outputs": [
    {
     "data": {
      "text/plain": [
       "numpy.ndarray"
      ]
     },
     "execution_count": 915,
     "metadata": {},
     "output_type": "execute_result"
    }
   ],
   "source": [
    "type(efforts_df.segment_id.unique())"
   ]
  },
  {
   "cell_type": "code",
   "execution_count": 770,
   "metadata": {},
   "outputs": [
    {
     "data": {
      "text/html": [
       "<div>\n",
       "<style scoped>\n",
       "    .dataframe tbody tr th:only-of-type {\n",
       "        vertical-align: middle;\n",
       "    }\n",
       "\n",
       "    .dataframe tbody tr th {\n",
       "        vertical-align: top;\n",
       "    }\n",
       "\n",
       "    .dataframe thead th {\n",
       "        text-align: right;\n",
       "    }\n",
       "</style>\n",
       "<table border=\"1\" class=\"dataframe\">\n",
       "  <thead>\n",
       "    <tr style=\"text-align: right;\">\n",
       "      <th></th>\n",
       "      <th>segment_id</th>\n",
       "      <th>effort_id</th>\n",
       "      <th>name</th>\n",
       "      <th>start_date</th>\n",
       "      <th>moving_time</th>\n",
       "      <th>elapsed_time</th>\n",
       "      <th>average_heartrate</th>\n",
       "      <th>max_heartrate</th>\n",
       "    </tr>\n",
       "  </thead>\n",
       "  <tbody>\n",
       "  </tbody>\n",
       "</table>\n",
       "</div>"
      ],
      "text/plain": [
       "Empty DataFrame\n",
       "Columns: [segment_id, effort_id, name, start_date, moving_time, elapsed_time, average_heartrate, max_heartrate]\n",
       "Index: []"
      ]
     },
     "execution_count": 770,
     "metadata": {},
     "output_type": "execute_result"
    }
   ],
   "source": [
    "efforts_df.head()"
   ]
  },
  {
   "cell_type": "code",
   "execution_count": 771,
   "metadata": {},
   "outputs": [
    {
     "data": {
      "text/plain": [
       "'/Users/peabody/Documents/galvanize/capstones/strava/data/karyn_peabody'"
      ]
     },
     "execution_count": 771,
     "metadata": {},
     "output_type": "execute_result"
    }
   ],
   "source": [
    "os.getcwd()"
   ]
  },
  {
   "cell_type": "code",
   "execution_count": 789,
   "metadata": {},
   "outputs": [
    {
     "name": "stdout",
     "output_type": "stream",
     "text": [
      "efforts df successfully_loaded\n",
      "segments with efforts: 574\n",
      "segments with no efforts: 3335\n"
     ]
    }
   ],
   "source": [
    "segment_ids = set(segments_df.segment_id)\n",
    "segment_ids = list(segment_ids)\n",
    "\n",
    "try:\n",
    "    efforts_df = pd.read_csv('efforts_df.csv')\n",
    "    print('efforts df successfully_loaded')\n",
    "    effort_segs = efforts_df.segment_id.unique()\n",
    "    remaining_effort_segs = list(np.setdiff1d(segments_df.segment_id,effort_segs))\n",
    "    print('segments with efforts: {}'.format(len(effort_segs)))\n",
    "    print('segments with no efforts: {}'.format(len(remaining_effort_segs)))\n",
    "except FileNotFoundError:\n",
    "    print('file not found')\n",
    "    remaining_effort_segs = list(segments_df.segment_id.unique())\n",
    "    print('segments to gather efforts for: {}'.format(len(remaining_effort_segs)))"
   ]
  },
  {
   "cell_type": "code",
   "execution_count": 790,
   "metadata": {},
   "outputs": [
    {
     "data": {
      "text/plain": [
       "3909"
      ]
     },
     "execution_count": 790,
     "metadata": {},
     "output_type": "execute_result"
    }
   ],
   "source": [
    "segment_ids = set(segments_df.segment_id)\n",
    "segment_ids = list(segment_ids)\n",
    "total_segments = len(segment_ids)\n",
    "total_segments"
   ]
  },
  {
   "cell_type": "code",
   "execution_count": 791,
   "metadata": {},
   "outputs": [
    {
     "data": {
      "text/plain": [
       "3335"
      ]
     },
     "execution_count": 791,
     "metadata": {},
     "output_type": "execute_result"
    }
   ],
   "source": [
    "effort_segs_to_download = len(remaining_effort_segs)\n",
    "effort_segs_to_download"
   ]
  },
  {
   "cell_type": "code",
   "execution_count": 792,
   "metadata": {},
   "outputs": [],
   "source": [
    "effort_segment_index = 0"
   ]
  },
  {
   "cell_type": "code",
   "execution_count": 793,
   "metadata": {},
   "outputs": [
    {
     "data": {
      "text/plain": [
       "0"
      ]
     },
     "execution_count": 793,
     "metadata": {},
     "output_type": "execute_result"
    }
   ],
   "source": [
    "effort_segment_index"
   ]
  },
  {
   "cell_type": "code",
   "execution_count": 840,
   "metadata": {},
   "outputs": [
    {
     "name": "stdout",
     "output_type": "stream",
     "text": [
      "efforts_df before drop duplicates: (4599, 8)\n",
      "unique seqments with efforts before drop duplicates: (1249,)\n",
      "efforts_df after drop duplicates: (4599, 8)\n",
      "unique seqments with efforts after drop duplicates: (1249,)\n"
     ]
    }
   ],
   "source": [
    "print('efforts_df before drop duplicates: {}'.format(efforts_df.shape))\n",
    "print('unique seqments with efforts before drop duplicates: {}'.format(efforts_df.segment_id.unique().shape))\n",
    "efforts_df.drop_duplicates(keep='first',inplace=True)\n",
    "print('efforts_df after drop duplicates: {}'.format(efforts_df.shape))\n",
    "print('unique seqments with efforts after drop duplicates: {}'.format(efforts_df.segment_id.unique().shape))"
   ]
  },
  {
   "cell_type": "code",
   "execution_count": 841,
   "metadata": {},
   "outputs": [
    {
     "name": "stdout",
     "output_type": "stream",
     "text": [
      "efforts to dowload: {} 2786\n"
     ]
    },
    {
     "data": {
      "text/plain": [
       "0"
      ]
     },
     "execution_count": 841,
     "metadata": {},
     "output_type": "execute_result"
    }
   ],
   "source": [
    "effort_segment_index = 0\n",
    "\n",
    "remaining_effort_segs = list(np.setdiff1d(segments_df.segment_id,effort_segs))\n",
    "effort_segs_to_download = len(remaining_effort_segs)\n",
    "print('efforts to dowload: {}',effort_segs_to_download)\n",
    "\n",
    "effort_segment_index"
   ]
  },
  {
   "cell_type": "code",
   "execution_count": 843,
   "metadata": {},
   "outputs": [
    {
     "name": "stdout",
     "output_type": "stream",
     "text": [
      "#49, segment id: 22049302\n",
      "#99, segment id: 4101973\n",
      "#149, segment id: 4277275\n",
      "#199, segment id: 4404972\n",
      "#249, segment id: 4653513\n",
      "#299, segment id: 4824448\n",
      "#349, segment id: 4965520\n",
      "#399, segment id: 5229678\n",
      "#449, segment id: 5421085\n",
      "#499, segment id: 5670409\n",
      "#549, segment id: 5918332\n",
      "#599, segment id: 6306821\n",
      "#649, segment id: 6891185\n",
      "#699, segment id: 7097256\n",
      "#749, segment id: 7336342\n",
      "#799, segment id: 7520918\n",
      "#849, segment id: 7755895\n",
      "#899, segment id: 7962943\n",
      "#949, segment id: 8156117\n",
      "#999, segment id: 8327275\n",
      "#1049, segment id: 8486352\n",
      "#1099, segment id: 8905869\n",
      "#1149, segment id: 9337338\n",
      "#1199, segment id: 9598272\n"
     ]
    }
   ],
   "source": [
    "for i in range(0,24):\n",
    "    print('#{}, segment id: {}'.format(i*50+49,remaining_effort_segs[i*50-1]))\n",
    "    #print('#{}, segment id: {}'.format(i*50+50,remaining_effort_segs[i*50]))\n",
    "    #print('#{}, segment id: {}'.format(i*50+51,remaining_effort_segs[i*50+1]))\n",
    "    #print()"
   ]
  },
  {
   "cell_type": "code",
   "execution_count": 842,
   "metadata": {},
   "outputs": [
    {
     "data": {
      "text/plain": [
       "(4599, 8)"
      ]
     },
     "execution_count": 842,
     "metadata": {},
     "output_type": "execute_result"
    }
   ],
   "source": [
    "efforts_df.shape"
   ]
  },
  {
   "cell_type": "code",
   "execution_count": 844,
   "metadata": {},
   "outputs": [
    {
     "name": "stdout",
     "output_type": "stream",
     "text": [
      "remaining segments to get efforts for: 2660\n",
      "rate limit exceeded, need to wait until the quarter hour\n",
      "it is now 11 minutes after the hour\n",
      "trying again...\n",
      "remaining segments to get efforts for: 2660\n",
      "Last segment downloaded: 4542969 CamelBack 2 \n",
      "It is 00:27. Efforts for 50 segments downloaded. 2610 segments to go...\n",
      "Last segment downloaded: 4744579 Bull Rider\n",
      "It is 00:28. Efforts for 100 segments downloaded. 2560 segments to go...\n",
      "Last segment downloaded: 4890942 Lizards out of the cage \n",
      "It is 00:28. Efforts for 150 segments downloaded. 2510 segments to go...\n",
      "Last segment downloaded: 5124357 Return CCW - East side\n",
      "It is 00:28. Efforts for 200 segments downloaded. 2460 segments to go...\n",
      "Last segment downloaded: 5321089 rolands sprint\n",
      "It is 00:28. Efforts for 250 segments downloaded. 2410 segments to go...\n",
      "Last segment downloaded: 5550834 Brick climb\n",
      "It is 00:28. Efforts for 300 segments downloaded. 2360 segments to go...\n",
      "Last segment downloaded: 5766897 Baldy climb from Gas house to top intersection\n",
      "It is 00:28. Efforts for 350 segments downloaded. 2310 segments to go...\n",
      "Last segment downloaded: 6059802 Live Oak Ride to Cooks!\n",
      "It is 00:28. Efforts for 400 segments downloaded. 2260 segments to go...\n",
      "Last segment downloaded: 6755672 HyMasa Climb\n",
      "It is 00:29. Efforts for 450 segments downloaded. 2210 segments to go...\n",
      "Last segment downloaded: 7001478 uphill between RR Parks rd & RR Trail rd\n",
      "It is 00:29. Efforts for 500 segments downloaded. 2160 segments to go...\n",
      "Last segment downloaded: 7220394 Frontside/Lil' Rattler\n",
      "It is 00:29. Efforts for 550 segments downloaded. 2110 segments to go...\n",
      "rate limit exceeded, need to wait until the quarter hour\n",
      "it is now 29 minutes after the hour\n",
      "trying again...\n",
      "remaining segments to get efforts for: 2137\n",
      "Last segment downloaded: 7417821 Upper (New) to fenceline\n",
      "It is 00:45. Efforts for 50 segments downloaded. 2087 segments to go...\n",
      "Last segment downloaded: 7510018 B+B up to V3\n",
      "It is 00:45. Efforts for 100 segments downloaded. 2037 segments to go...\n",
      "Last segment downloaded: 7750727 Turks + New Extension Up to Sally Barber\n",
      "It is 00:45. Efforts for 150 segments downloaded. 1987 segments to go...\n",
      "Last segment downloaded: 7962939 Blue Velvet S2\n",
      "It is 00:46. Efforts for 200 segments downloaded. 1937 segments to go...\n",
      "Last segment downloaded: 8154428 Apex Trail Enchanted Loop\n",
      "It is 00:46. Efforts for 250 segments downloaded. 1887 segments to go...\n",
      "Last segment downloaded: 8326288 North Fork Trail N-S\n",
      "It is 00:46. Efforts for 300 segments downloaded. 1837 segments to go...\n",
      "Last segment downloaded: 8477760 Luge, no 29in pot holes\n",
      "It is 00:46. Efforts for 350 segments downloaded. 1787 segments to go...\n",
      "Last segment downloaded: 8905646 Rock it w/o the F'ing sprint\n",
      "It is 00:46. Efforts for 400 segments downloaded. 1737 segments to go...\n",
      "Last segment downloaded: 9331566 Reroute\n",
      "It is 00:46. Efforts for 450 segments downloaded. 1687 segments to go...\n",
      "Last segment downloaded: 9590402 Crank it Up / HOD - 2015\n",
      "It is 00:46. Efforts for 500 segments downloaded. 1637 segments to go...\n",
      "Last segment downloaded: 9787470 Table Rock Bridge N to S\n",
      "It is 00:46. Efforts for 550 segments downloaded. 1587 segments to go...\n",
      "rate limit exceeded, need to wait until the quarter hour\n",
      "it is now 47 minutes after the hour\n",
      "trying again...\n",
      "remaining segments to get efforts for: 1659\n",
      "Last segment downloaded: 10047769 Lithic Lollipop\n",
      "It is 01:03. Efforts for 50 segments downloaded. 1609 segments to go...\n",
      "Last segment downloaded: 10047769 Lithic Lollipop\n",
      "It is 01:03. Efforts for 100 segments downloaded. 1559 segments to go...\n",
      "Last segment downloaded: 10139347 parking lot lap\n",
      "It is 01:03. Efforts for 150 segments downloaded. 1509 segments to go...\n",
      "Last segment downloaded: 10267579 W.W.D.(Wyse Way Down)\n",
      "It is 01:03. Efforts for 200 segments downloaded. 1459 segments to go...\n",
      "Last segment downloaded: 10531237 Lost Canyon / Shaffer Climb\n",
      "It is 01:03. Efforts for 250 segments downloaded. 1409 segments to go...\n",
      "Last segment downloaded: 10830643 Pump Dem Glades\n",
      "It is 01:03. Efforts for 300 segments downloaded. 1359 segments to go...\n",
      "Last segment downloaded: 11499107 Bottom Illinois to Top Illinois via Boreas\n",
      "It is 01:04. Efforts for 350 segments downloaded. 1309 segments to go...\n",
      "Last segment downloaded: 11945880 Bomb down to 58th\n",
      "It is 01:04. Efforts for 400 segments downloaded. 1259 segments to go...\n",
      "Last segment downloaded: 12316123 Thousand Yard Stairs\n",
      "It is 01:04. Efforts for 450 segments downloaded. 1209 segments to go...\n",
      "Last segment downloaded: 12501241 Pines 2016\n",
      "It is 01:04. Efforts for 500 segments downloaded. 1159 segments to go...\n",
      "Last segment downloaded: 12703062 Shinglemill Main Long Downhill\n",
      "It is 01:04. Efforts for 550 segments downloaded. 1109 segments to go...\n",
      "rate limit exceeded, need to wait until the quarter hour\n",
      "it is now 4 minutes after the hour\n",
      "trying again...\n",
      "remaining segments to get efforts for: 1224\n",
      "Last segment downloaded: 12958739 Lookout Mtn - E Pillars to Buffalo Bills\n",
      "It is 01:20. Efforts for 50 segments downloaded. 1174 segments to go...\n",
      "Last segment downloaded: 12958739 Lookout Mtn - E Pillars to Buffalo Bills\n",
      "It is 01:20. Efforts for 100 segments downloaded. 1124 segments to go...\n",
      "Last segment downloaded: 12958739 Lookout Mtn - E Pillars to Buffalo Bills\n",
      "It is 01:21. Efforts for 150 segments downloaded. 1074 segments to go...\n",
      "Last segment downloaded: 13147348 Perry Station to Sheridan Station\n",
      "It is 01:21. Efforts for 200 segments downloaded. 1024 segments to go...\n",
      "Last segment downloaded: 13360413 Green Mtn to Bottom via Rooney\n",
      "It is 01:21. Efforts for 250 segments downloaded. 974 segments to go...\n",
      "Last segment downloaded: 13709170 Lower Strawberry and Buck combined DH\n",
      "It is 01:21. Efforts for 300 segments downloaded. 924 segments to go...\n",
      "Last segment downloaded: 14440371 HildyFunTurns\n",
      "It is 01:21. Efforts for 350 segments downloaded. 874 segments to go...\n",
      "Last segment downloaded: 14969641 All the way up \n",
      "It is 01:21. Efforts for 400 segments downloaded. 824 segments to go...\n",
      "Last segment downloaded: 15237270 ruby medium dirt\n",
      "It is 01:21. Efforts for 450 segments downloaded. 774 segments to go...\n",
      "Last segment downloaded: 15536593 Trash Cans to the Top\n",
      "It is 01:21. Efforts for 500 segments downloaded. 724 segments to go...\n",
      "Last segment downloaded: 15985046 Aspen Alley Top Half\n",
      "It is 01:22. Efforts for 550 segments downloaded. 674 segments to go...\n",
      "rate limit exceeded, need to wait until the quarter hour\n",
      "it is now 22 minutes after the hour\n",
      "trying again...\n",
      "remaining segments to get efforts for: 835\n",
      "Last segment downloaded: 16361529 CT Kenosha to treeline\n",
      "It is 01:38. Efforts for 50 segments downloaded. 785 segments to go...\n",
      "Last segment downloaded: 16361529 CT Kenosha to treeline\n",
      "It is 01:38. Efforts for 100 segments downloaded. 735 segments to go...\n",
      "Last segment downloaded: 16361529 CT Kenosha to treeline\n",
      "It is 01:38. Efforts for 150 segments downloaded. 685 segments to go...\n",
      "Last segment downloaded: 16361529 CT Kenosha to treeline\n",
      "It is 01:38. Efforts for 200 segments downloaded. 635 segments to go...\n",
      "Last segment downloaded: 16712821 Cook's to Crystal Canyon \n",
      "It is 01:38. Efforts for 250 segments downloaded. 585 segments to go...\n",
      "Last segment downloaded: 17462739 Ribbon (Little Park to Little Park)\n",
      "It is 01:38. Efforts for 300 segments downloaded. 535 segments to go...\n",
      "Last segment downloaded: 17746426 Pillars to north side turn\n",
      "It is 01:38. Efforts for 350 segments downloaded. 485 segments to go...\n",
      "Last segment downloaded: 18048345 Half way\n",
      "It is 01:39. Efforts for 400 segments downloaded. 435 segments to go...\n",
      "Last segment downloaded: 18378363 Indian Creek East, Main Singletrack DH\n",
      "It is 01:39. Efforts for 450 segments downloaded. 385 segments to go...\n",
      "Last segment downloaded: 18782185 The best odd day loop (short)\n",
      "It is 01:39. Efforts for 500 segments downloaded. 335 segments to go...\n",
      "Last segment downloaded: 19112398 The Chutes- Corrected\n",
      "It is 01:39. Efforts for 550 segments downloaded. 285 segments to go...\n",
      "rate limit exceeded, need to wait until the quarter hour\n",
      "it is now 39 minutes after the hour\n",
      "trying again...\n",
      "remaining segments to get efforts for: 491\n",
      "Last segment downloaded: 20074202 Turtle-Alpe-West Fork\n",
      "It is 01:55. Efforts for 50 segments downloaded. 441 segments to go...\n"
     ]
    },
    {
     "name": "stdout",
     "output_type": "stream",
     "text": [
      "Last segment downloaded: 20074202 Turtle-Alpe-West Fork\n",
      "It is 01:56. Efforts for 100 segments downloaded. 391 segments to go...\n",
      "Last segment downloaded: 20074202 Turtle-Alpe-West Fork\n",
      "It is 01:56. Efforts for 150 segments downloaded. 341 segments to go...\n",
      "Last segment downloaded: 20074202 Turtle-Alpe-West Fork\n",
      "It is 01:56. Efforts for 200 segments downloaded. 291 segments to go...\n",
      "Last segment downloaded: 20074202 Turtle-Alpe-West Fork\n",
      "It is 01:56. Efforts for 250 segments downloaded. 241 segments to go...\n",
      "Last segment downloaded: 20681324 Top of Dogpatch to Blue Rock\n",
      "It is 01:56. Efforts for 300 segments downloaded. 191 segments to go...\n",
      "Last segment downloaded: 21005943 Climb to Mitten Corner\n",
      "It is 01:56. Efforts for 350 segments downloaded. 141 segments to go...\n",
      "Last segment downloaded: 21385115 End of Webs into River Run to West Branch to turn into Hogs Back\n",
      "It is 01:56. Efforts for 400 segments downloaded. 91 segments to go...\n",
      "Last segment downloaded: 21714993 EB Kipling switchbacks\n",
      "It is 01:57. Efforts for 450 segments downloaded. 41 segments to go...\n",
      "efforts for all 3868 segments downloaded\n"
     ]
    }
   ],
   "source": [
    "try:\n",
    "    efforts_df = pd.read_csv('efforts_df2.csv')\n",
    "    print('efforts df successfully loaded')\n",
    "except FileNotFoundError:\n",
    "    \n",
    "    while effort_segment_index < effort_segs_to_download:\n",
    "        \n",
    "        effort_segs = efforts_df.segment_id.unique()\n",
    "        effort_segment_index = 0\n",
    "        \n",
    "        remaining_effort_segs = list(np.setdiff1d(segments_df.segment_id,effort_segs))\n",
    "        effort_segs_to_download = len(remaining_effort_segs)\n",
    "        print('remaining segments to get efforts for: {}'.format(effort_segs_to_download))\n",
    "        \n",
    "        try:\n",
    "            for segment in remaining_effort_segs:\n",
    "                this_segment = list(client.get_segment_efforts(segment))\n",
    "                for this_effort in this_segment:\n",
    "                    this_effort_dict = this_effort.to_dict()\n",
    "                    this_effort_dict['segment_id'] = segment\n",
    "                    this_effort_dict['effort_id'] = this_effort.id\n",
    "                    efforts_df = efforts_df.append(\n",
    "                        {k:this_effort_dict[k] for k in efforts_columns if k in this_effort_dict},\n",
    "                        ignore_index=True)\n",
    "                effort_segment_index += 1\n",
    "                if effort_segment_index % 50 == 0:\n",
    "                    print('Last segment downloaded: {0} {1}'.format(efforts_df.tail(1).iloc[0,0],\n",
    "                                                                   efforts_df.tail(1).iloc[0,2]))\n",
    "                    print('It is {0}. Efforts for {1} segments downloaded. {2} segments to go...'\n",
    "                          .format(datetime.datetime.now().strftime(\"%H:%M\"),\n",
    "                                  effort_segment_index,\n",
    "                                  effort_segs_to_download - effort_segment_index))\n",
    "        except:\n",
    "            wait = 0\n",
    "            print('rate limit exceeded, need to wait until the quarter hour')\n",
    "            print('it is now {} minutes after the hour'.format(datetime.datetime.now().minute))\n",
    "            time.sleep(60*16)\n",
    "            print('trying again...')\n",
    "    print('efforts for all {} segments downloaded'.format(segment_index))"
   ]
  },
  {
   "cell_type": "code",
   "execution_count": 845,
   "metadata": {},
   "outputs": [
    {
     "name": "stdout",
     "output_type": "stream",
     "text": [
      "effort segment index: 491\n",
      "unique segments in segments_df downloaded: 3909\n",
      "unique segments in efforts_df downloaded: 3612\n",
      "unique efforts downloaded: 12517\n"
     ]
    }
   ],
   "source": [
    "print('effort segment index: {}'.format(effort_segment_index))\n",
    "print('unique segments in segments_df downloaded: {}'.format(len(segments_df.segment_id.unique())))\n",
    "print('unique segments in efforts_df downloaded: {}'.format(len(efforts_df.segment_id.unique())))\n",
    "print('unique efforts downloaded: {}'.format(len(efforts_df.effort_id.unique())))"
   ]
  },
  {
   "cell_type": "code",
   "execution_count": 846,
   "metadata": {},
   "outputs": [
    {
     "name": "stdout",
     "output_type": "stream",
     "text": [
      "(12517, 8)\n"
     ]
    },
    {
     "data": {
      "text/html": [
       "<div>\n",
       "<style scoped>\n",
       "    .dataframe tbody tr th:only-of-type {\n",
       "        vertical-align: middle;\n",
       "    }\n",
       "\n",
       "    .dataframe tbody tr th {\n",
       "        vertical-align: top;\n",
       "    }\n",
       "\n",
       "    .dataframe thead th {\n",
       "        text-align: right;\n",
       "    }\n",
       "</style>\n",
       "<table border=\"1\" class=\"dataframe\">\n",
       "  <thead>\n",
       "    <tr style=\"text-align: right;\">\n",
       "      <th></th>\n",
       "      <th>segment_id</th>\n",
       "      <th>effort_id</th>\n",
       "      <th>name</th>\n",
       "      <th>start_date</th>\n",
       "      <th>moving_time</th>\n",
       "      <th>elapsed_time</th>\n",
       "      <th>average_heartrate</th>\n",
       "      <th>max_heartrate</th>\n",
       "    </tr>\n",
       "  </thead>\n",
       "  <tbody>\n",
       "    <tr>\n",
       "      <th>0</th>\n",
       "      <td>748</td>\n",
       "      <td>2575438003</td>\n",
       "      <td>Green Mtn. S.Side</td>\n",
       "      <td>2014-02-27T17:23:14+00:00</td>\n",
       "      <td>0:24:38</td>\n",
       "      <td>0:25:23</td>\n",
       "      <td>NaN</td>\n",
       "      <td>NaN</td>\n",
       "    </tr>\n",
       "    <tr>\n",
       "      <th>1</th>\n",
       "      <td>748</td>\n",
       "      <td>47123694510</td>\n",
       "      <td>Green Mtn. S.Side</td>\n",
       "      <td>2018-09-29T22:40:46+00:00</td>\n",
       "      <td>0:24:50</td>\n",
       "      <td>0:25:56</td>\n",
       "      <td>NaN</td>\n",
       "      <td>NaN</td>\n",
       "    </tr>\n",
       "    <tr>\n",
       "      <th>2</th>\n",
       "      <td>763</td>\n",
       "      <td>15046074611</td>\n",
       "      <td>Kerr Gulch</td>\n",
       "      <td>2016-06-21T16:53:47+00:00</td>\n",
       "      <td>0:32:50</td>\n",
       "      <td>0:32:50</td>\n",
       "      <td>NaN</td>\n",
       "      <td>NaN</td>\n",
       "    </tr>\n",
       "    <tr>\n",
       "      <th>3</th>\n",
       "      <td>771</td>\n",
       "      <td>4050916155</td>\n",
       "      <td>Lair of the Bear S to N</td>\n",
       "      <td>2014-08-01T00:43:50+00:00</td>\n",
       "      <td>0:09:23</td>\n",
       "      <td>0:09:23</td>\n",
       "      <td>NaN</td>\n",
       "      <td>NaN</td>\n",
       "    </tr>\n",
       "    <tr>\n",
       "      <th>4</th>\n",
       "      <td>771</td>\n",
       "      <td>2000337341</td>\n",
       "      <td>Lair of the Bear S to N</td>\n",
       "      <td>2013-11-11T18:04:26+00:00</td>\n",
       "      <td>0:10:48</td>\n",
       "      <td>0:10:48</td>\n",
       "      <td>NaN</td>\n",
       "      <td>NaN</td>\n",
       "    </tr>\n",
       "  </tbody>\n",
       "</table>\n",
       "</div>"
      ],
      "text/plain": [
       "   segment_id    effort_id                     name  \\\n",
       "0         748   2575438003        Green Mtn. S.Side   \n",
       "1         748  47123694510        Green Mtn. S.Side   \n",
       "2         763  15046074611               Kerr Gulch   \n",
       "3         771   4050916155  Lair of the Bear S to N   \n",
       "4         771   2000337341  Lair of the Bear S to N   \n",
       "\n",
       "                  start_date moving_time elapsed_time average_heartrate  \\\n",
       "0  2014-02-27T17:23:14+00:00     0:24:38      0:25:23               NaN   \n",
       "1  2018-09-29T22:40:46+00:00     0:24:50      0:25:56               NaN   \n",
       "2  2016-06-21T16:53:47+00:00     0:32:50      0:32:50               NaN   \n",
       "3  2014-08-01T00:43:50+00:00     0:09:23      0:09:23               NaN   \n",
       "4  2013-11-11T18:04:26+00:00     0:10:48      0:10:48               NaN   \n",
       "\n",
       "  max_heartrate  \n",
       "0           NaN  \n",
       "1           NaN  \n",
       "2           NaN  \n",
       "3           NaN  \n",
       "4           NaN  "
      ]
     },
     "execution_count": 846,
     "metadata": {},
     "output_type": "execute_result"
    }
   ],
   "source": [
    "print(efforts_df.shape)\n",
    "efforts_df.head()"
   ]
  },
  {
   "cell_type": "code",
   "execution_count": 849,
   "metadata": {},
   "outputs": [
    {
     "name": "stdout",
     "output_type": "stream",
     "text": [
      "/Users/peabody/Documents/galvanize/capstones/strava\n"
     ]
    }
   ],
   "source": [
    "cd .."
   ]
  },
  {
   "cell_type": "code",
   "execution_count": 850,
   "metadata": {},
   "outputs": [],
   "source": [
    "efforts_df.to_csv('data/'+dir+'/efforts_df.csv', index=False)"
   ]
  },
  {
   "cell_type": "code",
   "execution_count": 527,
   "metadata": {},
   "outputs": [
    {
     "data": {
      "text/plain": [
       "67611"
      ]
     },
     "execution_count": 527,
     "metadata": {},
     "output_type": "execute_result"
    }
   ],
   "source": [
    "unique_effort_ids = list(efforts_df.effort_id.unique())\n",
    "unique_efforts = len(unique_effort_ids)\n",
    "unique_efforts"
   ]
  },
  {
   "cell_type": "code",
   "execution_count": 528,
   "metadata": {},
   "outputs": [
    {
     "data": {
      "text/plain": [
       "(282564, 8)"
      ]
     },
     "execution_count": 528,
     "metadata": {},
     "output_type": "execute_result"
    }
   ],
   "source": [
    "efforts_df.shape"
   ]
  },
  {
   "cell_type": "code",
   "execution_count": 535,
   "metadata": {},
   "outputs": [
    {
     "data": {
      "text/html": [
       "<div>\n",
       "<style scoped>\n",
       "    .dataframe tbody tr th:only-of-type {\n",
       "        vertical-align: middle;\n",
       "    }\n",
       "\n",
       "    .dataframe tbody tr th {\n",
       "        vertical-align: top;\n",
       "    }\n",
       "\n",
       "    .dataframe thead th {\n",
       "        text-align: right;\n",
       "    }\n",
       "</style>\n",
       "<table border=\"1\" class=\"dataframe\">\n",
       "  <thead>\n",
       "    <tr style=\"text-align: right;\">\n",
       "      <th></th>\n",
       "      <th>segment_id</th>\n",
       "      <th>effort_id</th>\n",
       "      <th>name</th>\n",
       "      <th>start_date</th>\n",
       "      <th>moving_time</th>\n",
       "      <th>elapsed_time</th>\n",
       "      <th>average_heartrate</th>\n",
       "      <th>max_heartrate</th>\n",
       "    </tr>\n",
       "  </thead>\n",
       "  <tbody>\n",
       "    <tr>\n",
       "      <th>210134</th>\n",
       "      <td>649639</td>\n",
       "      <td>660391611</td>\n",
       "      <td>Enchanted forest descent</td>\n",
       "      <td>2012-07-28T14:21:34+00:00</td>\n",
       "      <td>0:08:13</td>\n",
       "      <td>0:08:13</td>\n",
       "      <td>NaN</td>\n",
       "      <td>NaN</td>\n",
       "    </tr>\n",
       "    <tr>\n",
       "      <th>167168</th>\n",
       "      <td>649639</td>\n",
       "      <td>660391611</td>\n",
       "      <td>Enchanted forest descent</td>\n",
       "      <td>2012-07-28T14:21:34+00:00</td>\n",
       "      <td>0:08:13</td>\n",
       "      <td>0:08:13</td>\n",
       "      <td>NaN</td>\n",
       "      <td>NaN</td>\n",
       "    </tr>\n",
       "    <tr>\n",
       "      <th>214855</th>\n",
       "      <td>664486</td>\n",
       "      <td>660391612</td>\n",
       "      <td>Colorow Rd Climb</td>\n",
       "      <td>2012-07-28T14:04:37+00:00</td>\n",
       "      <td>0:07:37</td>\n",
       "      <td>0:07:37</td>\n",
       "      <td>NaN</td>\n",
       "      <td>NaN</td>\n",
       "    </tr>\n",
       "    <tr>\n",
       "      <th>171889</th>\n",
       "      <td>664486</td>\n",
       "      <td>660391612</td>\n",
       "      <td>Colorow Rd Climb</td>\n",
       "      <td>2012-07-28T14:04:37+00:00</td>\n",
       "      <td>0:07:37</td>\n",
       "      <td>0:07:37</td>\n",
       "      <td>NaN</td>\n",
       "      <td>NaN</td>\n",
       "    </tr>\n",
       "    <tr>\n",
       "      <th>214790</th>\n",
       "      <td>665783</td>\n",
       "      <td>660391613</td>\n",
       "      <td>Lower LMR to Upper LMR</td>\n",
       "      <td>2012-07-28T13:32:18+00:00</td>\n",
       "      <td>0:18:35</td>\n",
       "      <td>0:18:35</td>\n",
       "      <td>NaN</td>\n",
       "      <td>NaN</td>\n",
       "    </tr>\n",
       "    <tr>\n",
       "      <th>171824</th>\n",
       "      <td>665783</td>\n",
       "      <td>660391613</td>\n",
       "      <td>Lower LMR to Upper LMR</td>\n",
       "      <td>2012-07-28T13:32:18+00:00</td>\n",
       "      <td>0:18:35</td>\n",
       "      <td>0:18:35</td>\n",
       "      <td>NaN</td>\n",
       "      <td>NaN</td>\n",
       "    </tr>\n",
       "    <tr>\n",
       "      <th>214871</th>\n",
       "      <td>665788</td>\n",
       "      <td>660391614</td>\n",
       "      <td>Upper LMR to Colorow Rd</td>\n",
       "      <td>2012-07-28T13:52:30+00:00</td>\n",
       "      <td>0:20:09</td>\n",
       "      <td>0:20:09</td>\n",
       "      <td>NaN</td>\n",
       "      <td>NaN</td>\n",
       "    </tr>\n",
       "    <tr>\n",
       "      <th>171905</th>\n",
       "      <td>665788</td>\n",
       "      <td>660391614</td>\n",
       "      <td>Upper LMR to Colorow Rd</td>\n",
       "      <td>2012-07-28T13:52:30+00:00</td>\n",
       "      <td>0:20:09</td>\n",
       "      <td>0:20:09</td>\n",
       "      <td>NaN</td>\n",
       "      <td>NaN</td>\n",
       "    </tr>\n",
       "    <tr>\n",
       "      <th>218119</th>\n",
       "      <td>667394</td>\n",
       "      <td>660391615</td>\n",
       "      <td>Chimney Gulch (pillars to top, skipping bottom...</td>\n",
       "      <td>2012-07-28T13:27:43+00:00</td>\n",
       "      <td>0:44:45</td>\n",
       "      <td>0:44:45</td>\n",
       "      <td>NaN</td>\n",
       "      <td>NaN</td>\n",
       "    </tr>\n",
       "    <tr>\n",
       "      <th>215767</th>\n",
       "      <td>667394</td>\n",
       "      <td>660391615</td>\n",
       "      <td>Chimney Gulch (pillars to top, skipping bottom...</td>\n",
       "      <td>2012-07-28T13:27:43+00:00</td>\n",
       "      <td>0:44:45</td>\n",
       "      <td>0:44:45</td>\n",
       "      <td>NaN</td>\n",
       "      <td>NaN</td>\n",
       "    </tr>\n",
       "    <tr>\n",
       "      <th>165539</th>\n",
       "      <td>710384</td>\n",
       "      <td>660391616</td>\n",
       "      <td>Pick and Sledge descent (to Argos)</td>\n",
       "      <td>2012-07-28T14:42:54+00:00</td>\n",
       "      <td>0:04:54</td>\n",
       "      <td>0:04:54</td>\n",
       "      <td>NaN</td>\n",
       "      <td>NaN</td>\n",
       "    </tr>\n",
       "    <tr>\n",
       "      <th>208505</th>\n",
       "      <td>710384</td>\n",
       "      <td>660391616</td>\n",
       "      <td>Pick and Sledge descent (to Argos)</td>\n",
       "      <td>2012-07-28T14:42:54+00:00</td>\n",
       "      <td>0:04:54</td>\n",
       "      <td>0:04:54</td>\n",
       "      <td>NaN</td>\n",
       "      <td>NaN</td>\n",
       "    </tr>\n",
       "    <tr>\n",
       "      <th>106564</th>\n",
       "      <td>710384</td>\n",
       "      <td>660391616</td>\n",
       "      <td>Pick and Sledge descent (to Argos)</td>\n",
       "      <td>2012-07-28T14:42:54+00:00</td>\n",
       "      <td>0:04:54</td>\n",
       "      <td>0:04:54</td>\n",
       "      <td>NaN</td>\n",
       "      <td>NaN</td>\n",
       "    </tr>\n",
       "    <tr>\n",
       "      <th>162126</th>\n",
       "      <td>710386</td>\n",
       "      <td>660391617</td>\n",
       "      <td>Argos (descent)</td>\n",
       "      <td>2012-07-28T14:48:24+00:00</td>\n",
       "      <td>0:03:23</td>\n",
       "      <td>0:03:38</td>\n",
       "      <td>NaN</td>\n",
       "      <td>NaN</td>\n",
       "    </tr>\n",
       "    <tr>\n",
       "      <th>103151</th>\n",
       "      <td>710386</td>\n",
       "      <td>660391617</td>\n",
       "      <td>Argos (descent)</td>\n",
       "      <td>2012-07-28T14:48:24+00:00</td>\n",
       "      <td>0:03:23</td>\n",
       "      <td>0:03:38</td>\n",
       "      <td>NaN</td>\n",
       "      <td>NaN</td>\n",
       "    </tr>\n",
       "    <tr>\n",
       "      <th>133084</th>\n",
       "      <td>710386</td>\n",
       "      <td>660391617</td>\n",
       "      <td>Argos (descent)</td>\n",
       "      <td>2012-07-28T14:48:24+00:00</td>\n",
       "      <td>0:03:23</td>\n",
       "      <td>0:03:38</td>\n",
       "      <td>NaN</td>\n",
       "      <td>NaN</td>\n",
       "    </tr>\n",
       "    <tr>\n",
       "      <th>205092</th>\n",
       "      <td>710386</td>\n",
       "      <td>660391617</td>\n",
       "      <td>Argos (descent)</td>\n",
       "      <td>2012-07-28T14:48:24+00:00</td>\n",
       "      <td>0:03:23</td>\n",
       "      <td>0:03:38</td>\n",
       "      <td>NaN</td>\n",
       "      <td>NaN</td>\n",
       "    </tr>\n",
       "    <tr>\n",
       "      <th>49858</th>\n",
       "      <td>710386</td>\n",
       "      <td>660391617</td>\n",
       "      <td>Argos (descent)</td>\n",
       "      <td>2012-07-28T14:48:24+00:00</td>\n",
       "      <td>0:03:23</td>\n",
       "      <td>0:03:38</td>\n",
       "      <td>NaN</td>\n",
       "      <td>NaN</td>\n",
       "    </tr>\n",
       "    <tr>\n",
       "      <th>4480</th>\n",
       "      <td>991772</td>\n",
       "      <td>660391618</td>\n",
       "      <td>Tunnel to 19th</td>\n",
       "      <td>2012-07-28T13:16:46+00:00</td>\n",
       "      <td>0:04:03</td>\n",
       "      <td>0:04:03</td>\n",
       "      <td>NaN</td>\n",
       "      <td>NaN</td>\n",
       "    </tr>\n",
       "    <tr>\n",
       "      <th>27846</th>\n",
       "      <td>991772</td>\n",
       "      <td>660391618</td>\n",
       "      <td>Tunnel to 19th</td>\n",
       "      <td>2012-07-28T13:16:46+00:00</td>\n",
       "      <td>0:04:03</td>\n",
       "      <td>0:04:03</td>\n",
       "      <td>NaN</td>\n",
       "      <td>NaN</td>\n",
       "    </tr>\n",
       "    <tr>\n",
       "      <th>55179</th>\n",
       "      <td>991772</td>\n",
       "      <td>660391618</td>\n",
       "      <td>Tunnel to 19th</td>\n",
       "      <td>2012-07-28T13:16:46+00:00</td>\n",
       "      <td>0:04:03</td>\n",
       "      <td>0:04:03</td>\n",
       "      <td>NaN</td>\n",
       "      <td>NaN</td>\n",
       "    </tr>\n",
       "    <tr>\n",
       "      <th>111072</th>\n",
       "      <td>991772</td>\n",
       "      <td>660391618</td>\n",
       "      <td>Tunnel to 19th</td>\n",
       "      <td>2012-07-28T13:16:46+00:00</td>\n",
       "      <td>0:04:03</td>\n",
       "      <td>0:04:03</td>\n",
       "      <td>NaN</td>\n",
       "      <td>NaN</td>\n",
       "    </tr>\n",
       "    <tr>\n",
       "      <th>81139</th>\n",
       "      <td>991772</td>\n",
       "      <td>660391618</td>\n",
       "      <td>Tunnel to 19th</td>\n",
       "      <td>2012-07-28T13:16:46+00:00</td>\n",
       "      <td>0:04:03</td>\n",
       "      <td>0:04:03</td>\n",
       "      <td>NaN</td>\n",
       "      <td>NaN</td>\n",
       "    </tr>\n",
       "    <tr>\n",
       "      <th>140114</th>\n",
       "      <td>991772</td>\n",
       "      <td>660391618</td>\n",
       "      <td>Tunnel to 19th</td>\n",
       "      <td>2012-07-28T13:16:46+00:00</td>\n",
       "      <td>0:04:03</td>\n",
       "      <td>0:04:03</td>\n",
       "      <td>NaN</td>\n",
       "      <td>NaN</td>\n",
       "    </tr>\n",
       "    <tr>\n",
       "      <th>183080</th>\n",
       "      <td>991772</td>\n",
       "      <td>660391618</td>\n",
       "      <td>Tunnel to 19th</td>\n",
       "      <td>2012-07-28T13:16:46+00:00</td>\n",
       "      <td>0:04:03</td>\n",
       "      <td>0:04:03</td>\n",
       "      <td>NaN</td>\n",
       "      <td>NaN</td>\n",
       "    </tr>\n",
       "    <tr>\n",
       "      <th>166101</th>\n",
       "      <td>1358375</td>\n",
       "      <td>660391619</td>\n",
       "      <td>Pick n' sledge to Grubstake Cutoff</td>\n",
       "      <td>2012-07-28T14:40:23+00:00</td>\n",
       "      <td>0:03:41</td>\n",
       "      <td>0:03:41</td>\n",
       "      <td>NaN</td>\n",
       "      <td>NaN</td>\n",
       "    </tr>\n",
       "    <tr>\n",
       "      <th>209067</th>\n",
       "      <td>1358375</td>\n",
       "      <td>660391619</td>\n",
       "      <td>Pick n' sledge to Grubstake Cutoff</td>\n",
       "      <td>2012-07-28T14:40:23+00:00</td>\n",
       "      <td>0:03:41</td>\n",
       "      <td>0:03:41</td>\n",
       "      <td>NaN</td>\n",
       "      <td>NaN</td>\n",
       "    </tr>\n",
       "    <tr>\n",
       "      <th>103107</th>\n",
       "      <td>1395252</td>\n",
       "      <td>660391620</td>\n",
       "      <td>Pick N Sledge + Argos Descent</td>\n",
       "      <td>2012-07-28T14:44:08+00:00</td>\n",
       "      <td>0:07:40</td>\n",
       "      <td>0:07:55</td>\n",
       "      <td>NaN</td>\n",
       "      <td>NaN</td>\n",
       "    </tr>\n",
       "    <tr>\n",
       "      <th>49814</th>\n",
       "      <td>1395252</td>\n",
       "      <td>660391620</td>\n",
       "      <td>Pick N Sledge + Argos Descent</td>\n",
       "      <td>2012-07-28T14:44:08+00:00</td>\n",
       "      <td>0:07:40</td>\n",
       "      <td>0:07:55</td>\n",
       "      <td>NaN</td>\n",
       "      <td>NaN</td>\n",
       "    </tr>\n",
       "    <tr>\n",
       "      <th>133040</th>\n",
       "      <td>1395252</td>\n",
       "      <td>660391620</td>\n",
       "      <td>Pick N Sledge + Argos Descent</td>\n",
       "      <td>2012-07-28T14:44:08+00:00</td>\n",
       "      <td>0:07:40</td>\n",
       "      <td>0:07:55</td>\n",
       "      <td>NaN</td>\n",
       "      <td>NaN</td>\n",
       "    </tr>\n",
       "    <tr>\n",
       "      <th>...</th>\n",
       "      <td>...</td>\n",
       "      <td>...</td>\n",
       "      <td>...</td>\n",
       "      <td>...</td>\n",
       "      <td>...</td>\n",
       "      <td>...</td>\n",
       "      <td>...</td>\n",
       "      <td>...</td>\n",
       "    </tr>\n",
       "    <tr>\n",
       "      <th>25733</th>\n",
       "      <td>979002</td>\n",
       "      <td>660391636</td>\n",
       "      <td>W 44th Ave Climb</td>\n",
       "      <td>2012-07-24T13:47:48+00:00</td>\n",
       "      <td>0:02:15</td>\n",
       "      <td>0:02:15</td>\n",
       "      <td>NaN</td>\n",
       "      <td>NaN</td>\n",
       "    </tr>\n",
       "    <tr>\n",
       "      <th>53066</th>\n",
       "      <td>979002</td>\n",
       "      <td>660391636</td>\n",
       "      <td>W 44th Ave Climb</td>\n",
       "      <td>2012-07-24T13:47:48+00:00</td>\n",
       "      <td>0:02:15</td>\n",
       "      <td>0:02:15</td>\n",
       "      <td>NaN</td>\n",
       "      <td>NaN</td>\n",
       "    </tr>\n",
       "    <tr>\n",
       "      <th>79026</th>\n",
       "      <td>979002</td>\n",
       "      <td>660391636</td>\n",
       "      <td>W 44th Ave Climb</td>\n",
       "      <td>2012-07-24T13:47:48+00:00</td>\n",
       "      <td>0:02:15</td>\n",
       "      <td>0:02:15</td>\n",
       "      <td>NaN</td>\n",
       "      <td>NaN</td>\n",
       "    </tr>\n",
       "    <tr>\n",
       "      <th>108959</th>\n",
       "      <td>979002</td>\n",
       "      <td>660391636</td>\n",
       "      <td>W 44th Ave Climb</td>\n",
       "      <td>2012-07-24T13:47:48+00:00</td>\n",
       "      <td>0:02:15</td>\n",
       "      <td>0:02:15</td>\n",
       "      <td>NaN</td>\n",
       "      <td>NaN</td>\n",
       "    </tr>\n",
       "    <tr>\n",
       "      <th>180967</th>\n",
       "      <td>979002</td>\n",
       "      <td>660391636</td>\n",
       "      <td>W 44th Ave Climb</td>\n",
       "      <td>2012-07-24T13:47:48+00:00</td>\n",
       "      <td>0:02:15</td>\n",
       "      <td>0:02:15</td>\n",
       "      <td>NaN</td>\n",
       "      <td>NaN</td>\n",
       "    </tr>\n",
       "    <tr>\n",
       "      <th>2367</th>\n",
       "      <td>979002</td>\n",
       "      <td>660391636</td>\n",
       "      <td>W 44th Ave Climb</td>\n",
       "      <td>2012-07-24T13:47:48+00:00</td>\n",
       "      <td>0:02:15</td>\n",
       "      <td>0:02:15</td>\n",
       "      <td>NaN</td>\n",
       "      <td>NaN</td>\n",
       "    </tr>\n",
       "    <tr>\n",
       "      <th>106725</th>\n",
       "      <td>991763</td>\n",
       "      <td>660391638</td>\n",
       "      <td>Tunnel to Tunnel</td>\n",
       "      <td>2012-07-23T21:50:56+00:00</td>\n",
       "      <td>0:01:42</td>\n",
       "      <td>0:01:42</td>\n",
       "      <td>NaN</td>\n",
       "      <td>NaN</td>\n",
       "    </tr>\n",
       "    <tr>\n",
       "      <th>135767</th>\n",
       "      <td>991763</td>\n",
       "      <td>660391638</td>\n",
       "      <td>Tunnel to Tunnel</td>\n",
       "      <td>2012-07-23T21:50:56+00:00</td>\n",
       "      <td>0:01:42</td>\n",
       "      <td>0:01:42</td>\n",
       "      <td>NaN</td>\n",
       "      <td>NaN</td>\n",
       "    </tr>\n",
       "    <tr>\n",
       "      <th>23499</th>\n",
       "      <td>991763</td>\n",
       "      <td>660391638</td>\n",
       "      <td>Tunnel to Tunnel</td>\n",
       "      <td>2012-07-23T21:50:56+00:00</td>\n",
       "      <td>0:01:42</td>\n",
       "      <td>0:01:42</td>\n",
       "      <td>NaN</td>\n",
       "      <td>NaN</td>\n",
       "    </tr>\n",
       "    <tr>\n",
       "      <th>178733</th>\n",
       "      <td>991763</td>\n",
       "      <td>660391638</td>\n",
       "      <td>Tunnel to Tunnel</td>\n",
       "      <td>2012-07-23T21:50:56+00:00</td>\n",
       "      <td>0:01:42</td>\n",
       "      <td>0:01:42</td>\n",
       "      <td>NaN</td>\n",
       "      <td>NaN</td>\n",
       "    </tr>\n",
       "    <tr>\n",
       "      <th>50832</th>\n",
       "      <td>991763</td>\n",
       "      <td>660391638</td>\n",
       "      <td>Tunnel to Tunnel</td>\n",
       "      <td>2012-07-23T21:50:56+00:00</td>\n",
       "      <td>0:01:42</td>\n",
       "      <td>0:01:42</td>\n",
       "      <td>NaN</td>\n",
       "      <td>NaN</td>\n",
       "    </tr>\n",
       "    <tr>\n",
       "      <th>76792</th>\n",
       "      <td>991763</td>\n",
       "      <td>660391638</td>\n",
       "      <td>Tunnel to Tunnel</td>\n",
       "      <td>2012-07-23T21:50:56+00:00</td>\n",
       "      <td>0:01:42</td>\n",
       "      <td>0:01:42</td>\n",
       "      <td>NaN</td>\n",
       "      <td>NaN</td>\n",
       "    </tr>\n",
       "    <tr>\n",
       "      <th>133</th>\n",
       "      <td>991763</td>\n",
       "      <td>660391638</td>\n",
       "      <td>Tunnel to Tunnel</td>\n",
       "      <td>2012-07-23T21:50:56+00:00</td>\n",
       "      <td>0:01:42</td>\n",
       "      <td>0:01:42</td>\n",
       "      <td>NaN</td>\n",
       "      <td>NaN</td>\n",
       "    </tr>\n",
       "    <tr>\n",
       "      <th>3673</th>\n",
       "      <td>1652720</td>\n",
       "      <td>660391639</td>\n",
       "      <td>Easley Ramp</td>\n",
       "      <td>2012-07-24T13:52:17+00:00</td>\n",
       "      <td>0:00:59</td>\n",
       "      <td>0:00:59</td>\n",
       "      <td>NaN</td>\n",
       "      <td>NaN</td>\n",
       "    </tr>\n",
       "    <tr>\n",
       "      <th>182273</th>\n",
       "      <td>1652720</td>\n",
       "      <td>660391639</td>\n",
       "      <td>Easley Ramp</td>\n",
       "      <td>2012-07-24T13:52:17+00:00</td>\n",
       "      <td>0:00:59</td>\n",
       "      <td>0:00:59</td>\n",
       "      <td>NaN</td>\n",
       "      <td>NaN</td>\n",
       "    </tr>\n",
       "    <tr>\n",
       "      <th>80332</th>\n",
       "      <td>1652720</td>\n",
       "      <td>660391639</td>\n",
       "      <td>Easley Ramp</td>\n",
       "      <td>2012-07-24T13:52:17+00:00</td>\n",
       "      <td>0:00:59</td>\n",
       "      <td>0:00:59</td>\n",
       "      <td>NaN</td>\n",
       "      <td>NaN</td>\n",
       "    </tr>\n",
       "    <tr>\n",
       "      <th>139307</th>\n",
       "      <td>1652720</td>\n",
       "      <td>660391639</td>\n",
       "      <td>Easley Ramp</td>\n",
       "      <td>2012-07-24T13:52:17+00:00</td>\n",
       "      <td>0:00:59</td>\n",
       "      <td>0:00:59</td>\n",
       "      <td>NaN</td>\n",
       "      <td>NaN</td>\n",
       "    </tr>\n",
       "    <tr>\n",
       "      <th>110265</th>\n",
       "      <td>1652720</td>\n",
       "      <td>660391639</td>\n",
       "      <td>Easley Ramp</td>\n",
       "      <td>2012-07-24T13:52:17+00:00</td>\n",
       "      <td>0:00:59</td>\n",
       "      <td>0:00:59</td>\n",
       "      <td>NaN</td>\n",
       "      <td>NaN</td>\n",
       "    </tr>\n",
       "    <tr>\n",
       "      <th>27039</th>\n",
       "      <td>1652720</td>\n",
       "      <td>660391639</td>\n",
       "      <td>Easley Ramp</td>\n",
       "      <td>2012-07-24T13:52:17+00:00</td>\n",
       "      <td>0:00:59</td>\n",
       "      <td>0:00:59</td>\n",
       "      <td>NaN</td>\n",
       "      <td>NaN</td>\n",
       "    </tr>\n",
       "    <tr>\n",
       "      <th>54372</th>\n",
       "      <td>1652720</td>\n",
       "      <td>660391639</td>\n",
       "      <td>Easley Ramp</td>\n",
       "      <td>2012-07-24T13:52:17+00:00</td>\n",
       "      <td>0:00:59</td>\n",
       "      <td>0:00:59</td>\n",
       "      <td>NaN</td>\n",
       "      <td>NaN</td>\n",
       "    </tr>\n",
       "    <tr>\n",
       "      <th>76997</th>\n",
       "      <td>1284311</td>\n",
       "      <td>660391641</td>\n",
       "      <td>Golden Cruise: Parking Lot to First Parking Ga...</td>\n",
       "      <td>2012-07-23T21:41:16+00:00</td>\n",
       "      <td>0:01:22</td>\n",
       "      <td>0:01:22</td>\n",
       "      <td>NaN</td>\n",
       "      <td>NaN</td>\n",
       "    </tr>\n",
       "    <tr>\n",
       "      <th>51037</th>\n",
       "      <td>1284311</td>\n",
       "      <td>660391641</td>\n",
       "      <td>Golden Cruise: Parking Lot to First Parking Ga...</td>\n",
       "      <td>2012-07-23T21:41:16+00:00</td>\n",
       "      <td>0:01:22</td>\n",
       "      <td>0:01:22</td>\n",
       "      <td>NaN</td>\n",
       "      <td>NaN</td>\n",
       "    </tr>\n",
       "    <tr>\n",
       "      <th>23704</th>\n",
       "      <td>1284311</td>\n",
       "      <td>660391641</td>\n",
       "      <td>Golden Cruise: Parking Lot to First Parking Ga...</td>\n",
       "      <td>2012-07-23T21:41:16+00:00</td>\n",
       "      <td>0:01:22</td>\n",
       "      <td>0:01:22</td>\n",
       "      <td>NaN</td>\n",
       "      <td>NaN</td>\n",
       "    </tr>\n",
       "    <tr>\n",
       "      <th>178938</th>\n",
       "      <td>1284311</td>\n",
       "      <td>660391641</td>\n",
       "      <td>Golden Cruise: Parking Lot to First Parking Ga...</td>\n",
       "      <td>2012-07-23T21:41:16+00:00</td>\n",
       "      <td>0:01:22</td>\n",
       "      <td>0:01:22</td>\n",
       "      <td>NaN</td>\n",
       "      <td>NaN</td>\n",
       "    </tr>\n",
       "    <tr>\n",
       "      <th>135972</th>\n",
       "      <td>1284311</td>\n",
       "      <td>660391641</td>\n",
       "      <td>Golden Cruise: Parking Lot to First Parking Ga...</td>\n",
       "      <td>2012-07-23T21:41:16+00:00</td>\n",
       "      <td>0:01:22</td>\n",
       "      <td>0:01:22</td>\n",
       "      <td>NaN</td>\n",
       "      <td>NaN</td>\n",
       "    </tr>\n",
       "    <tr>\n",
       "      <th>106930</th>\n",
       "      <td>1284311</td>\n",
       "      <td>660391641</td>\n",
       "      <td>Golden Cruise: Parking Lot to First Parking Ga...</td>\n",
       "      <td>2012-07-23T21:41:16+00:00</td>\n",
       "      <td>0:01:22</td>\n",
       "      <td>0:01:22</td>\n",
       "      <td>NaN</td>\n",
       "      <td>NaN</td>\n",
       "    </tr>\n",
       "    <tr>\n",
       "      <th>338</th>\n",
       "      <td>1284311</td>\n",
       "      <td>660391641</td>\n",
       "      <td>Golden Cruise: Parking Lot to First Parking Ga...</td>\n",
       "      <td>2012-07-23T21:41:16+00:00</td>\n",
       "      <td>0:01:22</td>\n",
       "      <td>0:01:22</td>\n",
       "      <td>NaN</td>\n",
       "      <td>NaN</td>\n",
       "    </tr>\n",
       "    <tr>\n",
       "      <th>212403</th>\n",
       "      <td>2575203</td>\n",
       "      <td>660391642</td>\n",
       "      <td>Back to your \"Roots\"</td>\n",
       "      <td>2012-07-28T14:28:11+00:00</td>\n",
       "      <td>0:01:26</td>\n",
       "      <td>0:01:26</td>\n",
       "      <td>NaN</td>\n",
       "      <td>NaN</td>\n",
       "    </tr>\n",
       "    <tr>\n",
       "      <th>169437</th>\n",
       "      <td>2575203</td>\n",
       "      <td>660391642</td>\n",
       "      <td>Back to your \"Roots\"</td>\n",
       "      <td>2012-07-28T14:28:11+00:00</td>\n",
       "      <td>0:01:26</td>\n",
       "      <td>0:01:26</td>\n",
       "      <td>NaN</td>\n",
       "      <td>NaN</td>\n",
       "    </tr>\n",
       "    <tr>\n",
       "      <th>13253</th>\n",
       "      <td>2557879</td>\n",
       "      <td>660391643</td>\n",
       "      <td>Ralston Creek - Ward Rd to Simms St</td>\n",
       "      <td>2012-07-24T23:31:06+00:00</td>\n",
       "      <td>0:02:11</td>\n",
       "      <td>0:02:11</td>\n",
       "      <td>NaN</td>\n",
       "      <td>NaN</td>\n",
       "    </tr>\n",
       "  </tbody>\n",
       "</table>\n",
       "<p>100 rows × 8 columns</p>\n",
       "</div>"
      ],
      "text/plain": [
       "        segment_id  effort_id  \\\n",
       "210134      649639  660391611   \n",
       "167168      649639  660391611   \n",
       "214855      664486  660391612   \n",
       "171889      664486  660391612   \n",
       "214790      665783  660391613   \n",
       "171824      665783  660391613   \n",
       "214871      665788  660391614   \n",
       "171905      665788  660391614   \n",
       "218119      667394  660391615   \n",
       "215767      667394  660391615   \n",
       "165539      710384  660391616   \n",
       "208505      710384  660391616   \n",
       "106564      710384  660391616   \n",
       "162126      710386  660391617   \n",
       "103151      710386  660391617   \n",
       "133084      710386  660391617   \n",
       "205092      710386  660391617   \n",
       "49858       710386  660391617   \n",
       "4480        991772  660391618   \n",
       "27846       991772  660391618   \n",
       "55179       991772  660391618   \n",
       "111072      991772  660391618   \n",
       "81139       991772  660391618   \n",
       "140114      991772  660391618   \n",
       "183080      991772  660391618   \n",
       "166101     1358375  660391619   \n",
       "209067     1358375  660391619   \n",
       "103107     1395252  660391620   \n",
       "49814      1395252  660391620   \n",
       "133040     1395252  660391620   \n",
       "...            ...        ...   \n",
       "25733       979002  660391636   \n",
       "53066       979002  660391636   \n",
       "79026       979002  660391636   \n",
       "108959      979002  660391636   \n",
       "180967      979002  660391636   \n",
       "2367        979002  660391636   \n",
       "106725      991763  660391638   \n",
       "135767      991763  660391638   \n",
       "23499       991763  660391638   \n",
       "178733      991763  660391638   \n",
       "50832       991763  660391638   \n",
       "76792       991763  660391638   \n",
       "133         991763  660391638   \n",
       "3673       1652720  660391639   \n",
       "182273     1652720  660391639   \n",
       "80332      1652720  660391639   \n",
       "139307     1652720  660391639   \n",
       "110265     1652720  660391639   \n",
       "27039      1652720  660391639   \n",
       "54372      1652720  660391639   \n",
       "76997      1284311  660391641   \n",
       "51037      1284311  660391641   \n",
       "23704      1284311  660391641   \n",
       "178938     1284311  660391641   \n",
       "135972     1284311  660391641   \n",
       "106930     1284311  660391641   \n",
       "338        1284311  660391641   \n",
       "212403     2575203  660391642   \n",
       "169437     2575203  660391642   \n",
       "13253      2557879  660391643   \n",
       "\n",
       "                                                     name  \\\n",
       "210134                           Enchanted forest descent   \n",
       "167168                           Enchanted forest descent   \n",
       "214855                                   Colorow Rd Climb   \n",
       "171889                                   Colorow Rd Climb   \n",
       "214790                             Lower LMR to Upper LMR   \n",
       "171824                             Lower LMR to Upper LMR   \n",
       "214871                            Upper LMR to Colorow Rd   \n",
       "171905                            Upper LMR to Colorow Rd   \n",
       "218119  Chimney Gulch (pillars to top, skipping bottom...   \n",
       "215767  Chimney Gulch (pillars to top, skipping bottom...   \n",
       "165539                 Pick and Sledge descent (to Argos)   \n",
       "208505                 Pick and Sledge descent (to Argos)   \n",
       "106564                 Pick and Sledge descent (to Argos)   \n",
       "162126                                    Argos (descent)   \n",
       "103151                                    Argos (descent)   \n",
       "133084                                    Argos (descent)   \n",
       "205092                                    Argos (descent)   \n",
       "49858                                     Argos (descent)   \n",
       "4480                                       Tunnel to 19th   \n",
       "27846                                      Tunnel to 19th   \n",
       "55179                                      Tunnel to 19th   \n",
       "111072                                     Tunnel to 19th   \n",
       "81139                                      Tunnel to 19th   \n",
       "140114                                     Tunnel to 19th   \n",
       "183080                                     Tunnel to 19th   \n",
       "166101                 Pick n' sledge to Grubstake Cutoff   \n",
       "209067                 Pick n' sledge to Grubstake Cutoff   \n",
       "103107                      Pick N Sledge + Argos Descent   \n",
       "49814                       Pick N Sledge + Argos Descent   \n",
       "133040                      Pick N Sledge + Argos Descent   \n",
       "...                                                   ...   \n",
       "25733                                    W 44th Ave Climb   \n",
       "53066                                    W 44th Ave Climb   \n",
       "79026                                    W 44th Ave Climb   \n",
       "108959                                   W 44th Ave Climb   \n",
       "180967                                   W 44th Ave Climb   \n",
       "2367                                     W 44th Ave Climb   \n",
       "106725                                   Tunnel to Tunnel   \n",
       "135767                                   Tunnel to Tunnel   \n",
       "23499                                    Tunnel to Tunnel   \n",
       "178733                                   Tunnel to Tunnel   \n",
       "50832                                    Tunnel to Tunnel   \n",
       "76792                                    Tunnel to Tunnel   \n",
       "133                                      Tunnel to Tunnel   \n",
       "3673                                          Easley Ramp   \n",
       "182273                                        Easley Ramp   \n",
       "80332                                         Easley Ramp   \n",
       "139307                                        Easley Ramp   \n",
       "110265                                        Easley Ramp   \n",
       "27039                                         Easley Ramp   \n",
       "54372                                         Easley Ramp   \n",
       "76997   Golden Cruise: Parking Lot to First Parking Ga...   \n",
       "51037   Golden Cruise: Parking Lot to First Parking Ga...   \n",
       "23704   Golden Cruise: Parking Lot to First Parking Ga...   \n",
       "178938  Golden Cruise: Parking Lot to First Parking Ga...   \n",
       "135972  Golden Cruise: Parking Lot to First Parking Ga...   \n",
       "106930  Golden Cruise: Parking Lot to First Parking Ga...   \n",
       "338     Golden Cruise: Parking Lot to First Parking Ga...   \n",
       "212403                               Back to your \"Roots\"   \n",
       "169437                               Back to your \"Roots\"   \n",
       "13253                 Ralston Creek - Ward Rd to Simms St   \n",
       "\n",
       "                       start_date moving_time elapsed_time  average_heartrate  \\\n",
       "210134  2012-07-28T14:21:34+00:00     0:08:13      0:08:13                NaN   \n",
       "167168  2012-07-28T14:21:34+00:00     0:08:13      0:08:13                NaN   \n",
       "214855  2012-07-28T14:04:37+00:00     0:07:37      0:07:37                NaN   \n",
       "171889  2012-07-28T14:04:37+00:00     0:07:37      0:07:37                NaN   \n",
       "214790  2012-07-28T13:32:18+00:00     0:18:35      0:18:35                NaN   \n",
       "171824  2012-07-28T13:32:18+00:00     0:18:35      0:18:35                NaN   \n",
       "214871  2012-07-28T13:52:30+00:00     0:20:09      0:20:09                NaN   \n",
       "171905  2012-07-28T13:52:30+00:00     0:20:09      0:20:09                NaN   \n",
       "218119  2012-07-28T13:27:43+00:00     0:44:45      0:44:45                NaN   \n",
       "215767  2012-07-28T13:27:43+00:00     0:44:45      0:44:45                NaN   \n",
       "165539  2012-07-28T14:42:54+00:00     0:04:54      0:04:54                NaN   \n",
       "208505  2012-07-28T14:42:54+00:00     0:04:54      0:04:54                NaN   \n",
       "106564  2012-07-28T14:42:54+00:00     0:04:54      0:04:54                NaN   \n",
       "162126  2012-07-28T14:48:24+00:00     0:03:23      0:03:38                NaN   \n",
       "103151  2012-07-28T14:48:24+00:00     0:03:23      0:03:38                NaN   \n",
       "133084  2012-07-28T14:48:24+00:00     0:03:23      0:03:38                NaN   \n",
       "205092  2012-07-28T14:48:24+00:00     0:03:23      0:03:38                NaN   \n",
       "49858   2012-07-28T14:48:24+00:00     0:03:23      0:03:38                NaN   \n",
       "4480    2012-07-28T13:16:46+00:00     0:04:03      0:04:03                NaN   \n",
       "27846   2012-07-28T13:16:46+00:00     0:04:03      0:04:03                NaN   \n",
       "55179   2012-07-28T13:16:46+00:00     0:04:03      0:04:03                NaN   \n",
       "111072  2012-07-28T13:16:46+00:00     0:04:03      0:04:03                NaN   \n",
       "81139   2012-07-28T13:16:46+00:00     0:04:03      0:04:03                NaN   \n",
       "140114  2012-07-28T13:16:46+00:00     0:04:03      0:04:03                NaN   \n",
       "183080  2012-07-28T13:16:46+00:00     0:04:03      0:04:03                NaN   \n",
       "166101  2012-07-28T14:40:23+00:00     0:03:41      0:03:41                NaN   \n",
       "209067  2012-07-28T14:40:23+00:00     0:03:41      0:03:41                NaN   \n",
       "103107  2012-07-28T14:44:08+00:00     0:07:40      0:07:55                NaN   \n",
       "49814   2012-07-28T14:44:08+00:00     0:07:40      0:07:55                NaN   \n",
       "133040  2012-07-28T14:44:08+00:00     0:07:40      0:07:55                NaN   \n",
       "...                           ...         ...          ...                ...   \n",
       "25733   2012-07-24T13:47:48+00:00     0:02:15      0:02:15                NaN   \n",
       "53066   2012-07-24T13:47:48+00:00     0:02:15      0:02:15                NaN   \n",
       "79026   2012-07-24T13:47:48+00:00     0:02:15      0:02:15                NaN   \n",
       "108959  2012-07-24T13:47:48+00:00     0:02:15      0:02:15                NaN   \n",
       "180967  2012-07-24T13:47:48+00:00     0:02:15      0:02:15                NaN   \n",
       "2367    2012-07-24T13:47:48+00:00     0:02:15      0:02:15                NaN   \n",
       "106725  2012-07-23T21:50:56+00:00     0:01:42      0:01:42                NaN   \n",
       "135767  2012-07-23T21:50:56+00:00     0:01:42      0:01:42                NaN   \n",
       "23499   2012-07-23T21:50:56+00:00     0:01:42      0:01:42                NaN   \n",
       "178733  2012-07-23T21:50:56+00:00     0:01:42      0:01:42                NaN   \n",
       "50832   2012-07-23T21:50:56+00:00     0:01:42      0:01:42                NaN   \n",
       "76792   2012-07-23T21:50:56+00:00     0:01:42      0:01:42                NaN   \n",
       "133     2012-07-23T21:50:56+00:00     0:01:42      0:01:42                NaN   \n",
       "3673    2012-07-24T13:52:17+00:00     0:00:59      0:00:59                NaN   \n",
       "182273  2012-07-24T13:52:17+00:00     0:00:59      0:00:59                NaN   \n",
       "80332   2012-07-24T13:52:17+00:00     0:00:59      0:00:59                NaN   \n",
       "139307  2012-07-24T13:52:17+00:00     0:00:59      0:00:59                NaN   \n",
       "110265  2012-07-24T13:52:17+00:00     0:00:59      0:00:59                NaN   \n",
       "27039   2012-07-24T13:52:17+00:00     0:00:59      0:00:59                NaN   \n",
       "54372   2012-07-24T13:52:17+00:00     0:00:59      0:00:59                NaN   \n",
       "76997   2012-07-23T21:41:16+00:00     0:01:22      0:01:22                NaN   \n",
       "51037   2012-07-23T21:41:16+00:00     0:01:22      0:01:22                NaN   \n",
       "23704   2012-07-23T21:41:16+00:00     0:01:22      0:01:22                NaN   \n",
       "178938  2012-07-23T21:41:16+00:00     0:01:22      0:01:22                NaN   \n",
       "135972  2012-07-23T21:41:16+00:00     0:01:22      0:01:22                NaN   \n",
       "106930  2012-07-23T21:41:16+00:00     0:01:22      0:01:22                NaN   \n",
       "338     2012-07-23T21:41:16+00:00     0:01:22      0:01:22                NaN   \n",
       "212403  2012-07-28T14:28:11+00:00     0:01:26      0:01:26                NaN   \n",
       "169437  2012-07-28T14:28:11+00:00     0:01:26      0:01:26                NaN   \n",
       "13253   2012-07-24T23:31:06+00:00     0:02:11      0:02:11                NaN   \n",
       "\n",
       "        max_heartrate  \n",
       "210134            NaN  \n",
       "167168            NaN  \n",
       "214855            NaN  \n",
       "171889            NaN  \n",
       "214790            NaN  \n",
       "171824            NaN  \n",
       "214871            NaN  \n",
       "171905            NaN  \n",
       "218119            NaN  \n",
       "215767            NaN  \n",
       "165539            NaN  \n",
       "208505            NaN  \n",
       "106564            NaN  \n",
       "162126            NaN  \n",
       "103151            NaN  \n",
       "133084            NaN  \n",
       "205092            NaN  \n",
       "49858             NaN  \n",
       "4480              NaN  \n",
       "27846             NaN  \n",
       "55179             NaN  \n",
       "111072            NaN  \n",
       "81139             NaN  \n",
       "140114            NaN  \n",
       "183080            NaN  \n",
       "166101            NaN  \n",
       "209067            NaN  \n",
       "103107            NaN  \n",
       "49814             NaN  \n",
       "133040            NaN  \n",
       "...               ...  \n",
       "25733             NaN  \n",
       "53066             NaN  \n",
       "79026             NaN  \n",
       "108959            NaN  \n",
       "180967            NaN  \n",
       "2367              NaN  \n",
       "106725            NaN  \n",
       "135767            NaN  \n",
       "23499             NaN  \n",
       "178733            NaN  \n",
       "50832             NaN  \n",
       "76792             NaN  \n",
       "133               NaN  \n",
       "3673              NaN  \n",
       "182273            NaN  \n",
       "80332             NaN  \n",
       "139307            NaN  \n",
       "110265            NaN  \n",
       "27039             NaN  \n",
       "54372             NaN  \n",
       "76997             NaN  \n",
       "51037             NaN  \n",
       "23704             NaN  \n",
       "178938            NaN  \n",
       "135972            NaN  \n",
       "106930            NaN  \n",
       "338               NaN  \n",
       "212403            NaN  \n",
       "169437            NaN  \n",
       "13253             NaN  \n",
       "\n",
       "[100 rows x 8 columns]"
      ]
     },
     "execution_count": 535,
     "metadata": {},
     "output_type": "execute_result"
    }
   ],
   "source": [
    "efforts_df.sort_values(\"effort_id\").head(100)"
   ]
  },
  {
   "cell_type": "code",
   "execution_count": 537,
   "metadata": {},
   "outputs": [
    {
     "data": {
      "text/plain": [
       "(67611, 8)"
      ]
     },
     "execution_count": 537,
     "metadata": {},
     "output_type": "execute_result"
    }
   ],
   "source": [
    "efforts_df.sort_values(\"effort_id\", inplace=True)\n",
    "efforts_df.drop_duplicates(inplace=True)\n",
    "efforts_df.shape"
   ]
  },
  {
   "cell_type": "code",
   "execution_count": 536,
   "metadata": {},
   "outputs": [
    {
     "data": {
      "text/plain": [
       "67611"
      ]
     },
     "execution_count": 536,
     "metadata": {},
     "output_type": "execute_result"
    }
   ],
   "source": [
    "efforts_df.effort_id.unique().shape[0]"
   ]
  },
  {
   "cell_type": "code",
   "execution_count": 538,
   "metadata": {},
   "outputs": [
    {
     "name": "stdout",
     "output_type": "stream",
     "text": [
      "segment_index: 3868\n",
      "have efforts for 8357 segments\n",
      "total efforts: 67611\n"
     ]
    }
   ],
   "source": [
    "print('segment_index: {}'.format(segment_index))\n",
    "print('have efforts for {} segments'.format(efforts_df.segment_id.unique().shape[0]))\n",
    "print('total efforts: {}'.format(efforts_df.effort_id.unique().shape[0]))"
   ]
  },
  {
   "cell_type": "code",
   "execution_count": 374,
   "metadata": {},
   "outputs": [
    {
     "data": {
      "text/plain": [
       "<matplotlib.axes._subplots.AxesSubplot at 0x1a1eae2cf8>"
      ]
     },
     "execution_count": 374,
     "metadata": {},
     "output_type": "execute_result"
    },
    {
     "data": {
      "image/png": "[encoded data removed]",
      "text/plain": [
       "<Figure size 432x288 with 1 Axes>"
      ]
     },
     "metadata": {
      "needs_background": "light"
     },
     "output_type": "display_data"
    }
   ],
   "source": [
    "sns.countplot(x=\"segment_id\", data=efforts_df)"
   ]
  },
  {
   "cell_type": "code",
   "execution_count": 43,
   "metadata": {},
   "outputs": [
    {
     "data": {
      "text/plain": [
       "1"
      ]
     },
     "execution_count": 43,
     "metadata": {},
     "output_type": "execute_result"
    }
   ],
   "source": [
    "np.max(efforts_df.groupby('effort_id').count().sort_values(by = 'name', ascending = False).iloc[:,0])"
   ]
  },
  {
   "cell_type": "code",
   "execution_count": 44,
   "metadata": {},
   "outputs": [],
   "source": [
    "popular_segments = pd.DataFrame(efforts_df.groupby('segment_id').count().sort_values(by = 'name', ascending = False).iloc[:,0])\n",
    "popular_segments.reset_index(inplace = True)"
   ]
  },
  {
   "cell_type": "code",
   "execution_count": 45,
   "metadata": {},
   "outputs": [
    {
     "data": {
      "text/plain": [
       "[20831165,\n",
       " 3965883,\n",
       " 991763,\n",
       " 979002,\n",
       " 8590679,\n",
       " 1042067,\n",
       " 12046898,\n",
       " 14716360,\n",
       " 17747809,\n",
       " 7431006]"
      ]
     },
     "execution_count": 45,
     "metadata": {},
     "output_type": "execute_result"
    }
   ],
   "source": [
    "top10segs = list(popular_segments.head(10).iloc[:,0])\n",
    "top10segs"
   ]
  },
  {
   "cell_type": "code",
   "execution_count": 921,
   "metadata": {},
   "outputs": [
    {
     "data": {
      "image/png": "[encoded data removed]",
      "text/plain": [
       "<Figure size 432x288 with 1 Axes>"
      ]
     },
     "metadata": {
      "needs_background": "light"
     },
     "output_type": "display_data"
    }
   ],
   "source": [
    "data = efforts_df[efforts_df.segment_id.isin(top10segs)]\n",
    "\n",
    "plt = sns.countplot(x = 'name',\n",
    "                    data = data, \n",
    "                    order = data.name.value_counts().index)\n",
    "plt.set_xticklabels(plt.get_xticklabels(), rotation=90, ha=\"right\");"
   ]
  },
  {
   "cell_type": "code",
   "execution_count": 540,
   "metadata": {},
   "outputs": [
    {
     "data": {
      "text/plain": [
       "(67611,)"
      ]
     },
     "execution_count": 540,
     "metadata": {},
     "output_type": "execute_result"
    }
   ],
   "source": [
    "efforts_df.effort_id.unique().shape"
   ]
  },
  {
   "cell_type": "code",
   "execution_count": 48,
   "metadata": {},
   "outputs": [
    {
     "data": {
      "text/html": [
       "<div>\n",
       "<style scoped>\n",
       "    .dataframe tbody tr th:only-of-type {\n",
       "        vertical-align: middle;\n",
       "    }\n",
       "\n",
       "    .dataframe tbody tr th {\n",
       "        vertical-align: top;\n",
       "    }\n",
       "\n",
       "    .dataframe thead th {\n",
       "        text-align: right;\n",
       "    }\n",
       "</style>\n",
       "<table border=\"1\" class=\"dataframe\">\n",
       "  <thead>\n",
       "    <tr style=\"text-align: right;\">\n",
       "      <th></th>\n",
       "      <th>segment_id</th>\n",
       "      <th>name</th>\n",
       "      <th>distance</th>\n",
       "      <th>average_grade</th>\n",
       "      <th>maximum_grade</th>\n",
       "      <th>elevation_high</th>\n",
       "      <th>elevation_low</th>\n",
       "      <th>total_elevation_gain</th>\n",
       "      <th>start_latitude</th>\n",
       "      <th>end_latitude</th>\n",
       "      <th>start_longitude</th>\n",
       "      <th>end_longitude</th>\n",
       "      <th>climb_category</th>\n",
       "      <th>city</th>\n",
       "      <th>state</th>\n",
       "      <th>country</th>\n",
       "      <th>effort_count</th>\n",
       "      <th>athlete_count</th>\n",
       "      <th>athlete_segment_stats</th>\n",
       "      <th>map</th>\n",
       "    </tr>\n",
       "  </thead>\n",
       "  <tbody>\n",
       "  </tbody>\n",
       "</table>\n",
       "</div>"
      ],
      "text/plain": [
       "Empty DataFrame\n",
       "Columns: [segment_id, name, distance, average_grade, maximum_grade, elevation_high, elevation_low, total_elevation_gain, start_latitude, end_latitude, start_longitude, end_longitude, climb_category, city, state, country, effort_count, athlete_count, athlete_segment_stats, map]\n",
       "Index: []"
      ]
     },
     "execution_count": 48,
     "metadata": {},
     "output_type": "execute_result"
    }
   ],
   "source": [
    "seg_details_cols = ['segment_id',\n",
    "                    'name',\n",
    "                    'distance',\n",
    "                    'average_grade',\n",
    "                    'maximum_grade',\n",
    "                    'elevation_high',\n",
    "                    'elevation_low',\n",
    "                    'total_elevation_gain',\n",
    "                    'start_latitude',\n",
    "                    'end_latitude',\n",
    "                    'start_longitude',\n",
    "                    'end_longitude',\n",
    "                    'climb_category',\n",
    "                    'city',\n",
    "                    'state',\n",
    "                    'country',\n",
    "                    'effort_count',\n",
    "                    'athlete_count',\n",
    "                    'athlete_segment_stats',\n",
    "                    'map']\n",
    "seg_details_df = pd.DataFrame(columns = seg_details_cols)\n",
    "seg_details_df"
   ]
  },
  {
   "cell_type": "code",
   "execution_count": 542,
   "metadata": {},
   "outputs": [
    {
     "data": {
      "text/plain": [
       "(7464, 20)"
      ]
     },
     "execution_count": 542,
     "metadata": {},
     "output_type": "execute_result"
    }
   ],
   "source": [
    "seg_details_df = pd.read_csv('data/seg_details_df.csv')\n",
    "seg_details_df.shape"
   ]
  },
  {
   "cell_type": "code",
   "execution_count": 543,
   "metadata": {},
   "outputs": [],
   "source": [
    "#seg_details_index = seg_details_df.shape[0]"
   ]
  },
  {
   "cell_type": "code",
   "execution_count": 544,
   "metadata": {},
   "outputs": [
    {
     "name": "stdout",
     "output_type": "stream",
     "text": [
      "shape before drop duplicates: (7464, 20)\n",
      "unique seqments before drop duplicates: (7464,)\n",
      "shape after drop duplicates: (7464, 20)\n",
      "unique seqments after drop duplicates: (7464,)\n"
     ]
    }
   ],
   "source": [
    "print('shape before drop duplicates: {}'.format(seg_details_df.shape))\n",
    "print('unique seqments before drop duplicates: {}'.format(seg_details_df.segment_id.unique().shape))\n",
    "seg_details_df.drop_duplicates(subset='segment_id', keep='first',inplace=True)\n",
    "print('shape after drop duplicates: {}'.format(seg_details_df.shape))\n",
    "print('unique seqments after drop duplicates: {}'.format(seg_details_df.segment_id.unique().shape))"
   ]
  },
  {
   "cell_type": "code",
   "execution_count": 545,
   "metadata": {},
   "outputs": [
    {
     "data": {
      "text/plain": [
       "7628"
      ]
     },
     "execution_count": 545,
     "metadata": {},
     "output_type": "execute_result"
    }
   ],
   "source": [
    "segment_ids = set(segment_ids)\n",
    "len(segment_ids)"
   ]
  },
  {
   "cell_type": "code",
   "execution_count": 546,
   "metadata": {},
   "outputs": [
    {
     "data": {
      "text/plain": [
       "164"
      ]
     },
     "execution_count": 546,
     "metadata": {},
     "output_type": "execute_result"
    }
   ],
   "source": [
    "downloaded_details = set(seg_details_df.segment_id)\n",
    "\n",
    "seg_details_set = set(segment_ids)\n",
    "seg_details_set.difference_update(downloaded_details)\n",
    "segments_remaining = len(seg_details_set)\n",
    "\n",
    "segments_remaining"
   ]
  },
  {
   "cell_type": "code",
   "execution_count": 547,
   "metadata": {},
   "outputs": [
    {
     "data": {
      "text/plain": [
       "164"
      ]
     },
     "execution_count": 547,
     "metadata": {},
     "output_type": "execute_result"
    }
   ],
   "source": [
    "len(seg_details_set)"
   ]
  },
  {
   "cell_type": "code",
   "execution_count": 548,
   "metadata": {},
   "outputs": [
    {
     "data": {
      "text/plain": [
       "164"
      ]
     },
     "execution_count": 548,
     "metadata": {},
     "output_type": "execute_result"
    }
   ],
   "source": [
    "seg_details_id_list = list(seg_details_set)\n",
    "len(seg_details_id_list)"
   ]
  },
  {
   "cell_type": "code",
   "execution_count": 549,
   "metadata": {},
   "outputs": [
    {
     "data": {
      "text/plain": [
       "segment_id\n",
       "746         1\n",
       "10665888    1\n",
       "10726626    1\n",
       "10721320    1\n",
       "10719674    1\n",
       "10719640    1\n",
       "10714228    1\n",
       "10713223    1\n",
       "10687774    1\n",
       "10686364    1\n",
       "Name: distance, dtype: int64"
      ]
     },
     "execution_count": 549,
     "metadata": {},
     "output_type": "execute_result"
    }
   ],
   "source": [
    "seg_details_df.groupby('segment_id').count().sort_values('distance', ascending = False).distance.head(10)"
   ]
  },
  {
   "cell_type": "code",
   "execution_count": 550,
   "metadata": {},
   "outputs": [
    {
     "data": {
      "text/html": [
       "<div>\n",
       "<style scoped>\n",
       "    .dataframe tbody tr th:only-of-type {\n",
       "        vertical-align: middle;\n",
       "    }\n",
       "\n",
       "    .dataframe tbody tr th {\n",
       "        vertical-align: top;\n",
       "    }\n",
       "\n",
       "    .dataframe thead th {\n",
       "        text-align: right;\n",
       "    }\n",
       "</style>\n",
       "<table border=\"1\" class=\"dataframe\">\n",
       "  <thead>\n",
       "    <tr style=\"text-align: right;\">\n",
       "      <th></th>\n",
       "      <th>segment_id</th>\n",
       "      <th>name</th>\n",
       "      <th>distance</th>\n",
       "      <th>average_grade</th>\n",
       "      <th>maximum_grade</th>\n",
       "      <th>elevation_high</th>\n",
       "      <th>elevation_low</th>\n",
       "      <th>total_elevation_gain</th>\n",
       "      <th>start_latitude</th>\n",
       "      <th>end_latitude</th>\n",
       "      <th>start_longitude</th>\n",
       "      <th>end_longitude</th>\n",
       "      <th>climb_category</th>\n",
       "      <th>city</th>\n",
       "      <th>state</th>\n",
       "      <th>country</th>\n",
       "      <th>effort_count</th>\n",
       "      <th>athlete_count</th>\n",
       "      <th>athlete_segment_stats</th>\n",
       "      <th>map</th>\n",
       "    </tr>\n",
       "  </thead>\n",
       "  <tbody>\n",
       "    <tr>\n",
       "      <th>3183</th>\n",
       "      <td>5297441</td>\n",
       "      <td>NaN</td>\n",
       "      <td>332.5</td>\n",
       "      <td>1.6</td>\n",
       "      <td>6.5</td>\n",
       "      <td>1777.8</td>\n",
       "      <td>1772.4</td>\n",
       "      <td>5.4</td>\n",
       "      <td>39.667368</td>\n",
       "      <td>39.670296</td>\n",
       "      <td>-105.186023</td>\n",
       "      <td>-105.186771</td>\n",
       "      <td>0</td>\n",
       "      <td>Morrison</td>\n",
       "      <td>CO</td>\n",
       "      <td>United States</td>\n",
       "      <td>76078</td>\n",
       "      <td>10718</td>\n",
       "      <td>{'effort_count': 6, 'pr_elapsed_time': '0:00:4...</td>\n",
       "      <td>{'id': 's5297441', 'polyline': '_pbqFtc_aSiQtC...</td>\n",
       "    </tr>\n",
       "  </tbody>\n",
       "</table>\n",
       "</div>"
      ],
      "text/plain": [
       "      segment_id name  distance  average_grade  maximum_grade  elevation_high  \\\n",
       "3183     5297441  NaN     332.5            1.6            6.5          1777.8   \n",
       "\n",
       "      elevation_low  total_elevation_gain  start_latitude  end_latitude  \\\n",
       "3183         1772.4                   5.4       39.667368     39.670296   \n",
       "\n",
       "      start_longitude  end_longitude  climb_category      city state  \\\n",
       "3183      -105.186023    -105.186771               0  Morrison    CO   \n",
       "\n",
       "            country  effort_count  athlete_count  \\\n",
       "3183  United States         76078          10718   \n",
       "\n",
       "                                  athlete_segment_stats  \\\n",
       "3183  {'effort_count': 6, 'pr_elapsed_time': '0:00:4...   \n",
       "\n",
       "                                                    map  \n",
       "3183  {'id': 's5297441', 'polyline': '_pbqFtc_aSiQtC...  "
      ]
     },
     "execution_count": 550,
     "metadata": {},
     "output_type": "execute_result"
    }
   ],
   "source": [
    "seg_details_df[seg_details_df.segment_id == 5297441] #why are there two of these? Is it in the polyline?"
   ]
  },
  {
   "cell_type": "code",
   "execution_count": 551,
   "metadata": {},
   "outputs": [],
   "source": [
    "#client.get_segment(seg_details_id_list[49]).to_dict()"
   ]
  },
  {
   "cell_type": "code",
   "execution_count": 552,
   "metadata": {},
   "outputs": [],
   "source": [
    "seg_details_index = 0"
   ]
  },
  {
   "cell_type": "code",
   "execution_count": 553,
   "metadata": {},
   "outputs": [
    {
     "data": {
      "text/plain": [
       "0"
      ]
     },
     "execution_count": 553,
     "metadata": {},
     "output_type": "execute_result"
    }
   ],
   "source": [
    "seg_details_index"
   ]
  },
  {
   "cell_type": "code",
   "execution_count": 554,
   "metadata": {},
   "outputs": [
    {
     "name": "stdout",
     "output_type": "stream",
     "text": [
      "#49, segment id: 6271997\n",
      "\n",
      "#99, segment id: 7654708\n",
      "\n",
      "#149, segment id: 793174\n",
      "\n",
      "#199, segment id: 715704\n",
      "\n"
     ]
    },
    {
     "ename": "IndexError",
     "evalue": "list index out of range",
     "output_type": "error",
     "traceback": [
      "\u001b[0;31m---------------------------------------------------------------------------\u001b[0m",
      "\u001b[0;31mIndexError\u001b[0m                                Traceback (most recent call last)",
      "\u001b[0;32m<ipython-input-554-c5457f9514f3>\u001b[0m in \u001b[0;36m<module>\u001b[0;34m\u001b[0m\n\u001b[1;32m      1\u001b[0m \u001b[0;32mfor\u001b[0m \u001b[0mi\u001b[0m \u001b[0;32min\u001b[0m \u001b[0mrange\u001b[0m\u001b[0;34m(\u001b[0m\u001b[0;36m0\u001b[0m\u001b[0;34m,\u001b[0m\u001b[0;36m24\u001b[0m\u001b[0;34m)\u001b[0m\u001b[0;34m:\u001b[0m\u001b[0;34m\u001b[0m\u001b[0;34m\u001b[0m\u001b[0m\n\u001b[0;32m----> 2\u001b[0;31m     \u001b[0mprint\u001b[0m\u001b[0;34m(\u001b[0m\u001b[0;34m'#{}, segment id: {}'\u001b[0m\u001b[0;34m.\u001b[0m\u001b[0mformat\u001b[0m\u001b[0;34m(\u001b[0m\u001b[0mi\u001b[0m\u001b[0;34m*\u001b[0m\u001b[0;36m50\u001b[0m\u001b[0;34m+\u001b[0m\u001b[0;36m49\u001b[0m\u001b[0;34m,\u001b[0m\u001b[0mseg_details_id_list\u001b[0m\u001b[0;34m[\u001b[0m\u001b[0mi\u001b[0m\u001b[0;34m*\u001b[0m\u001b[0;36m50\u001b[0m\u001b[0;34m-\u001b[0m\u001b[0;36m1\u001b[0m\u001b[0;34m]\u001b[0m\u001b[0;34m)\u001b[0m\u001b[0;34m)\u001b[0m\u001b[0;34m\u001b[0m\u001b[0;34m\u001b[0m\u001b[0m\n\u001b[0m\u001b[1;32m      3\u001b[0m     \u001b[0mprint\u001b[0m\u001b[0;34m(\u001b[0m\u001b[0;34m)\u001b[0m\u001b[0;34m\u001b[0m\u001b[0;34m\u001b[0m\u001b[0m\n",
      "\u001b[0;31mIndexError\u001b[0m: list index out of range"
     ]
    }
   ],
   "source": [
    "for i in range(0,24):\n",
    "    print('#{}, segment id: {}'.format(i*50+49,seg_details_id_list[i*50-1]))\n",
    "    print()\n"
   ]
  },
  {
   "cell_type": "code",
   "execution_count": 555,
   "metadata": {},
   "outputs": [
    {
     "name": "stdout",
     "output_type": "stream",
     "text": [
      "Last segment downloaded: 7654708 Black line\n",
      "It is 17:04. 50 segments downloaded. 114 segments to go...\n",
      "Last segment downloaded: 793174 bears run\n",
      "It is 17:04. 100 segments downloaded. 64 segments to go...\n",
      "Last segment downloaded: 715704 Unnamed Rd Climb\n",
      "It is 17:04. 150 segments downloaded. 14 segments to go...\n",
      "all 164 segments downloaded\n"
     ]
    }
   ],
   "source": [
    "try:\n",
    "    seg_details_df = pd.read_csv('data/seg_details_df.csv')\n",
    "    print('seg_details_df successfully loaded')\n",
    "except FileNotFoundError:\n",
    "    while seg_details_index < segments_remaining:\n",
    "        try:\n",
    "            for segment in seg_details_id_list:\n",
    "                this_segment_dict = client.get_segment(segment).to_dict()\n",
    "                this_segment_dict['segment_id'] = segment\n",
    "                seg_details_df = seg_details_df.append(\n",
    "                    {k:this_segment_dict[k] for k in seg_details_cols if k in this_segment_dict},\n",
    "                    ignore_index=True)\n",
    "                seg_details_index += 1\n",
    "                if seg_details_index % 50 == 0:\n",
    "                    print('Last segment downloaded: {0} {1}'.format(seg_details_df.tail(1).iloc[0,0],\n",
    "                                                                   seg_details_df.tail(1).iloc[0,1]))\n",
    "                    print('It is {0}. {1} segments downloaded. {2} segments to go...'\n",
    "                          .format(datetime.datetime.now().strftime(\"%H:%M\"),\n",
    "                                  seg_details_index,\n",
    "                                  segments_remaining - seg_details_index))\n",
    "        except:\n",
    "            wait = 0\n",
    "            print('rate limit exceeded, need to wait 15 minutes')\n",
    "            print('it is now {} minutes after the hour'.format(datetime.datetime.now().minute))\n",
    "            time.sleep(60*16)\n",
    "            print('trying again...')\n",
    "    print('all {} segments downloaded'.format(seg_details_index))"
   ]
  },
  {
   "cell_type": "code",
   "execution_count": 556,
   "metadata": {},
   "outputs": [
    {
     "name": "stdout",
     "output_type": "stream",
     "text": [
      "seg_details_df shape: (7628, 20)\n",
      "seg_details_df unique: (7628,)\n"
     ]
    }
   ],
   "source": [
    "print('seg_details_df shape: {}'.format(seg_details_df.shape))\n",
    "print('seg_details_df unique: {}'.format(seg_details_df.segment_id.unique().shape))"
   ]
  },
  {
   "cell_type": "code",
   "execution_count": 557,
   "metadata": {},
   "outputs": [],
   "source": [
    "seg_details_df.to_csv('data/seg_details_df.csv', index=False)"
   ]
  },
  {
   "cell_type": "code",
   "execution_count": 559,
   "metadata": {},
   "outputs": [
    {
     "name": "stdout",
     "output_type": "stream",
     "text": [
      "(0, 20)\n"
     ]
    }
   ],
   "source": [
    "#seg_details_df = seg_details_df.drop(['Unnamed: 0'], axis=1)\n",
    "#seg_details_df = seg_details_df.drop(['Unnamed: 0.1'], axis=1)\n",
    "print(seg_details_df[seg_details_df.athlete_segment_stats.isna()].shape)\n",
    "#print(seg_details_df[seg_details_df.pr_elapsed_time.isna()].shape)"
   ]
  },
  {
   "cell_type": "code",
   "execution_count": null,
   "metadata": {},
   "outputs": [],
   "source": [
    "#this is in case seg_details_df gets saved after cleaning\n",
    "\n",
    "# unpacked = seg_details_df[~seg_details_df.pr_elapsed_time.isna()]\n",
    "# packed = seg_details_df[seg_details_df.pr_elapsed_time.isna()]\n",
    "# print(seg_details_df.shape)\n",
    "# print(unpacked.shape)\n",
    "# print(packed.shape)\n",
    "# print(packed.shape[0] + unpacked.shape[0])\n",
    "\n",
    "# packed = packed.drop('all_athlete_efforts_count', axis = 1)\n",
    "# packed['all_athlete_efforts_count'] = packed['effort_count'] \n",
    "# packed = packed.drop('pr_elapsed_time', axis = 1)\n",
    "# packed = packed.drop('pr_date', axis = 1)\n",
    "# #packed = packed.drop('effort_count', axis = 1)\n",
    "# packed.head()\n",
    "\n",
    "\n",
    "# packed = unpack_dict_col(packed, 'athlete_segment_stats')\n",
    "# meters_to_miles(packed,'distance')\n",
    "# meters_to_feet(packed,'elevation_high')\n",
    "# meters_to_feet(packed,'elevation_low')\n",
    "# meters_to_feet(packed,'total_elevation_gain')"
   ]
  },
  {
   "cell_type": "code",
   "execution_count": 560,
   "metadata": {},
   "outputs": [
    {
     "data": {
      "text/plain": [
       "(7628, 20)"
      ]
     },
     "execution_count": 560,
     "metadata": {},
     "output_type": "execute_result"
    }
   ],
   "source": [
    "seg_details_df.shape"
   ]
  },
  {
   "cell_type": "code",
   "execution_count": 561,
   "metadata": {},
   "outputs": [
    {
     "data": {
      "text/plain": [
       "(7628,)"
      ]
     },
     "execution_count": 561,
     "metadata": {},
     "output_type": "execute_result"
    }
   ],
   "source": [
    "seg_details_df.segment_id.unique().shape"
   ]
  },
  {
   "cell_type": "code",
   "execution_count": 562,
   "metadata": {},
   "outputs": [],
   "source": [
    "seg_details_df = seg_details_df.rename(columns={\"effort_count\": \"all_athlete_efforts_count\"})"
   ]
  },
  {
   "cell_type": "code",
   "execution_count": 563,
   "metadata": {},
   "outputs": [],
   "source": [
    "def unpack_dict_col(df, col):\n",
    "    return df.drop(col, 1).assign(**df[col].apply(pd.Series))"
   ]
  },
  {
   "cell_type": "code",
   "execution_count": 565,
   "metadata": {},
   "outputs": [
    {
     "data": {
      "text/html": [
       "<div>\n",
       "<style scoped>\n",
       "    .dataframe tbody tr th:only-of-type {\n",
       "        vertical-align: middle;\n",
       "    }\n",
       "\n",
       "    .dataframe tbody tr th {\n",
       "        vertical-align: top;\n",
       "    }\n",
       "\n",
       "    .dataframe thead th {\n",
       "        text-align: right;\n",
       "    }\n",
       "</style>\n",
       "<table border=\"1\" class=\"dataframe\">\n",
       "  <thead>\n",
       "    <tr style=\"text-align: right;\">\n",
       "      <th></th>\n",
       "      <th>segment_id</th>\n",
       "      <th>name</th>\n",
       "      <th>distance</th>\n",
       "      <th>average_grade</th>\n",
       "      <th>maximum_grade</th>\n",
       "      <th>elevation_high</th>\n",
       "      <th>elevation_low</th>\n",
       "      <th>total_elevation_gain</th>\n",
       "      <th>start_latitude</th>\n",
       "      <th>end_latitude</th>\n",
       "      <th>start_longitude</th>\n",
       "      <th>end_longitude</th>\n",
       "      <th>climb_category</th>\n",
       "      <th>city</th>\n",
       "      <th>state</th>\n",
       "      <th>country</th>\n",
       "      <th>all_athlete_efforts_count</th>\n",
       "      <th>athlete_count</th>\n",
       "      <th>athlete_segment_stats</th>\n",
       "      <th>map</th>\n",
       "    </tr>\n",
       "  </thead>\n",
       "  <tbody>\n",
       "    <tr>\n",
       "      <th>0</th>\n",
       "      <td>12338997</td>\n",
       "      <td>For All The Lil Groms</td>\n",
       "      <td>94.30</td>\n",
       "      <td>-2.3</td>\n",
       "      <td>1.5</td>\n",
       "      <td>1677.4</td>\n",
       "      <td>1674.4</td>\n",
       "      <td>0.0000</td>\n",
       "      <td>39.758621</td>\n",
       "      <td>39.758319</td>\n",
       "      <td>-105.219889</td>\n",
       "      <td>-105.219699</td>\n",
       "      <td>0</td>\n",
       "      <td>Golden</td>\n",
       "      <td>Colorado</td>\n",
       "      <td>United States</td>\n",
       "      <td>22291</td>\n",
       "      <td>5310</td>\n",
       "      <td>{'effort_count': 104, 'pr_elapsed_time': '0:00...</td>\n",
       "      <td>{'id': 's12338997', 'polyline': 'kjtqFhweaSBC?...</td>\n",
       "    </tr>\n",
       "    <tr>\n",
       "      <th>1</th>\n",
       "      <td>991763</td>\n",
       "      <td>Tunnel to Tunnel</td>\n",
       "      <td>445.34</td>\n",
       "      <td>4.5</td>\n",
       "      <td>29.1</td>\n",
       "      <td>1809.3</td>\n",
       "      <td>1788.7</td>\n",
       "      <td>23.5522</td>\n",
       "      <td>39.735290</td>\n",
       "      <td>39.731473</td>\n",
       "      <td>-105.214684</td>\n",
       "      <td>-105.215807</td>\n",
       "      <td>0</td>\n",
       "      <td>Golden</td>\n",
       "      <td>CO</td>\n",
       "      <td>United States</td>\n",
       "      <td>14963</td>\n",
       "      <td>2849</td>\n",
       "      <td>{'effort_count': 221, 'pr_elapsed_time': '0:00...</td>\n",
       "      <td>{'id': 's991763', 'polyline': 'qxoqFxvdaSrATLr...</td>\n",
       "    </tr>\n",
       "    <tr>\n",
       "      <th>2</th>\n",
       "      <td>1284311</td>\n",
       "      <td>Golden Cruise: Parking Lot to First Parking Ga...</td>\n",
       "      <td>485.70</td>\n",
       "      <td>-0.5</td>\n",
       "      <td>6.1</td>\n",
       "      <td>1726.4</td>\n",
       "      <td>1722.2</td>\n",
       "      <td>0.0000</td>\n",
       "      <td>39.759567</td>\n",
       "      <td>39.756275</td>\n",
       "      <td>-105.219683</td>\n",
       "      <td>-105.220585</td>\n",
       "      <td>0</td>\n",
       "      <td>Golden</td>\n",
       "      <td>CO</td>\n",
       "      <td>United States</td>\n",
       "      <td>1780</td>\n",
       "      <td>642</td>\n",
       "      <td>{'effort_count': 129, 'pr_elapsed_time': '0:01...</td>\n",
       "      <td>{'id': 's1284311', 'polyline': 'gptqF`veaSVl@V...</td>\n",
       "    </tr>\n",
       "    <tr>\n",
       "      <th>3</th>\n",
       "      <td>17747809</td>\n",
       "      <td>44th Easley to Ford West</td>\n",
       "      <td>1967.10</td>\n",
       "      <td>0.4</td>\n",
       "      <td>14.8</td>\n",
       "      <td>1730.1</td>\n",
       "      <td>1722.3</td>\n",
       "      <td>12.7000</td>\n",
       "      <td>39.768894</td>\n",
       "      <td>39.759348</td>\n",
       "      <td>-105.201451</td>\n",
       "      <td>-105.220300</td>\n",
       "      <td>0</td>\n",
       "      <td>Golden</td>\n",
       "      <td>Colorado</td>\n",
       "      <td>United States</td>\n",
       "      <td>44812</td>\n",
       "      <td>5039</td>\n",
       "      <td>{'effort_count': 172, 'pr_elapsed_time': '0:03...</td>\n",
       "      <td>{'id': 's17747809', 'polyline': 'qjvqFbdbaSFd@...</td>\n",
       "    </tr>\n",
       "    <tr>\n",
       "      <th>4</th>\n",
       "      <td>7431006</td>\n",
       "      <td>Rocky Mountain Can Can</td>\n",
       "      <td>1416.10</td>\n",
       "      <td>0.5</td>\n",
       "      <td>5.7</td>\n",
       "      <td>1725.0</td>\n",
       "      <td>1718.6</td>\n",
       "      <td>6.4000</td>\n",
       "      <td>39.769799</td>\n",
       "      <td>39.763684</td>\n",
       "      <td>-105.198423</td>\n",
       "      <td>-105.212839</td>\n",
       "      <td>0</td>\n",
       "      <td>Golden</td>\n",
       "      <td>CO</td>\n",
       "      <td>United States</td>\n",
       "      <td>42360</td>\n",
       "      <td>4829</td>\n",
       "      <td>{'effort_count': 172, 'pr_elapsed_time': '0:02...</td>\n",
       "      <td>{'id': 's7431006', 'polyline': 'epvqFdqaaS^bBn...</td>\n",
       "    </tr>\n",
       "  </tbody>\n",
       "</table>\n",
       "</div>"
      ],
      "text/plain": [
       "   segment_id                                               name  distance  \\\n",
       "0    12338997                              For All The Lil Groms     94.30   \n",
       "1      991763                                   Tunnel to Tunnel    445.34   \n",
       "2     1284311  Golden Cruise: Parking Lot to First Parking Ga...    485.70   \n",
       "3    17747809                           44th Easley to Ford West   1967.10   \n",
       "4     7431006                             Rocky Mountain Can Can   1416.10   \n",
       "\n",
       "   average_grade  maximum_grade  elevation_high  elevation_low  \\\n",
       "0           -2.3            1.5          1677.4         1674.4   \n",
       "1            4.5           29.1          1809.3         1788.7   \n",
       "2           -0.5            6.1          1726.4         1722.2   \n",
       "3            0.4           14.8          1730.1         1722.3   \n",
       "4            0.5            5.7          1725.0         1718.6   \n",
       "\n",
       "   total_elevation_gain  start_latitude  end_latitude  start_longitude  \\\n",
       "0                0.0000       39.758621     39.758319      -105.219889   \n",
       "1               23.5522       39.735290     39.731473      -105.214684   \n",
       "2                0.0000       39.759567     39.756275      -105.219683   \n",
       "3               12.7000       39.768894     39.759348      -105.201451   \n",
       "4                6.4000       39.769799     39.763684      -105.198423   \n",
       "\n",
       "   end_longitude  climb_category    city     state        country  \\\n",
       "0    -105.219699               0  Golden  Colorado  United States   \n",
       "1    -105.215807               0  Golden        CO  United States   \n",
       "2    -105.220585               0  Golden        CO  United States   \n",
       "3    -105.220300               0  Golden  Colorado  United States   \n",
       "4    -105.212839               0  Golden        CO  United States   \n",
       "\n",
       "   all_athlete_efforts_count  athlete_count  \\\n",
       "0                      22291           5310   \n",
       "1                      14963           2849   \n",
       "2                       1780            642   \n",
       "3                      44812           5039   \n",
       "4                      42360           4829   \n",
       "\n",
       "                               athlete_segment_stats  \\\n",
       "0  {'effort_count': 104, 'pr_elapsed_time': '0:00...   \n",
       "1  {'effort_count': 221, 'pr_elapsed_time': '0:00...   \n",
       "2  {'effort_count': 129, 'pr_elapsed_time': '0:01...   \n",
       "3  {'effort_count': 172, 'pr_elapsed_time': '0:03...   \n",
       "4  {'effort_count': 172, 'pr_elapsed_time': '0:02...   \n",
       "\n",
       "                                                 map  \n",
       "0  {'id': 's12338997', 'polyline': 'kjtqFhweaSBC?...  \n",
       "1  {'id': 's991763', 'polyline': 'qxoqFxvdaSrATLr...  \n",
       "2  {'id': 's1284311', 'polyline': 'gptqF`veaSVl@V...  \n",
       "3  {'id': 's17747809', 'polyline': 'qjvqFbdbaSFd@...  \n",
       "4  {'id': 's7431006', 'polyline': 'epvqFdqaaS^bBn...  "
      ]
     },
     "execution_count": 565,
     "metadata": {},
     "output_type": "execute_result"
    }
   ],
   "source": [
    "seg_details_df.head()"
   ]
  },
  {
   "cell_type": "code",
   "execution_count": 566,
   "metadata": {},
   "outputs": [
    {
     "ename": "TypeError",
     "evalue": "assign() keywords must be strings",
     "output_type": "error",
     "traceback": [
      "\u001b[0;31m---------------------------------------------------------------------------\u001b[0m",
      "\u001b[0;31mTypeError\u001b[0m                                 Traceback (most recent call last)",
      "\u001b[0;32m<ipython-input-566-e6cda528bf08>\u001b[0m in \u001b[0;36m<module>\u001b[0;34m\u001b[0m\n\u001b[0;32m----> 1\u001b[0;31m \u001b[0mseg_details_df\u001b[0m \u001b[0;34m=\u001b[0m \u001b[0munpack_dict_col\u001b[0m\u001b[0;34m(\u001b[0m\u001b[0mseg_details_df\u001b[0m\u001b[0;34m,\u001b[0m \u001b[0;34m'athlete_segment_stats'\u001b[0m\u001b[0;34m)\u001b[0m\u001b[0;34m\u001b[0m\u001b[0;34m\u001b[0m\u001b[0m\n\u001b[0m",
      "\u001b[0;32m<ipython-input-563-d5e78655d7b2>\u001b[0m in \u001b[0;36munpack_dict_col\u001b[0;34m(df, col)\u001b[0m\n\u001b[1;32m      1\u001b[0m \u001b[0;32mdef\u001b[0m \u001b[0munpack_dict_col\u001b[0m\u001b[0;34m(\u001b[0m\u001b[0mdf\u001b[0m\u001b[0;34m,\u001b[0m \u001b[0mcol\u001b[0m\u001b[0;34m)\u001b[0m\u001b[0;34m:\u001b[0m\u001b[0;34m\u001b[0m\u001b[0;34m\u001b[0m\u001b[0m\n\u001b[0;32m----> 2\u001b[0;31m     \u001b[0;32mreturn\u001b[0m \u001b[0mdf\u001b[0m\u001b[0;34m.\u001b[0m\u001b[0mdrop\u001b[0m\u001b[0;34m(\u001b[0m\u001b[0mcol\u001b[0m\u001b[0;34m,\u001b[0m \u001b[0;36m1\u001b[0m\u001b[0;34m)\u001b[0m\u001b[0;34m.\u001b[0m\u001b[0massign\u001b[0m\u001b[0;34m(\u001b[0m\u001b[0;34m**\u001b[0m\u001b[0mdf\u001b[0m\u001b[0;34m[\u001b[0m\u001b[0mcol\u001b[0m\u001b[0;34m]\u001b[0m\u001b[0;34m.\u001b[0m\u001b[0mapply\u001b[0m\u001b[0;34m(\u001b[0m\u001b[0mpd\u001b[0m\u001b[0;34m.\u001b[0m\u001b[0mSeries\u001b[0m\u001b[0;34m)\u001b[0m\u001b[0;34m)\u001b[0m\u001b[0;34m\u001b[0m\u001b[0;34m\u001b[0m\u001b[0m\n\u001b[0m",
      "\u001b[0;31mTypeError\u001b[0m: assign() keywords must be strings"
     ]
    }
   ],
   "source": [
    "seg_details_df = unpack_dict_col(seg_details_df, 'athlete_segment_stats')"
   ]
  },
  {
   "cell_type": "code",
   "execution_count": 567,
   "metadata": {},
   "outputs": [],
   "source": [
    "meters_to_miles(seg_details_df,'distance')\n",
    "meters_to_feet(seg_details_df,'elevation_high')\n",
    "meters_to_feet(seg_details_df,'elevation_low')\n",
    "meters_to_feet(seg_details_df,'total_elevation_gain')"
   ]
  },
  {
   "cell_type": "code",
   "execution_count": 568,
   "metadata": {},
   "outputs": [
    {
     "data": {
      "text/html": [
       "<div>\n",
       "<style scoped>\n",
       "    .dataframe tbody tr th:only-of-type {\n",
       "        vertical-align: middle;\n",
       "    }\n",
       "\n",
       "    .dataframe tbody tr th {\n",
       "        vertical-align: top;\n",
       "    }\n",
       "\n",
       "    .dataframe thead th {\n",
       "        text-align: right;\n",
       "    }\n",
       "</style>\n",
       "<table border=\"1\" class=\"dataframe\">\n",
       "  <thead>\n",
       "    <tr style=\"text-align: right;\">\n",
       "      <th></th>\n",
       "      <th>segment_id</th>\n",
       "      <th>name</th>\n",
       "      <th>distance</th>\n",
       "      <th>average_grade</th>\n",
       "      <th>maximum_grade</th>\n",
       "      <th>elevation_high</th>\n",
       "      <th>elevation_low</th>\n",
       "      <th>total_elevation_gain</th>\n",
       "      <th>start_latitude</th>\n",
       "      <th>end_latitude</th>\n",
       "      <th>start_longitude</th>\n",
       "      <th>end_longitude</th>\n",
       "      <th>climb_category</th>\n",
       "      <th>city</th>\n",
       "      <th>state</th>\n",
       "      <th>country</th>\n",
       "      <th>all_athlete_efforts_count</th>\n",
       "      <th>athlete_count</th>\n",
       "      <th>athlete_segment_stats</th>\n",
       "      <th>map</th>\n",
       "    </tr>\n",
       "  </thead>\n",
       "  <tbody>\n",
       "    <tr>\n",
       "      <th>0</th>\n",
       "      <td>12338997</td>\n",
       "      <td>For All The Lil Groms</td>\n",
       "      <td>0.058595</td>\n",
       "      <td>-2.3</td>\n",
       "      <td>1.5</td>\n",
       "      <td>5503.281016</td>\n",
       "      <td>5493.438496</td>\n",
       "      <td>0.000000</td>\n",
       "      <td>39.758621</td>\n",
       "      <td>39.758319</td>\n",
       "      <td>-105.219889</td>\n",
       "      <td>-105.219699</td>\n",
       "      <td>0</td>\n",
       "      <td>Golden</td>\n",
       "      <td>Colorado</td>\n",
       "      <td>United States</td>\n",
       "      <td>22291</td>\n",
       "      <td>5310</td>\n",
       "      <td>{'effort_count': 104, 'pr_elapsed_time': '0:00...</td>\n",
       "      <td>{'id': 's12338997', 'polyline': 'kjtqFhweaSBC?...</td>\n",
       "    </tr>\n",
       "    <tr>\n",
       "      <th>1</th>\n",
       "      <td>991763</td>\n",
       "      <td>Tunnel to Tunnel</td>\n",
       "      <td>0.276721</td>\n",
       "      <td>4.5</td>\n",
       "      <td>29.1</td>\n",
       "      <td>5936.023812</td>\n",
       "      <td>5868.438508</td>\n",
       "      <td>77.271000</td>\n",
       "      <td>39.735290</td>\n",
       "      <td>39.731473</td>\n",
       "      <td>-105.214684</td>\n",
       "      <td>-105.215807</td>\n",
       "      <td>0</td>\n",
       "      <td>Golden</td>\n",
       "      <td>CO</td>\n",
       "      <td>United States</td>\n",
       "      <td>14963</td>\n",
       "      <td>2849</td>\n",
       "      <td>{'effort_count': 221, 'pr_elapsed_time': '0:00...</td>\n",
       "      <td>{'id': 's991763', 'polyline': 'qxoqFxvdaSrATLr...</td>\n",
       "    </tr>\n",
       "    <tr>\n",
       "      <th>2</th>\n",
       "      <td>1284311</td>\n",
       "      <td>Golden Cruise: Parking Lot to First Parking Ga...</td>\n",
       "      <td>0.301800</td>\n",
       "      <td>-0.5</td>\n",
       "      <td>6.1</td>\n",
       "      <td>5664.042176</td>\n",
       "      <td>5650.262648</td>\n",
       "      <td>0.000000</td>\n",
       "      <td>39.759567</td>\n",
       "      <td>39.756275</td>\n",
       "      <td>-105.219683</td>\n",
       "      <td>-105.220585</td>\n",
       "      <td>0</td>\n",
       "      <td>Golden</td>\n",
       "      <td>CO</td>\n",
       "      <td>United States</td>\n",
       "      <td>1780</td>\n",
       "      <td>642</td>\n",
       "      <td>{'effort_count': 129, 'pr_elapsed_time': '0:01...</td>\n",
       "      <td>{'id': 's1284311', 'polyline': 'gptqF`veaSVl@V...</td>\n",
       "    </tr>\n",
       "    <tr>\n",
       "      <th>3</th>\n",
       "      <td>17747809</td>\n",
       "      <td>44th Easley to Ford West</td>\n",
       "      <td>1.222299</td>\n",
       "      <td>0.4</td>\n",
       "      <td>14.8</td>\n",
       "      <td>5676.181284</td>\n",
       "      <td>5650.590732</td>\n",
       "      <td>41.666668</td>\n",
       "      <td>39.768894</td>\n",
       "      <td>39.759348</td>\n",
       "      <td>-105.201451</td>\n",
       "      <td>-105.220300</td>\n",
       "      <td>0</td>\n",
       "      <td>Golden</td>\n",
       "      <td>Colorado</td>\n",
       "      <td>United States</td>\n",
       "      <td>44812</td>\n",
       "      <td>5039</td>\n",
       "      <td>{'effort_count': 172, 'pr_elapsed_time': '0:03...</td>\n",
       "      <td>{'id': 's17747809', 'polyline': 'qjvqFbdbaSFd@...</td>\n",
       "    </tr>\n",
       "    <tr>\n",
       "      <th>4</th>\n",
       "      <td>7431006</td>\n",
       "      <td>Rocky Mountain Can Can</td>\n",
       "      <td>0.879923</td>\n",
       "      <td>0.5</td>\n",
       "      <td>5.7</td>\n",
       "      <td>5659.449000</td>\n",
       "      <td>5638.451624</td>\n",
       "      <td>20.997376</td>\n",
       "      <td>39.769799</td>\n",
       "      <td>39.763684</td>\n",
       "      <td>-105.198423</td>\n",
       "      <td>-105.212839</td>\n",
       "      <td>0</td>\n",
       "      <td>Golden</td>\n",
       "      <td>CO</td>\n",
       "      <td>United States</td>\n",
       "      <td>42360</td>\n",
       "      <td>4829</td>\n",
       "      <td>{'effort_count': 172, 'pr_elapsed_time': '0:02...</td>\n",
       "      <td>{'id': 's7431006', 'polyline': 'epvqFdqaaS^bBn...</td>\n",
       "    </tr>\n",
       "  </tbody>\n",
       "</table>\n",
       "</div>"
      ],
      "text/plain": [
       "   segment_id                                               name  distance  \\\n",
       "0    12338997                              For All The Lil Groms  0.058595   \n",
       "1      991763                                   Tunnel to Tunnel  0.276721   \n",
       "2     1284311  Golden Cruise: Parking Lot to First Parking Ga...  0.301800   \n",
       "3    17747809                           44th Easley to Ford West  1.222299   \n",
       "4     7431006                             Rocky Mountain Can Can  0.879923   \n",
       "\n",
       "   average_grade  maximum_grade  elevation_high  elevation_low  \\\n",
       "0           -2.3            1.5     5503.281016    5493.438496   \n",
       "1            4.5           29.1     5936.023812    5868.438508   \n",
       "2           -0.5            6.1     5664.042176    5650.262648   \n",
       "3            0.4           14.8     5676.181284    5650.590732   \n",
       "4            0.5            5.7     5659.449000    5638.451624   \n",
       "\n",
       "   total_elevation_gain  start_latitude  end_latitude  start_longitude  \\\n",
       "0              0.000000       39.758621     39.758319      -105.219889   \n",
       "1             77.271000       39.735290     39.731473      -105.214684   \n",
       "2              0.000000       39.759567     39.756275      -105.219683   \n",
       "3             41.666668       39.768894     39.759348      -105.201451   \n",
       "4             20.997376       39.769799     39.763684      -105.198423   \n",
       "\n",
       "   end_longitude  climb_category    city     state        country  \\\n",
       "0    -105.219699               0  Golden  Colorado  United States   \n",
       "1    -105.215807               0  Golden        CO  United States   \n",
       "2    -105.220585               0  Golden        CO  United States   \n",
       "3    -105.220300               0  Golden  Colorado  United States   \n",
       "4    -105.212839               0  Golden        CO  United States   \n",
       "\n",
       "   all_athlete_efforts_count  athlete_count  \\\n",
       "0                      22291           5310   \n",
       "1                      14963           2849   \n",
       "2                       1780            642   \n",
       "3                      44812           5039   \n",
       "4                      42360           4829   \n",
       "\n",
       "                               athlete_segment_stats  \\\n",
       "0  {'effort_count': 104, 'pr_elapsed_time': '0:00...   \n",
       "1  {'effort_count': 221, 'pr_elapsed_time': '0:00...   \n",
       "2  {'effort_count': 129, 'pr_elapsed_time': '0:01...   \n",
       "3  {'effort_count': 172, 'pr_elapsed_time': '0:03...   \n",
       "4  {'effort_count': 172, 'pr_elapsed_time': '0:02...   \n",
       "\n",
       "                                                 map  \n",
       "0  {'id': 's12338997', 'polyline': 'kjtqFhweaSBC?...  \n",
       "1  {'id': 's991763', 'polyline': 'qxoqFxvdaSrATLr...  \n",
       "2  {'id': 's1284311', 'polyline': 'gptqF`veaSVl@V...  \n",
       "3  {'id': 's17747809', 'polyline': 'qjvqFbdbaSFd@...  \n",
       "4  {'id': 's7431006', 'polyline': 'epvqFdqaaS^bBn...  "
      ]
     },
     "execution_count": 568,
     "metadata": {},
     "output_type": "execute_result"
    }
   ],
   "source": [
    "seg_details_df.head()"
   ]
  },
  {
   "cell_type": "code",
   "execution_count": 569,
   "metadata": {},
   "outputs": [
    {
     "ename": "AttributeError",
     "evalue": "'AxesSubplot' object has no attribute 'subplots'",
     "output_type": "error",
     "traceback": [
      "\u001b[0;31m---------------------------------------------------------------------------\u001b[0m",
      "\u001b[0;31mAttributeError\u001b[0m                            Traceback (most recent call last)",
      "\u001b[0;32m<ipython-input-569-684a245cea5a>\u001b[0m in \u001b[0;36m<module>\u001b[0;34m\u001b[0m\n\u001b[0;32m----> 1\u001b[0;31m \u001b[0mfig\u001b[0m\u001b[0;34m,\u001b[0m \u001b[0max\u001b[0m \u001b[0;34m=\u001b[0m \u001b[0mplt\u001b[0m\u001b[0;34m.\u001b[0m\u001b[0msubplots\u001b[0m\u001b[0;34m(\u001b[0m\u001b[0;34m)\u001b[0m\u001b[0;34m\u001b[0m\u001b[0;34m\u001b[0m\u001b[0m\n\u001b[0m\u001b[1;32m      2\u001b[0m \u001b[0;34m\u001b[0m\u001b[0m\n\u001b[1;32m      3\u001b[0m \u001b[0max\u001b[0m\u001b[0;34m.\u001b[0m\u001b[0mhist\u001b[0m\u001b[0;34m(\u001b[0m\u001b[0mseg_details_df\u001b[0m\u001b[0;34m.\u001b[0m\u001b[0mclimb_category\u001b[0m\u001b[0;34m)\u001b[0m\u001b[0;34m\u001b[0m\u001b[0;34m\u001b[0m\u001b[0m\n\u001b[1;32m      4\u001b[0m \u001b[0max\u001b[0m\u001b[0;34m.\u001b[0m\u001b[0mset_title\u001b[0m\u001b[0;34m(\u001b[0m\u001b[0;34m'Climb Category Histogram'\u001b[0m\u001b[0;34m)\u001b[0m\u001b[0;34m\u001b[0m\u001b[0;34m\u001b[0m\u001b[0m\n\u001b[1;32m      5\u001b[0m \u001b[0max\u001b[0m\u001b[0;34m.\u001b[0m\u001b[0mset_ylabel\u001b[0m\u001b[0;34m(\u001b[0m\u001b[0;34m'Segment Count'\u001b[0m\u001b[0;34m)\u001b[0m\u001b[0;34m\u001b[0m\u001b[0;34m\u001b[0m\u001b[0m\n",
      "\u001b[0;31mAttributeError\u001b[0m: 'AxesSubplot' object has no attribute 'subplots'"
     ]
    }
   ],
   "source": [
    "fig, ax = plt.subplots()\n",
    "\n",
    "ax.hist(seg_details_df.climb_category)\n",
    "ax.set_title('Climb Category Histogram')\n",
    "ax.set_ylabel('Segment Count')\n",
    "ax.set_xlabel('Climb Category')\n",
    "ax.set_xticks(np.linspace(0,5,6))\n",
    "ax.set_xlim(-.5,5.5)\n",
    "plt.tight_layout();"
   ]
  },
  {
   "cell_type": "code",
   "execution_count": 101,
   "metadata": {},
   "outputs": [
    {
     "data": {
      "text/html": [
       "<div>\n",
       "<style scoped>\n",
       "    .dataframe tbody tr th:only-of-type {\n",
       "        vertical-align: middle;\n",
       "    }\n",
       "\n",
       "    .dataframe tbody tr th {\n",
       "        vertical-align: top;\n",
       "    }\n",
       "\n",
       "    .dataframe thead th {\n",
       "        text-align: right;\n",
       "    }\n",
       "</style>\n",
       "<table border=\"1\" class=\"dataframe\">\n",
       "  <thead>\n",
       "    <tr style=\"text-align: right;\">\n",
       "      <th></th>\n",
       "      <th>ride_name</th>\n",
       "      <th>ride_id</th>\n",
       "      <th>bike</th>\n",
       "      <th>ride_distance</th>\n",
       "      <th>ride_moving_time</th>\n",
       "      <th>ride_elapsed_time</th>\n",
       "      <th>ride_elevation_gain</th>\n",
       "      <th>ride_start_time</th>\n",
       "      <th>segment_id</th>\n",
       "      <th>bike_type</th>\n",
       "    </tr>\n",
       "  </thead>\n",
       "  <tbody>\n",
       "    <tr>\n",
       "      <th>63257</th>\n",
       "      <td>07/30/2012 Golden, CO</td>\n",
       "      <td>40082170</td>\n",
       "      <td>Road</td>\n",
       "      <td>18.708238</td>\n",
       "      <td>0 days 01:22:35.000000000</td>\n",
       "      <td>0 days 10:40:32.000000000</td>\n",
       "      <td>970.472472</td>\n",
       "      <td>2012-07-30 07:20:46</td>\n",
       "      <td>12338997</td>\n",
       "      <td>Road</td>\n",
       "    </tr>\n",
       "    <tr>\n",
       "      <th>63258</th>\n",
       "      <td>07/30/2012 Golden, CO</td>\n",
       "      <td>40082170</td>\n",
       "      <td>Road</td>\n",
       "      <td>18.708238</td>\n",
       "      <td>0 days 01:22:35.000000000</td>\n",
       "      <td>0 days 10:40:32.000000000</td>\n",
       "      <td>970.472472</td>\n",
       "      <td>2012-07-30 07:20:46</td>\n",
       "      <td>991763</td>\n",
       "      <td>Road</td>\n",
       "    </tr>\n",
       "    <tr>\n",
       "      <th>63256</th>\n",
       "      <td>07/30/2012 Golden, CO</td>\n",
       "      <td>40082170</td>\n",
       "      <td>Road</td>\n",
       "      <td>18.708238</td>\n",
       "      <td>0 days 01:22:35.000000000</td>\n",
       "      <td>0 days 10:40:32.000000000</td>\n",
       "      <td>970.472472</td>\n",
       "      <td>2012-07-30 07:20:46</td>\n",
       "      <td>1284311</td>\n",
       "      <td>Road</td>\n",
       "    </tr>\n",
       "    <tr>\n",
       "      <th>63255</th>\n",
       "      <td>07/30/2012 Golden, CO</td>\n",
       "      <td>40082170</td>\n",
       "      <td>Road</td>\n",
       "      <td>18.708238</td>\n",
       "      <td>0 days 01:22:35.000000000</td>\n",
       "      <td>0 days 10:40:32.000000000</td>\n",
       "      <td>970.472472</td>\n",
       "      <td>2012-07-30 07:20:46</td>\n",
       "      <td>17747809</td>\n",
       "      <td>Road</td>\n",
       "    </tr>\n",
       "    <tr>\n",
       "      <th>63254</th>\n",
       "      <td>07/30/2012 Golden, CO</td>\n",
       "      <td>40082170</td>\n",
       "      <td>Road</td>\n",
       "      <td>18.708238</td>\n",
       "      <td>0 days 01:22:35.000000000</td>\n",
       "      <td>0 days 10:40:32.000000000</td>\n",
       "      <td>970.472472</td>\n",
       "      <td>2012-07-30 07:20:46</td>\n",
       "      <td>7431006</td>\n",
       "      <td>Road</td>\n",
       "    </tr>\n",
       "  </tbody>\n",
       "</table>\n",
       "</div>"
      ],
      "text/plain": [
       "                   ride_name   ride_id  bike  ride_distance  \\\n",
       "63257  07/30/2012 Golden, CO  40082170  Road      18.708238   \n",
       "63258  07/30/2012 Golden, CO  40082170  Road      18.708238   \n",
       "63256  07/30/2012 Golden, CO  40082170  Road      18.708238   \n",
       "63255  07/30/2012 Golden, CO  40082170  Road      18.708238   \n",
       "63254  07/30/2012 Golden, CO  40082170  Road      18.708238   \n",
       "\n",
       "                ride_moving_time          ride_elapsed_time  \\\n",
       "63257  0 days 01:22:35.000000000  0 days 10:40:32.000000000   \n",
       "63258  0 days 01:22:35.000000000  0 days 10:40:32.000000000   \n",
       "63256  0 days 01:22:35.000000000  0 days 10:40:32.000000000   \n",
       "63255  0 days 01:22:35.000000000  0 days 10:40:32.000000000   \n",
       "63254  0 days 01:22:35.000000000  0 days 10:40:32.000000000   \n",
       "\n",
       "       ride_elevation_gain      ride_start_time  segment_id bike_type  \n",
       "63257           970.472472  2012-07-30 07:20:46    12338997      Road  \n",
       "63258           970.472472  2012-07-30 07:20:46      991763      Road  \n",
       "63256           970.472472  2012-07-30 07:20:46     1284311      Road  \n",
       "63255           970.472472  2012-07-30 07:20:46    17747809      Road  \n",
       "63254           970.472472  2012-07-30 07:20:46     7431006      Road  "
      ]
     },
     "execution_count": 101,
     "metadata": {},
     "output_type": "execute_result"
    }
   ],
   "source": [
    "segments_df.head()"
   ]
  },
  {
   "cell_type": "code",
   "execution_count": null,
   "metadata": {},
   "outputs": [],
   "source": [
    "leaders_cols = []"
   ]
  },
  {
   "cell_type": "code",
   "execution_count": 723,
   "metadata": {},
   "outputs": [],
   "source": [
    "leader_index = 0"
   ]
  },
  {
   "cell_type": "code",
   "execution_count": 724,
   "metadata": {},
   "outputs": [
    {
     "data": {
      "text/plain": [
       "0"
      ]
     },
     "execution_count": 724,
     "metadata": {},
     "output_type": "execute_result"
    }
   ],
   "source": [
    "leader_index"
   ]
  },
  {
   "cell_type": "code",
   "execution_count": 801,
   "metadata": {},
   "outputs": [],
   "source": [
    "lb_dict = client.get_segment_leaderboard(991763).to_dict()"
   ]
  },
  {
   "cell_type": "code",
   "execution_count": 809,
   "metadata": {},
   "outputs": [
    {
     "data": {
      "text/html": [
       "<div>\n",
       "<style scoped>\n",
       "    .dataframe tbody tr th:only-of-type {\n",
       "        vertical-align: middle;\n",
       "    }\n",
       "\n",
       "    .dataframe tbody tr th {\n",
       "        vertical-align: top;\n",
       "    }\n",
       "\n",
       "    .dataframe thead th {\n",
       "        text-align: right;\n",
       "    }\n",
       "</style>\n",
       "<table border=\"1\" class=\"dataframe\">\n",
       "  <thead>\n",
       "    <tr style=\"text-align: right;\">\n",
       "      <th></th>\n",
       "      <th>athlete_name</th>\n",
       "      <th>elapsed_time</th>\n",
       "      <th>moving_time</th>\n",
       "      <th>rank</th>\n",
       "      <th>start_date</th>\n",
       "      <th>start_date_local</th>\n",
       "    </tr>\n",
       "  </thead>\n",
       "  <tbody>\n",
       "    <tr>\n",
       "      <th>0</th>\n",
       "      <td>Sammy R.</td>\n",
       "      <td>0:00:44</td>\n",
       "      <td>0:00:44</td>\n",
       "      <td>1</td>\n",
       "      <td>2013-07-19T19:35:22+00:00</td>\n",
       "      <td>2013-07-19T13:35:22</td>\n",
       "    </tr>\n",
       "    <tr>\n",
       "      <th>1</th>\n",
       "      <td>Tobias F.</td>\n",
       "      <td>0:00:46</td>\n",
       "      <td>0:00:46</td>\n",
       "      <td>2</td>\n",
       "      <td>2013-07-16T19:59:15+00:00</td>\n",
       "      <td>2013-07-16T13:59:15</td>\n",
       "    </tr>\n",
       "    <tr>\n",
       "      <th>2</th>\n",
       "      <td>Keith N.</td>\n",
       "      <td>0:00:52</td>\n",
       "      <td>0:00:52</td>\n",
       "      <td>3</td>\n",
       "      <td>2013-08-15T00:38:53+00:00</td>\n",
       "      <td>2013-08-14T18:38:53</td>\n",
       "    </tr>\n",
       "    <tr>\n",
       "      <th>3</th>\n",
       "      <td>Feldy B.</td>\n",
       "      <td>0:00:52</td>\n",
       "      <td>0:00:52</td>\n",
       "      <td>3</td>\n",
       "      <td>2018-06-02T21:22:32+00:00</td>\n",
       "      <td>2018-06-02T15:22:32</td>\n",
       "    </tr>\n",
       "    <tr>\n",
       "      <th>4</th>\n",
       "      <td>Kyle C.</td>\n",
       "      <td>0:00:53</td>\n",
       "      <td>0:00:53</td>\n",
       "      <td>5</td>\n",
       "      <td>2013-03-13T23:18:59+00:00</td>\n",
       "      <td>2013-03-13T17:18:59</td>\n",
       "    </tr>\n",
       "    <tr>\n",
       "      <th>5</th>\n",
       "      <td>Edwin S.</td>\n",
       "      <td>0:00:55</td>\n",
       "      <td>0:00:55</td>\n",
       "      <td>6</td>\n",
       "      <td>2015-03-17T16:43:49+00:00</td>\n",
       "      <td>2015-03-17T10:43:49</td>\n",
       "    </tr>\n",
       "    <tr>\n",
       "      <th>6</th>\n",
       "      <td>Brian G.</td>\n",
       "      <td>0:00:55</td>\n",
       "      <td>0:00:55</td>\n",
       "      <td>6</td>\n",
       "      <td>2019-05-11T23:13:05+00:00</td>\n",
       "      <td>2019-05-11T17:13:05</td>\n",
       "    </tr>\n",
       "    <tr>\n",
       "      <th>7</th>\n",
       "      <td>Shawn S.</td>\n",
       "      <td>0:00:57</td>\n",
       "      <td>0:00:57</td>\n",
       "      <td>8</td>\n",
       "      <td>2013-08-04T22:22:22+00:00</td>\n",
       "      <td>2013-08-04T16:22:22</td>\n",
       "    </tr>\n",
       "    <tr>\n",
       "      <th>8</th>\n",
       "      <td>Todd A.</td>\n",
       "      <td>0:00:57</td>\n",
       "      <td>0:00:57</td>\n",
       "      <td>8</td>\n",
       "      <td>2019-08-24T14:31:26+00:00</td>\n",
       "      <td>2019-08-24T08:31:26</td>\n",
       "    </tr>\n",
       "    <tr>\n",
       "      <th>9</th>\n",
       "      <td>John P.</td>\n",
       "      <td>0:00:58</td>\n",
       "      <td>0:00:58</td>\n",
       "      <td>10</td>\n",
       "      <td>2012-04-24T17:24:53+00:00</td>\n",
       "      <td>2012-04-24T11:24:53</td>\n",
       "    </tr>\n",
       "  </tbody>\n",
       "</table>\n",
       "</div>"
      ],
      "text/plain": [
       "  athlete_name elapsed_time moving_time  rank                 start_date  \\\n",
       "0     Sammy R.      0:00:44     0:00:44     1  2013-07-19T19:35:22+00:00   \n",
       "1    Tobias F.      0:00:46     0:00:46     2  2013-07-16T19:59:15+00:00   \n",
       "2     Keith N.      0:00:52     0:00:52     3  2013-08-15T00:38:53+00:00   \n",
       "3     Feldy B.      0:00:52     0:00:52     3  2018-06-02T21:22:32+00:00   \n",
       "4      Kyle C.      0:00:53     0:00:53     5  2013-03-13T23:18:59+00:00   \n",
       "5     Edwin S.      0:00:55     0:00:55     6  2015-03-17T16:43:49+00:00   \n",
       "6     Brian G.      0:00:55     0:00:55     6  2019-05-11T23:13:05+00:00   \n",
       "7     Shawn S.      0:00:57     0:00:57     8  2013-08-04T22:22:22+00:00   \n",
       "8      Todd A.      0:00:57     0:00:57     8  2019-08-24T14:31:26+00:00   \n",
       "9      John P.      0:00:58     0:00:58    10  2012-04-24T17:24:53+00:00   \n",
       "\n",
       "      start_date_local  \n",
       "0  2013-07-19T13:35:22  \n",
       "1  2013-07-16T13:59:15  \n",
       "2  2013-08-14T18:38:53  \n",
       "3  2018-06-02T15:22:32  \n",
       "4  2013-03-13T17:18:59  \n",
       "5  2015-03-17T10:43:49  \n",
       "6  2019-05-11T17:13:05  \n",
       "7  2013-08-04T16:22:22  \n",
       "8  2019-08-24T08:31:26  \n",
       "9  2012-04-24T11:24:53  "
      ]
     },
     "execution_count": 809,
     "metadata": {},
     "output_type": "execute_result"
    }
   ],
   "source": [
    "pd.DataFrame(lb_dict['entries'])"
   ]
  },
  {
   "cell_type": "code",
   "execution_count": null,
   "metadata": {},
   "outputs": [],
   "source": [
    "### This is not complete yet\n",
    "\n",
    "# try:\n",
    "#     leaders_df = pd.read_csv('data/leaders_df.csv')\n",
    "#     print('leader_df successfully loaded')\n",
    "# except FileNotFoundError:\n",
    "#     while leader_index < total_segments:\n",
    "#         try:\n",
    "#             for segment in segment_ids:\n",
    "#                 this_leader_dict = client.get_segment_leaderboard(segment).to_dict()\n",
    "#                 this_leader_dict['segment_id'] = segment\n",
    "#                 leaders_df = leaders_df.append(\n",
    "#                     {k:this_leader_dict[k] for k in leaders_cols if k in this_leader_dict},\n",
    "#                     ignore_index=True)\n",
    "#                 leader_index += 1\n",
    "#                 if leader_index % 50 == 0:\n",
    "#                     print('It is {0}. {1} leaderboards downloaded. {2} leaderboards to go...'\n",
    "#                           .format(datetime.datetime.now().strftime(\"%H:%M\"),\n",
    "#                                   leader_index,\n",
    "#                                   total_segments - leader_index))\n",
    "#         except:\n",
    "#             wait = 0\n",
    "#             print('rate limit exceeded, need to wait 15 minutes')\n",
    "#             print('it is now {} minutes after the hour'.format(datetime.datetime.now().minute))\n",
    "#             time.sleep(60)\n",
    "#             print('trying again...')\n",
    "#     print('all {} segments downloaded'.format(seg_details_index))"
   ]
  },
  {
   "cell_type": "code",
   "execution_count": 926,
   "metadata": {},
   "outputs": [
    {
     "ename": "KeyError",
     "evalue": "'bike_type'",
     "output_type": "error",
     "traceback": [
      "\u001b[0;31m---------------------------------------------------------------------------\u001b[0m",
      "\u001b[0;31mKeyError\u001b[0m                                  Traceback (most recent call last)",
      "\u001b[0;32m/anaconda3/lib/python3.7/site-packages/pandas/core/indexes/base.py\u001b[0m in \u001b[0;36mget_loc\u001b[0;34m(self, key, method, tolerance)\u001b[0m\n\u001b[1;32m   2656\u001b[0m             \u001b[0;32mtry\u001b[0m\u001b[0;34m:\u001b[0m\u001b[0;34m\u001b[0m\u001b[0;34m\u001b[0m\u001b[0m\n\u001b[0;32m-> 2657\u001b[0;31m                 \u001b[0;32mreturn\u001b[0m \u001b[0mself\u001b[0m\u001b[0;34m.\u001b[0m\u001b[0m_engine\u001b[0m\u001b[0;34m.\u001b[0m\u001b[0mget_loc\u001b[0m\u001b[0;34m(\u001b[0m\u001b[0mkey\u001b[0m\u001b[0;34m)\u001b[0m\u001b[0;34m\u001b[0m\u001b[0;34m\u001b[0m\u001b[0m\n\u001b[0m\u001b[1;32m   2658\u001b[0m             \u001b[0;32mexcept\u001b[0m \u001b[0mKeyError\u001b[0m\u001b[0;34m:\u001b[0m\u001b[0;34m\u001b[0m\u001b[0;34m\u001b[0m\u001b[0m\n",
      "\u001b[0;32mpandas/_libs/index.pyx\u001b[0m in \u001b[0;36mpandas._libs.index.IndexEngine.get_loc\u001b[0;34m()\u001b[0m\n",
      "\u001b[0;32mpandas/_libs/index.pyx\u001b[0m in \u001b[0;36mpandas._libs.index.IndexEngine.get_loc\u001b[0;34m()\u001b[0m\n",
      "\u001b[0;32mpandas/_libs/hashtable_class_helper.pxi\u001b[0m in \u001b[0;36mpandas._libs.hashtable.PyObjectHashTable.get_item\u001b[0;34m()\u001b[0m\n",
      "\u001b[0;32mpandas/_libs/hashtable_class_helper.pxi\u001b[0m in \u001b[0;36mpandas._libs.hashtable.PyObjectHashTable.get_item\u001b[0;34m()\u001b[0m\n",
      "\u001b[0;31mKeyError\u001b[0m: 'bike_type'",
      "\nDuring handling of the above exception, another exception occurred:\n",
      "\u001b[0;31mKeyError\u001b[0m                                  Traceback (most recent call last)",
      "\u001b[0;32m<ipython-input-926-ca1fddea572f>\u001b[0m in \u001b[0;36m<module>\u001b[0;34m\u001b[0m\n\u001b[0;32m----> 1\u001b[0;31m \u001b[0msegments_df\u001b[0m\u001b[0;34m[\u001b[0m\u001b[0;34m'percent_road'\u001b[0m\u001b[0;34m]\u001b[0m \u001b[0;34m=\u001b[0m \u001b[0mnp\u001b[0m\u001b[0;34m.\u001b[0m\u001b[0mwhere\u001b[0m\u001b[0;34m(\u001b[0m\u001b[0msegments_df\u001b[0m\u001b[0;34m[\u001b[0m\u001b[0;34m'bike_type'\u001b[0m\u001b[0;34m]\u001b[0m\u001b[0;34m==\u001b[0m\u001b[0;34m'Road'\u001b[0m\u001b[0;34m,\u001b[0m\u001b[0;36m1\u001b[0m\u001b[0;34m,\u001b[0m\u001b[0;36m0\u001b[0m\u001b[0;34m)\u001b[0m\u001b[0;34m\u001b[0m\u001b[0;34m\u001b[0m\u001b[0m\n\u001b[0m\u001b[1;32m      2\u001b[0m \u001b[0msegments_df\u001b[0m\u001b[0;34m.\u001b[0m\u001b[0mastype\u001b[0m\u001b[0;34m(\u001b[0m\u001b[0;34m{\u001b[0m\u001b[0;34m'segment_id'\u001b[0m\u001b[0;34m:\u001b[0m \u001b[0;34m'str'\u001b[0m\u001b[0;34m,\u001b[0m \u001b[0;34m'ride_id'\u001b[0m\u001b[0;34m:\u001b[0m \u001b[0;34m'str'\u001b[0m\u001b[0;34m}\u001b[0m\u001b[0;34m)\u001b[0m\u001b[0;34m\u001b[0m\u001b[0;34m\u001b[0m\u001b[0m\n\u001b[1;32m      3\u001b[0m \u001b[0msegments_df\u001b[0m\u001b[0;34m\u001b[0m\u001b[0;34m\u001b[0m\u001b[0m\n",
      "\u001b[0;32m/anaconda3/lib/python3.7/site-packages/pandas/core/frame.py\u001b[0m in \u001b[0;36m__getitem__\u001b[0;34m(self, key)\u001b[0m\n\u001b[1;32m   2925\u001b[0m             \u001b[0;32mif\u001b[0m \u001b[0mself\u001b[0m\u001b[0;34m.\u001b[0m\u001b[0mcolumns\u001b[0m\u001b[0;34m.\u001b[0m\u001b[0mnlevels\u001b[0m \u001b[0;34m>\u001b[0m \u001b[0;36m1\u001b[0m\u001b[0;34m:\u001b[0m\u001b[0;34m\u001b[0m\u001b[0;34m\u001b[0m\u001b[0m\n\u001b[1;32m   2926\u001b[0m                 \u001b[0;32mreturn\u001b[0m \u001b[0mself\u001b[0m\u001b[0;34m.\u001b[0m\u001b[0m_getitem_multilevel\u001b[0m\u001b[0;34m(\u001b[0m\u001b[0mkey\u001b[0m\u001b[0;34m)\u001b[0m\u001b[0;34m\u001b[0m\u001b[0;34m\u001b[0m\u001b[0m\n\u001b[0;32m-> 2927\u001b[0;31m             \u001b[0mindexer\u001b[0m \u001b[0;34m=\u001b[0m \u001b[0mself\u001b[0m\u001b[0;34m.\u001b[0m\u001b[0mcolumns\u001b[0m\u001b[0;34m.\u001b[0m\u001b[0mget_loc\u001b[0m\u001b[0;34m(\u001b[0m\u001b[0mkey\u001b[0m\u001b[0;34m)\u001b[0m\u001b[0;34m\u001b[0m\u001b[0;34m\u001b[0m\u001b[0m\n\u001b[0m\u001b[1;32m   2928\u001b[0m             \u001b[0;32mif\u001b[0m \u001b[0mis_integer\u001b[0m\u001b[0;34m(\u001b[0m\u001b[0mindexer\u001b[0m\u001b[0;34m)\u001b[0m\u001b[0;34m:\u001b[0m\u001b[0;34m\u001b[0m\u001b[0;34m\u001b[0m\u001b[0m\n\u001b[1;32m   2929\u001b[0m                 \u001b[0mindexer\u001b[0m \u001b[0;34m=\u001b[0m \u001b[0;34m[\u001b[0m\u001b[0mindexer\u001b[0m\u001b[0;34m]\u001b[0m\u001b[0;34m\u001b[0m\u001b[0;34m\u001b[0m\u001b[0m\n",
      "\u001b[0;32m/anaconda3/lib/python3.7/site-packages/pandas/core/indexes/base.py\u001b[0m in \u001b[0;36mget_loc\u001b[0;34m(self, key, method, tolerance)\u001b[0m\n\u001b[1;32m   2657\u001b[0m                 \u001b[0;32mreturn\u001b[0m \u001b[0mself\u001b[0m\u001b[0;34m.\u001b[0m\u001b[0m_engine\u001b[0m\u001b[0;34m.\u001b[0m\u001b[0mget_loc\u001b[0m\u001b[0;34m(\u001b[0m\u001b[0mkey\u001b[0m\u001b[0;34m)\u001b[0m\u001b[0;34m\u001b[0m\u001b[0;34m\u001b[0m\u001b[0m\n\u001b[1;32m   2658\u001b[0m             \u001b[0;32mexcept\u001b[0m \u001b[0mKeyError\u001b[0m\u001b[0;34m:\u001b[0m\u001b[0;34m\u001b[0m\u001b[0;34m\u001b[0m\u001b[0m\n\u001b[0;32m-> 2659\u001b[0;31m                 \u001b[0;32mreturn\u001b[0m \u001b[0mself\u001b[0m\u001b[0;34m.\u001b[0m\u001b[0m_engine\u001b[0m\u001b[0;34m.\u001b[0m\u001b[0mget_loc\u001b[0m\u001b[0;34m(\u001b[0m\u001b[0mself\u001b[0m\u001b[0;34m.\u001b[0m\u001b[0m_maybe_cast_indexer\u001b[0m\u001b[0;34m(\u001b[0m\u001b[0mkey\u001b[0m\u001b[0;34m)\u001b[0m\u001b[0;34m)\u001b[0m\u001b[0;34m\u001b[0m\u001b[0;34m\u001b[0m\u001b[0m\n\u001b[0m\u001b[1;32m   2660\u001b[0m         \u001b[0mindexer\u001b[0m \u001b[0;34m=\u001b[0m \u001b[0mself\u001b[0m\u001b[0;34m.\u001b[0m\u001b[0mget_indexer\u001b[0m\u001b[0;34m(\u001b[0m\u001b[0;34m[\u001b[0m\u001b[0mkey\u001b[0m\u001b[0;34m]\u001b[0m\u001b[0;34m,\u001b[0m \u001b[0mmethod\u001b[0m\u001b[0;34m=\u001b[0m\u001b[0mmethod\u001b[0m\u001b[0;34m,\u001b[0m \u001b[0mtolerance\u001b[0m\u001b[0;34m=\u001b[0m\u001b[0mtolerance\u001b[0m\u001b[0;34m)\u001b[0m\u001b[0;34m\u001b[0m\u001b[0;34m\u001b[0m\u001b[0m\n\u001b[1;32m   2661\u001b[0m         \u001b[0;32mif\u001b[0m \u001b[0mindexer\u001b[0m\u001b[0;34m.\u001b[0m\u001b[0mndim\u001b[0m \u001b[0;34m>\u001b[0m \u001b[0;36m1\u001b[0m \u001b[0;32mor\u001b[0m \u001b[0mindexer\u001b[0m\u001b[0;34m.\u001b[0m\u001b[0msize\u001b[0m \u001b[0;34m>\u001b[0m \u001b[0;36m1\u001b[0m\u001b[0;34m:\u001b[0m\u001b[0;34m\u001b[0m\u001b[0;34m\u001b[0m\u001b[0m\n",
      "\u001b[0;32mpandas/_libs/index.pyx\u001b[0m in \u001b[0;36mpandas._libs.index.IndexEngine.get_loc\u001b[0;34m()\u001b[0m\n",
      "\u001b[0;32mpandas/_libs/index.pyx\u001b[0m in \u001b[0;36mpandas._libs.index.IndexEngine.get_loc\u001b[0;34m()\u001b[0m\n",
      "\u001b[0;32mpandas/_libs/hashtable_class_helper.pxi\u001b[0m in \u001b[0;36mpandas._libs.hashtable.PyObjectHashTable.get_item\u001b[0;34m()\u001b[0m\n",
      "\u001b[0;32mpandas/_libs/hashtable_class_helper.pxi\u001b[0m in \u001b[0;36mpandas._libs.hashtable.PyObjectHashTable.get_item\u001b[0;34m()\u001b[0m\n",
      "\u001b[0;31mKeyError\u001b[0m: 'bike_type'"
     ]
    }
   ],
   "source": [
    "segments_df['percent_road'] = np.where(segments_df['bike_type']=='Road',1,0)\n",
    "segments_df.astype({'segment_id': 'str', 'ride_id': 'str'})\n",
    "segments_df"
   ]
  },
  {
   "cell_type": "code",
   "execution_count": 927,
   "metadata": {},
   "outputs": [
    {
     "ename": "AttributeError",
     "evalue": "'DataFrame' object has no attribute 'percent_road'",
     "output_type": "error",
     "traceback": [
      "\u001b[0;31m---------------------------------------------------------------------------\u001b[0m",
      "\u001b[0;31mAttributeError\u001b[0m                            Traceback (most recent call last)",
      "\u001b[0;32m<ipython-input-927-65cb486f554e>\u001b[0m in \u001b[0;36m<module>\u001b[0;34m\u001b[0m\n\u001b[1;32m      1\u001b[0m \u001b[0mbike_segment\u001b[0m \u001b[0;34m=\u001b[0m \u001b[0msegments_df\u001b[0m\u001b[0;34m.\u001b[0m\u001b[0mgroupby\u001b[0m\u001b[0;34m(\u001b[0m\u001b[0;34m'segment_id'\u001b[0m\u001b[0;34m)\u001b[0m\u001b[0;34m.\u001b[0m\u001b[0mmean\u001b[0m\u001b[0;34m(\u001b[0m\u001b[0;34m)\u001b[0m\u001b[0;34m.\u001b[0m\u001b[0mreset_index\u001b[0m\u001b[0;34m(\u001b[0m\u001b[0;34m)\u001b[0m\u001b[0;34m\u001b[0m\u001b[0;34m\u001b[0m\u001b[0m\n\u001b[1;32m      2\u001b[0m \u001b[0mbike_segment\u001b[0m\u001b[0;34m.\u001b[0m\u001b[0mdrop\u001b[0m\u001b[0;34m(\u001b[0m\u001b[0;34m[\u001b[0m\u001b[0;34m'ride_id'\u001b[0m\u001b[0;34m]\u001b[0m\u001b[0;34m,\u001b[0m \u001b[0maxis\u001b[0m\u001b[0;34m=\u001b[0m\u001b[0;36m1\u001b[0m\u001b[0;34m,\u001b[0m\u001b[0minplace\u001b[0m\u001b[0;34m=\u001b[0m\u001b[0;32mTrue\u001b[0m\u001b[0;34m)\u001b[0m\u001b[0;34m\u001b[0m\u001b[0;34m\u001b[0m\u001b[0m\n\u001b[0;32m----> 3\u001b[0;31m \u001b[0mbike_segment\u001b[0m\u001b[0;34m[\u001b[0m\u001b[0;34m'road_threshold'\u001b[0m\u001b[0;34m]\u001b[0m \u001b[0;34m=\u001b[0m \u001b[0mnp\u001b[0m\u001b[0;34m.\u001b[0m\u001b[0mwhere\u001b[0m\u001b[0;34m(\u001b[0m\u001b[0mbike_segment\u001b[0m\u001b[0;34m.\u001b[0m\u001b[0mpercent_road\u001b[0m \u001b[0;34m>\u001b[0m \u001b[0;36m.7\u001b[0m\u001b[0;34m,\u001b[0m \u001b[0;36m1\u001b[0m\u001b[0;34m,\u001b[0m \u001b[0mnp\u001b[0m\u001b[0;34m.\u001b[0m\u001b[0mwhere\u001b[0m\u001b[0;34m(\u001b[0m\u001b[0mbike_segment\u001b[0m\u001b[0;34m.\u001b[0m\u001b[0mpercent_road\u001b[0m \u001b[0;34m<\u001b[0m \u001b[0;36m.3\u001b[0m\u001b[0;34m,\u001b[0m \u001b[0;36m0\u001b[0m\u001b[0;34m,\u001b[0m \u001b[0mnp\u001b[0m\u001b[0;34m.\u001b[0m\u001b[0mnan\u001b[0m\u001b[0;34m)\u001b[0m\u001b[0;34m)\u001b[0m\u001b[0;34m\u001b[0m\u001b[0;34m\u001b[0m\u001b[0m\n\u001b[0m\u001b[1;32m      4\u001b[0m \u001b[0mbike_segment\u001b[0m\u001b[0;34m.\u001b[0m\u001b[0mhead\u001b[0m\u001b[0;34m(\u001b[0m\u001b[0;34m)\u001b[0m\u001b[0;34m\u001b[0m\u001b[0;34m\u001b[0m\u001b[0m\n",
      "\u001b[0;32m/anaconda3/lib/python3.7/site-packages/pandas/core/generic.py\u001b[0m in \u001b[0;36m__getattr__\u001b[0;34m(self, name)\u001b[0m\n\u001b[1;32m   5065\u001b[0m             \u001b[0;32mif\u001b[0m \u001b[0mself\u001b[0m\u001b[0;34m.\u001b[0m\u001b[0m_info_axis\u001b[0m\u001b[0;34m.\u001b[0m\u001b[0m_can_hold_identifiers_and_holds_name\u001b[0m\u001b[0;34m(\u001b[0m\u001b[0mname\u001b[0m\u001b[0;34m)\u001b[0m\u001b[0;34m:\u001b[0m\u001b[0;34m\u001b[0m\u001b[0;34m\u001b[0m\u001b[0m\n\u001b[1;32m   5066\u001b[0m                 \u001b[0;32mreturn\u001b[0m \u001b[0mself\u001b[0m\u001b[0;34m[\u001b[0m\u001b[0mname\u001b[0m\u001b[0;34m]\u001b[0m\u001b[0;34m\u001b[0m\u001b[0;34m\u001b[0m\u001b[0m\n\u001b[0;32m-> 5067\u001b[0;31m             \u001b[0;32mreturn\u001b[0m \u001b[0mobject\u001b[0m\u001b[0;34m.\u001b[0m\u001b[0m__getattribute__\u001b[0m\u001b[0;34m(\u001b[0m\u001b[0mself\u001b[0m\u001b[0;34m,\u001b[0m \u001b[0mname\u001b[0m\u001b[0;34m)\u001b[0m\u001b[0;34m\u001b[0m\u001b[0;34m\u001b[0m\u001b[0m\n\u001b[0m\u001b[1;32m   5068\u001b[0m \u001b[0;34m\u001b[0m\u001b[0m\n\u001b[1;32m   5069\u001b[0m     \u001b[0;32mdef\u001b[0m \u001b[0m__setattr__\u001b[0m\u001b[0;34m(\u001b[0m\u001b[0mself\u001b[0m\u001b[0;34m,\u001b[0m \u001b[0mname\u001b[0m\u001b[0;34m,\u001b[0m \u001b[0mvalue\u001b[0m\u001b[0;34m)\u001b[0m\u001b[0;34m:\u001b[0m\u001b[0;34m\u001b[0m\u001b[0;34m\u001b[0m\u001b[0m\n",
      "\u001b[0;31mAttributeError\u001b[0m: 'DataFrame' object has no attribute 'percent_road'"
     ]
    }
   ],
   "source": [
    "bike_segment = segments_df.groupby('segment_id').mean().reset_index()\n",
    "bike_segment.drop(['ride_id'], axis=1,inplace=True)\n",
    "bike_segment['road_threshold'] = np.where(bike_segment.percent_road > .7, 1, np.where(bike_segment.percent_road < .3, 0, np.nan))\n",
    "bike_segment.head()"
   ]
  },
  {
   "cell_type": "code",
   "execution_count": 104,
   "metadata": {},
   "outputs": [
    {
     "data": {
      "text/html": [
       "<div>\n",
       "<style scoped>\n",
       "    .dataframe tbody tr th:only-of-type {\n",
       "        vertical-align: middle;\n",
       "    }\n",
       "\n",
       "    .dataframe tbody tr th {\n",
       "        vertical-align: top;\n",
       "    }\n",
       "\n",
       "    .dataframe thead th {\n",
       "        text-align: right;\n",
       "    }\n",
       "</style>\n",
       "<table border=\"1\" class=\"dataframe\">\n",
       "  <thead>\n",
       "    <tr style=\"text-align: right;\">\n",
       "      <th></th>\n",
       "      <th>ride_name</th>\n",
       "      <th>ride_id</th>\n",
       "      <th>bike</th>\n",
       "      <th>ride_distance</th>\n",
       "      <th>ride_moving_time</th>\n",
       "      <th>ride_elapsed_time</th>\n",
       "      <th>ride_elevation_gain</th>\n",
       "      <th>ride_start_time</th>\n",
       "      <th>segment_id</th>\n",
       "      <th>bike_type</th>\n",
       "      <th>percent_road</th>\n",
       "    </tr>\n",
       "  </thead>\n",
       "  <tbody>\n",
       "    <tr>\n",
       "      <th>33618</th>\n",
       "      <td>Turns out Kerr Gulch got paved sometime in the...</td>\n",
       "      <td>325955050</td>\n",
       "      <td>Road</td>\n",
       "      <td>37.830123</td>\n",
       "      <td>0 days 02:55:01.000000000</td>\n",
       "      <td>0 days 03:02:34.000000000</td>\n",
       "      <td>3713.91088</td>\n",
       "      <td>2015-06-14 17:02:00</td>\n",
       "      <td>763</td>\n",
       "      <td>Road</td>\n",
       "      <td>1</td>\n",
       "    </tr>\n",
       "    <tr>\n",
       "      <th>11629</th>\n",
       "      <td>And I brought my Lambo. So embarrassing.</td>\n",
       "      <td>1615321457</td>\n",
       "      <td>Carbon Road</td>\n",
       "      <td>44.819801</td>\n",
       "      <td>0 days 03:22:34.000000000</td>\n",
       "      <td>0 days 03:23:02.000000000</td>\n",
       "      <td>4734.25212</td>\n",
       "      <td>2018-06-03 08:58:45</td>\n",
       "      <td>763</td>\n",
       "      <td>Road</td>\n",
       "      <td>1</td>\n",
       "    </tr>\n",
       "  </tbody>\n",
       "</table>\n",
       "</div>"
      ],
      "text/plain": [
       "                                               ride_name     ride_id  \\\n",
       "33618  Turns out Kerr Gulch got paved sometime in the...   325955050   \n",
       "11629          And I brought my Lambo. So embarrassing.   1615321457   \n",
       "\n",
       "              bike  ride_distance           ride_moving_time  \\\n",
       "33618         Road      37.830123  0 days 02:55:01.000000000   \n",
       "11629  Carbon Road      44.819801  0 days 03:22:34.000000000   \n",
       "\n",
       "               ride_elapsed_time  ride_elevation_gain      ride_start_time  \\\n",
       "33618  0 days 03:02:34.000000000           3713.91088  2015-06-14 17:02:00   \n",
       "11629  0 days 03:23:02.000000000           4734.25212  2018-06-03 08:58:45   \n",
       "\n",
       "       segment_id bike_type  percent_road  \n",
       "33618         763      Road             1  \n",
       "11629         763      Road             1  "
      ]
     },
     "execution_count": 104,
     "metadata": {},
     "output_type": "execute_result"
    }
   ],
   "source": [
    "segments_df.loc[segments_df.segment_id == 763]"
   ]
  },
  {
   "cell_type": "code",
   "execution_count": 923,
   "metadata": {},
   "outputs": [
    {
     "ename": "AttributeError",
     "evalue": "'AxesSubplot' object has no attribute 'subplots'",
     "output_type": "error",
     "traceback": [
      "\u001b[0;31m---------------------------------------------------------------------------\u001b[0m",
      "\u001b[0;31mAttributeError\u001b[0m                            Traceback (most recent call last)",
      "\u001b[0;32m<ipython-input-923-25284e348929>\u001b[0m in \u001b[0;36m<module>\u001b[0;34m\u001b[0m\n\u001b[0;32m----> 1\u001b[0;31m \u001b[0mfig\u001b[0m\u001b[0;34m,\u001b[0m \u001b[0max\u001b[0m \u001b[0;34m=\u001b[0m \u001b[0mplt\u001b[0m\u001b[0;34m.\u001b[0m\u001b[0msubplots\u001b[0m\u001b[0;34m(\u001b[0m\u001b[0;36m1\u001b[0m\u001b[0;34m,\u001b[0m\u001b[0;36m1\u001b[0m\u001b[0;34m)\u001b[0m\u001b[0;34m\u001b[0m\u001b[0;34m\u001b[0m\u001b[0m\n\u001b[0m\u001b[1;32m      2\u001b[0m \u001b[0;34m\u001b[0m\u001b[0m\n\u001b[1;32m      3\u001b[0m \u001b[0max\u001b[0m\u001b[0;34m.\u001b[0m\u001b[0mhist\u001b[0m\u001b[0;34m(\u001b[0m\u001b[0mbike_segment\u001b[0m\u001b[0;34m.\u001b[0m\u001b[0mpercent_road\u001b[0m\u001b[0;34m,\u001b[0m \u001b[0mbins\u001b[0m \u001b[0;34m=\u001b[0m \u001b[0;36m50\u001b[0m\u001b[0;34m,\u001b[0m \u001b[0mlabel\u001b[0m \u001b[0;34m=\u001b[0m \u001b[0;34m'Percentage'\u001b[0m\u001b[0;34m)\u001b[0m\u001b[0;34m\u001b[0m\u001b[0;34m\u001b[0m\u001b[0m\n\u001b[1;32m      4\u001b[0m \u001b[0max\u001b[0m\u001b[0;34m.\u001b[0m\u001b[0mhist\u001b[0m\u001b[0;34m(\u001b[0m\u001b[0mbike_segment\u001b[0m\u001b[0;34m.\u001b[0m\u001b[0mroad_threshold\u001b[0m\u001b[0;34m.\u001b[0m\u001b[0mdropna\u001b[0m\u001b[0;34m(\u001b[0m\u001b[0;34m)\u001b[0m\u001b[0;34m,\u001b[0m \u001b[0mbins\u001b[0m \u001b[0;34m=\u001b[0m \u001b[0;36m20\u001b[0m\u001b[0;34m,\u001b[0m \u001b[0malpha\u001b[0m \u001b[0;34m=\u001b[0m \u001b[0;36m.4\u001b[0m\u001b[0;34m,\u001b[0m \u001b[0mlabel\u001b[0m \u001b[0;34m=\u001b[0m \u001b[0;34m'Threshold >0.7 & <0.3'\u001b[0m\u001b[0;34m)\u001b[0m\u001b[0;34m\u001b[0m\u001b[0;34m\u001b[0m\u001b[0m\n\u001b[1;32m      5\u001b[0m \u001b[0max\u001b[0m\u001b[0;34m.\u001b[0m\u001b[0mset_title\u001b[0m\u001b[0;34m(\u001b[0m\u001b[0;34m'Disttribution of Segments by Bike'\u001b[0m\u001b[0;34m)\u001b[0m\u001b[0;34m\u001b[0m\u001b[0;34m\u001b[0m\u001b[0m\n",
      "\u001b[0;31mAttributeError\u001b[0m: 'AxesSubplot' object has no attribute 'subplots'"
     ]
    }
   ],
   "source": [
    "fig, ax = plt.subplots(1,1)\n",
    "\n",
    "ax.hist(bike_segment.percent_road, bins = 50, label = 'Percentage')\n",
    "ax.hist(bike_segment.road_threshold.dropna(), bins = 20, alpha = .4, label = 'Threshold >0.7 & <0.3')\n",
    "ax.set_title('Disttribution of Segments by Bike')\n",
    "ax.set_ylabel('Segment Count')\n",
    "ax.set_xlabel('Percentage Road Bike')\n",
    "ax.legend()\n",
    "\n",
    "plt.tight_layout();"
   ]
  },
  {
   "cell_type": "code",
   "execution_count": 924,
   "metadata": {},
   "outputs": [
    {
     "ename": "NameError",
     "evalue": "name 'bike_segment' is not defined",
     "output_type": "error",
     "traceback": [
      "\u001b[0;31m---------------------------------------------------------------------------\u001b[0m",
      "\u001b[0;31mNameError\u001b[0m                                 Traceback (most recent call last)",
      "\u001b[0;32m<ipython-input-924-a3b3b1adbcb7>\u001b[0m in \u001b[0;36m<module>\u001b[0;34m\u001b[0m\n\u001b[0;32m----> 1\u001b[0;31m \u001b[0mhalfandhalf\u001b[0m \u001b[0;34m=\u001b[0m \u001b[0mlist\u001b[0m\u001b[0;34m(\u001b[0m\u001b[0mbike_segment\u001b[0m\u001b[0;34m[\u001b[0m\u001b[0mbike_segment\u001b[0m\u001b[0;34m.\u001b[0m\u001b[0mpercent_road\u001b[0m \u001b[0;34m==\u001b[0m \u001b[0;36m.5\u001b[0m\u001b[0;34m]\u001b[0m\u001b[0;34m.\u001b[0m\u001b[0msegment_id\u001b[0m\u001b[0;34m)\u001b[0m\u001b[0;34m\u001b[0m\u001b[0;34m\u001b[0m\u001b[0m\n\u001b[0m",
      "\u001b[0;31mNameError\u001b[0m: name 'bike_segment' is not defined"
     ]
    }
   ],
   "source": [
    "halfandhalf = list(bike_segment[bike_segment.percent_road == .5].segment_id)"
   ]
  },
  {
   "cell_type": "code",
   "execution_count": 108,
   "metadata": {},
   "outputs": [
    {
     "data": {
      "text/plain": [
       "array(['the Prairie Steamer', 'Slee to Jesse Way',\n",
       "       '93 to White Ranch Lower PL', 'Pine Ridge Rd ascent',\n",
       "       'Pine Ridge climb from South', 'County Road 56 Climb',\n",
       "       'Last steep mile of CT5 eastside descent to Kenosha',\n",
       "       'Redskin Creek Rd Climb'], dtype=object)"
      ]
     },
     "execution_count": 108,
     "metadata": {},
     "output_type": "execute_result"
    }
   ],
   "source": [
    "seg_details_df.loc[seg_details_df['segment_id'].isin(halfandhalf)].name.unique()"
   ]
  },
  {
   "cell_type": "code",
   "execution_count": 185,
   "metadata": {},
   "outputs": [],
   "source": [
    "#bike_segment = pd.DataFrame([segments_df.bike_type,segments_df.segment_id]).transpose()\n",
    "#bike_segment.head()"
   ]
  },
  {
   "cell_type": "code",
   "execution_count": 930,
   "metadata": {},
   "outputs": [],
   "source": [
    "bike_selection_df = pd.merge(seg_details_df, bike_segment, on = 'segment_id')"
   ]
  },
  {
   "cell_type": "code",
   "execution_count": 112,
   "metadata": {},
   "outputs": [
    {
     "data": {
      "text/html": [
       "<div>\n",
       "<style scoped>\n",
       "    .dataframe tbody tr th:only-of-type {\n",
       "        vertical-align: middle;\n",
       "    }\n",
       "\n",
       "    .dataframe tbody tr th {\n",
       "        vertical-align: top;\n",
       "    }\n",
       "\n",
       "    .dataframe thead th {\n",
       "        text-align: right;\n",
       "    }\n",
       "</style>\n",
       "<table border=\"1\" class=\"dataframe\">\n",
       "  <thead>\n",
       "    <tr style=\"text-align: right;\">\n",
       "      <th></th>\n",
       "      <th>segment_id</th>\n",
       "      <th>name</th>\n",
       "      <th>distance</th>\n",
       "      <th>average_grade</th>\n",
       "      <th>maximum_grade</th>\n",
       "      <th>elevation_high</th>\n",
       "      <th>elevation_low</th>\n",
       "      <th>total_elevation_gain</th>\n",
       "      <th>start_latitude</th>\n",
       "      <th>end_latitude</th>\n",
       "      <th>start_longitude</th>\n",
       "      <th>end_longitude</th>\n",
       "      <th>climb_category</th>\n",
       "      <th>city</th>\n",
       "      <th>state</th>\n",
       "      <th>country</th>\n",
       "      <th>all_athlete_efforts_count</th>\n",
       "      <th>athlete_count</th>\n",
       "      <th>map</th>\n",
       "      <th>effort_count</th>\n",
       "      <th>pr_elapsed_time</th>\n",
       "      <th>pr_date</th>\n",
       "      <th>ride_distance</th>\n",
       "      <th>ride_elevation_gain</th>\n",
       "      <th>percent_road</th>\n",
       "      <th>road_threshold</th>\n",
       "    </tr>\n",
       "  </thead>\n",
       "  <tbody>\n",
       "    <tr>\n",
       "      <th>0</th>\n",
       "      <td>12338997</td>\n",
       "      <td>For All The Lil Groms</td>\n",
       "      <td>0.058595</td>\n",
       "      <td>-2.3</td>\n",
       "      <td>1.5</td>\n",
       "      <td>5503.281016</td>\n",
       "      <td>5493.438496</td>\n",
       "      <td>0.000</td>\n",
       "      <td>39.758621</td>\n",
       "      <td>39.758319</td>\n",
       "      <td>-105.219889</td>\n",
       "      <td>-105.219699</td>\n",
       "      <td>0</td>\n",
       "      <td>Golden</td>\n",
       "      <td>Colorado</td>\n",
       "      <td>United States</td>\n",
       "      <td>22291</td>\n",
       "      <td>5310</td>\n",
       "      <td>{'id': 's12338997', 'polyline': 'kjtqFhweaSBC?...</td>\n",
       "      <td>104.0</td>\n",
       "      <td>0:00:08</td>\n",
       "      <td>2014-05-28</td>\n",
       "      <td>18.593782</td>\n",
       "      <td>1254.020892</td>\n",
       "      <td>0.833333</td>\n",
       "      <td>1.0</td>\n",
       "    </tr>\n",
       "    <tr>\n",
       "      <th>1</th>\n",
       "      <td>12338997</td>\n",
       "      <td>For All The Lil Groms</td>\n",
       "      <td>0.058595</td>\n",
       "      <td>-2.3</td>\n",
       "      <td>1.5</td>\n",
       "      <td>5503.281016</td>\n",
       "      <td>5493.438496</td>\n",
       "      <td>0.000</td>\n",
       "      <td>39.758621</td>\n",
       "      <td>39.758319</td>\n",
       "      <td>-105.219889</td>\n",
       "      <td>-105.219699</td>\n",
       "      <td>0</td>\n",
       "      <td>Golden</td>\n",
       "      <td>Colorado</td>\n",
       "      <td>United States</td>\n",
       "      <td>22291</td>\n",
       "      <td>5310</td>\n",
       "      <td>{'id': 's12338997', 'polyline': 'kjtqFhweaSBC?...</td>\n",
       "      <td>104.0</td>\n",
       "      <td>0:00:08</td>\n",
       "      <td>2014-05-28</td>\n",
       "      <td>18.593782</td>\n",
       "      <td>1254.020892</td>\n",
       "      <td>0.833333</td>\n",
       "      <td>1.0</td>\n",
       "    </tr>\n",
       "    <tr>\n",
       "      <th>2</th>\n",
       "      <td>12338997</td>\n",
       "      <td>For All The Lil Groms</td>\n",
       "      <td>0.058595</td>\n",
       "      <td>-2.3</td>\n",
       "      <td>1.5</td>\n",
       "      <td>5503.281016</td>\n",
       "      <td>5493.438496</td>\n",
       "      <td>0.000</td>\n",
       "      <td>39.758621</td>\n",
       "      <td>39.758319</td>\n",
       "      <td>-105.219889</td>\n",
       "      <td>-105.219699</td>\n",
       "      <td>0</td>\n",
       "      <td>Golden</td>\n",
       "      <td>Colorado</td>\n",
       "      <td>United States</td>\n",
       "      <td>22291</td>\n",
       "      <td>5310</td>\n",
       "      <td>{'id': 's12338997', 'polyline': 'kjtqFhweaSBC?...</td>\n",
       "      <td>104.0</td>\n",
       "      <td>0:00:08</td>\n",
       "      <td>2014-05-28</td>\n",
       "      <td>18.593782</td>\n",
       "      <td>1254.020892</td>\n",
       "      <td>0.833333</td>\n",
       "      <td>1.0</td>\n",
       "    </tr>\n",
       "    <tr>\n",
       "      <th>3</th>\n",
       "      <td>12338997</td>\n",
       "      <td>For All The Lil Groms</td>\n",
       "      <td>0.058595</td>\n",
       "      <td>-2.3</td>\n",
       "      <td>1.5</td>\n",
       "      <td>5503.281016</td>\n",
       "      <td>5493.438496</td>\n",
       "      <td>0.000</td>\n",
       "      <td>39.758621</td>\n",
       "      <td>39.758319</td>\n",
       "      <td>-105.219889</td>\n",
       "      <td>-105.219699</td>\n",
       "      <td>0</td>\n",
       "      <td>Golden</td>\n",
       "      <td>Colorado</td>\n",
       "      <td>United States</td>\n",
       "      <td>22291</td>\n",
       "      <td>5310</td>\n",
       "      <td>{'id': 's12338997', 'polyline': 'kjtqFhweaSBC?...</td>\n",
       "      <td>104.0</td>\n",
       "      <td>0:00:08</td>\n",
       "      <td>2014-05-28</td>\n",
       "      <td>18.593782</td>\n",
       "      <td>1254.020892</td>\n",
       "      <td>0.833333</td>\n",
       "      <td>1.0</td>\n",
       "    </tr>\n",
       "    <tr>\n",
       "      <th>4</th>\n",
       "      <td>991763</td>\n",
       "      <td>Tunnel to Tunnel</td>\n",
       "      <td>0.276721</td>\n",
       "      <td>4.5</td>\n",
       "      <td>29.1</td>\n",
       "      <td>5936.023812</td>\n",
       "      <td>5868.438508</td>\n",
       "      <td>77.271</td>\n",
       "      <td>39.735290</td>\n",
       "      <td>39.731473</td>\n",
       "      <td>-105.214684</td>\n",
       "      <td>-105.215807</td>\n",
       "      <td>0</td>\n",
       "      <td>Golden</td>\n",
       "      <td>CO</td>\n",
       "      <td>United States</td>\n",
       "      <td>14963</td>\n",
       "      <td>2849</td>\n",
       "      <td>{'id': 's991763', 'polyline': 'qxoqFxvdaSrATLr...</td>\n",
       "      <td>221.0</td>\n",
       "      <td>0:00:52</td>\n",
       "      <td>2018-06-02</td>\n",
       "      <td>17.415018</td>\n",
       "      <td>1310.042693</td>\n",
       "      <td>0.785000</td>\n",
       "      <td>1.0</td>\n",
       "    </tr>\n",
       "  </tbody>\n",
       "</table>\n",
       "</div>"
      ],
      "text/plain": [
       "  segment_id                   name  distance  average_grade  maximum_grade  \\\n",
       "0   12338997  For All The Lil Groms  0.058595           -2.3            1.5   \n",
       "1   12338997  For All The Lil Groms  0.058595           -2.3            1.5   \n",
       "2   12338997  For All The Lil Groms  0.058595           -2.3            1.5   \n",
       "3   12338997  For All The Lil Groms  0.058595           -2.3            1.5   \n",
       "4     991763       Tunnel to Tunnel  0.276721            4.5           29.1   \n",
       "\n",
       "   elevation_high  elevation_low  total_elevation_gain  start_latitude  \\\n",
       "0     5503.281016    5493.438496                 0.000       39.758621   \n",
       "1     5503.281016    5493.438496                 0.000       39.758621   \n",
       "2     5503.281016    5493.438496                 0.000       39.758621   \n",
       "3     5503.281016    5493.438496                 0.000       39.758621   \n",
       "4     5936.023812    5868.438508                77.271       39.735290   \n",
       "\n",
       "   end_latitude  start_longitude  end_longitude climb_category    city  \\\n",
       "0     39.758319      -105.219889    -105.219699              0  Golden   \n",
       "1     39.758319      -105.219889    -105.219699              0  Golden   \n",
       "2     39.758319      -105.219889    -105.219699              0  Golden   \n",
       "3     39.758319      -105.219889    -105.219699              0  Golden   \n",
       "4     39.731473      -105.214684    -105.215807              0  Golden   \n",
       "\n",
       "      state        country all_athlete_efforts_count athlete_count  \\\n",
       "0  Colorado  United States                     22291          5310   \n",
       "1  Colorado  United States                     22291          5310   \n",
       "2  Colorado  United States                     22291          5310   \n",
       "3  Colorado  United States                     22291          5310   \n",
       "4        CO  United States                     14963          2849   \n",
       "\n",
       "                                                 map  effort_count  \\\n",
       "0  {'id': 's12338997', 'polyline': 'kjtqFhweaSBC?...         104.0   \n",
       "1  {'id': 's12338997', 'polyline': 'kjtqFhweaSBC?...         104.0   \n",
       "2  {'id': 's12338997', 'polyline': 'kjtqFhweaSBC?...         104.0   \n",
       "3  {'id': 's12338997', 'polyline': 'kjtqFhweaSBC?...         104.0   \n",
       "4  {'id': 's991763', 'polyline': 'qxoqFxvdaSrATLr...         221.0   \n",
       "\n",
       "  pr_elapsed_time     pr_date  ride_distance  ride_elevation_gain  \\\n",
       "0         0:00:08  2014-05-28      18.593782          1254.020892   \n",
       "1         0:00:08  2014-05-28      18.593782          1254.020892   \n",
       "2         0:00:08  2014-05-28      18.593782          1254.020892   \n",
       "3         0:00:08  2014-05-28      18.593782          1254.020892   \n",
       "4         0:00:52  2018-06-02      17.415018          1310.042693   \n",
       "\n",
       "   percent_road  road_threshold  \n",
       "0      0.833333             1.0  \n",
       "1      0.833333             1.0  \n",
       "2      0.833333             1.0  \n",
       "3      0.833333             1.0  \n",
       "4      0.785000             1.0  "
      ]
     },
     "execution_count": 112,
     "metadata": {},
     "output_type": "execute_result"
    }
   ],
   "source": [
    "bike_selection_df.head()"
   ]
  },
  {
   "cell_type": "code",
   "execution_count": 931,
   "metadata": {},
   "outputs": [],
   "source": [
    "from sklearn.model_selection import train_test_split\n",
    "from sklearn.linear_model import LogisticRegression, LinearRegression"
   ]
  },
  {
   "cell_type": "code",
   "execution_count": 932,
   "metadata": {},
   "outputs": [],
   "source": [
    "def get_sec(time_str):\n",
    "    \"\"\"Get Seconds from time.\"\"\"\n",
    "    h, m, s = time_str.split(':')\n",
    "    return int(h) * 3600 + int(m) * 60 + int(s)"
   ]
  },
  {
   "cell_type": "code",
   "execution_count": 933,
   "metadata": {},
   "outputs": [
    {
     "ename": "KeyError",
     "evalue": "\"['pr_elapsed_time'] not in index\"",
     "output_type": "error",
     "traceback": [
      "\u001b[0;31m---------------------------------------------------------------------------\u001b[0m",
      "\u001b[0;31mKeyError\u001b[0m                                  Traceback (most recent call last)",
      "\u001b[0;32m<ipython-input-933-f2090b1f5cd2>\u001b[0m in \u001b[0;36m<module>\u001b[0;34m\u001b[0m\n\u001b[1;32m      1\u001b[0m \u001b[0mmodeling_df\u001b[0m \u001b[0;34m=\u001b[0m \u001b[0mbike_selection_df\u001b[0m\u001b[0;34m.\u001b[0m\u001b[0mdropna\u001b[0m\u001b[0;34m(\u001b[0m\u001b[0;34m)\u001b[0m\u001b[0;34m\u001b[0m\u001b[0;34m\u001b[0m\u001b[0m\n\u001b[1;32m      2\u001b[0m \u001b[0;34m\u001b[0m\u001b[0m\n\u001b[0;32m----> 3\u001b[0;31m \u001b[0mX\u001b[0m \u001b[0;34m=\u001b[0m \u001b[0mmodeling_df\u001b[0m\u001b[0;34m[\u001b[0m\u001b[0;34m[\u001b[0m\u001b[0;34m'distance'\u001b[0m\u001b[0;34m,\u001b[0m\u001b[0;34m'average_grade'\u001b[0m\u001b[0;34m,\u001b[0m\u001b[0;34m'elevation_low'\u001b[0m\u001b[0;34m,\u001b[0m\u001b[0;34m'pr_elapsed_time'\u001b[0m\u001b[0;34m]\u001b[0m\u001b[0;34m]\u001b[0m\u001b[0;34m\u001b[0m\u001b[0;34m\u001b[0m\u001b[0m\n\u001b[0m\u001b[1;32m      4\u001b[0m \u001b[0mX\u001b[0m\u001b[0;34m.\u001b[0m\u001b[0mloc\u001b[0m\u001b[0;34m[\u001b[0m\u001b[0;34m:\u001b[0m\u001b[0;34m,\u001b[0m\u001b[0;34m'pr_elapsed_time'\u001b[0m\u001b[0;34m]\u001b[0m \u001b[0;34m=\u001b[0m \u001b[0mX\u001b[0m\u001b[0;34m.\u001b[0m\u001b[0mloc\u001b[0m\u001b[0;34m[\u001b[0m\u001b[0;34m:\u001b[0m\u001b[0;34m,\u001b[0m\u001b[0;34m'pr_elapsed_time'\u001b[0m\u001b[0;34m]\u001b[0m\u001b[0;34m.\u001b[0m\u001b[0mapply\u001b[0m\u001b[0;34m(\u001b[0m\u001b[0mget_sec\u001b[0m\u001b[0;34m)\u001b[0m\u001b[0;34m\u001b[0m\u001b[0;34m\u001b[0m\u001b[0m\n\u001b[1;32m      5\u001b[0m \u001b[0mX\u001b[0m\u001b[0;34m.\u001b[0m\u001b[0mhead\u001b[0m\u001b[0;34m(\u001b[0m\u001b[0;34m)\u001b[0m\u001b[0;34m\u001b[0m\u001b[0;34m\u001b[0m\u001b[0m\n",
      "\u001b[0;32m/anaconda3/lib/python3.7/site-packages/pandas/core/frame.py\u001b[0m in \u001b[0;36m__getitem__\u001b[0;34m(self, key)\u001b[0m\n\u001b[1;32m   2932\u001b[0m                 \u001b[0mkey\u001b[0m \u001b[0;34m=\u001b[0m \u001b[0mlist\u001b[0m\u001b[0;34m(\u001b[0m\u001b[0mkey\u001b[0m\u001b[0;34m)\u001b[0m\u001b[0;34m\u001b[0m\u001b[0;34m\u001b[0m\u001b[0m\n\u001b[1;32m   2933\u001b[0m             indexer = self.loc._convert_to_indexer(key, axis=1,\n\u001b[0;32m-> 2934\u001b[0;31m                                                    raise_missing=True)\n\u001b[0m\u001b[1;32m   2935\u001b[0m \u001b[0;34m\u001b[0m\u001b[0m\n\u001b[1;32m   2936\u001b[0m         \u001b[0;31m# take() does not accept boolean indexers\u001b[0m\u001b[0;34m\u001b[0m\u001b[0;34m\u001b[0m\u001b[0;34m\u001b[0m\u001b[0m\n",
      "\u001b[0;32m/anaconda3/lib/python3.7/site-packages/pandas/core/indexing.py\u001b[0m in \u001b[0;36m_convert_to_indexer\u001b[0;34m(self, obj, axis, is_setter, raise_missing)\u001b[0m\n\u001b[1;32m   1352\u001b[0m                 kwargs = {'raise_missing': True if is_setter else\n\u001b[1;32m   1353\u001b[0m                           raise_missing}\n\u001b[0;32m-> 1354\u001b[0;31m                 \u001b[0;32mreturn\u001b[0m \u001b[0mself\u001b[0m\u001b[0;34m.\u001b[0m\u001b[0m_get_listlike_indexer\u001b[0m\u001b[0;34m(\u001b[0m\u001b[0mobj\u001b[0m\u001b[0;34m,\u001b[0m \u001b[0maxis\u001b[0m\u001b[0;34m,\u001b[0m \u001b[0;34m**\u001b[0m\u001b[0mkwargs\u001b[0m\u001b[0;34m)\u001b[0m\u001b[0;34m[\u001b[0m\u001b[0;36m1\u001b[0m\u001b[0;34m]\u001b[0m\u001b[0;34m\u001b[0m\u001b[0;34m\u001b[0m\u001b[0m\n\u001b[0m\u001b[1;32m   1355\u001b[0m         \u001b[0;32melse\u001b[0m\u001b[0;34m:\u001b[0m\u001b[0;34m\u001b[0m\u001b[0;34m\u001b[0m\u001b[0m\n\u001b[1;32m   1356\u001b[0m             \u001b[0;32mtry\u001b[0m\u001b[0;34m:\u001b[0m\u001b[0;34m\u001b[0m\u001b[0;34m\u001b[0m\u001b[0m\n",
      "\u001b[0;32m/anaconda3/lib/python3.7/site-packages/pandas/core/indexing.py\u001b[0m in \u001b[0;36m_get_listlike_indexer\u001b[0;34m(self, key, axis, raise_missing)\u001b[0m\n\u001b[1;32m   1159\u001b[0m         self._validate_read_indexer(keyarr, indexer,\n\u001b[1;32m   1160\u001b[0m                                     \u001b[0mo\u001b[0m\u001b[0;34m.\u001b[0m\u001b[0m_get_axis_number\u001b[0m\u001b[0;34m(\u001b[0m\u001b[0maxis\u001b[0m\u001b[0;34m)\u001b[0m\u001b[0;34m,\u001b[0m\u001b[0;34m\u001b[0m\u001b[0;34m\u001b[0m\u001b[0m\n\u001b[0;32m-> 1161\u001b[0;31m                                     raise_missing=raise_missing)\n\u001b[0m\u001b[1;32m   1162\u001b[0m         \u001b[0;32mreturn\u001b[0m \u001b[0mkeyarr\u001b[0m\u001b[0;34m,\u001b[0m \u001b[0mindexer\u001b[0m\u001b[0;34m\u001b[0m\u001b[0;34m\u001b[0m\u001b[0m\n\u001b[1;32m   1163\u001b[0m \u001b[0;34m\u001b[0m\u001b[0m\n",
      "\u001b[0;32m/anaconda3/lib/python3.7/site-packages/pandas/core/indexing.py\u001b[0m in \u001b[0;36m_validate_read_indexer\u001b[0;34m(self, key, indexer, axis, raise_missing)\u001b[0m\n\u001b[1;32m   1250\u001b[0m             \u001b[0;32mif\u001b[0m \u001b[0;32mnot\u001b[0m\u001b[0;34m(\u001b[0m\u001b[0mself\u001b[0m\u001b[0;34m.\u001b[0m\u001b[0mname\u001b[0m \u001b[0;34m==\u001b[0m \u001b[0;34m'loc'\u001b[0m \u001b[0;32mand\u001b[0m \u001b[0;32mnot\u001b[0m \u001b[0mraise_missing\u001b[0m\u001b[0;34m)\u001b[0m\u001b[0;34m:\u001b[0m\u001b[0;34m\u001b[0m\u001b[0;34m\u001b[0m\u001b[0m\n\u001b[1;32m   1251\u001b[0m                 \u001b[0mnot_found\u001b[0m \u001b[0;34m=\u001b[0m \u001b[0mlist\u001b[0m\u001b[0;34m(\u001b[0m\u001b[0mset\u001b[0m\u001b[0;34m(\u001b[0m\u001b[0mkey\u001b[0m\u001b[0;34m)\u001b[0m \u001b[0;34m-\u001b[0m \u001b[0mset\u001b[0m\u001b[0;34m(\u001b[0m\u001b[0max\u001b[0m\u001b[0;34m)\u001b[0m\u001b[0;34m)\u001b[0m\u001b[0;34m\u001b[0m\u001b[0;34m\u001b[0m\u001b[0m\n\u001b[0;32m-> 1252\u001b[0;31m                 \u001b[0;32mraise\u001b[0m \u001b[0mKeyError\u001b[0m\u001b[0;34m(\u001b[0m\u001b[0;34m\"{} not in index\"\u001b[0m\u001b[0;34m.\u001b[0m\u001b[0mformat\u001b[0m\u001b[0;34m(\u001b[0m\u001b[0mnot_found\u001b[0m\u001b[0;34m)\u001b[0m\u001b[0;34m)\u001b[0m\u001b[0;34m\u001b[0m\u001b[0;34m\u001b[0m\u001b[0m\n\u001b[0m\u001b[1;32m   1253\u001b[0m \u001b[0;34m\u001b[0m\u001b[0m\n\u001b[1;32m   1254\u001b[0m             \u001b[0;31m# we skip the warning on Categorical/Interval\u001b[0m\u001b[0;34m\u001b[0m\u001b[0;34m\u001b[0m\u001b[0;34m\u001b[0m\u001b[0m\n",
      "\u001b[0;31mKeyError\u001b[0m: \"['pr_elapsed_time'] not in index\""
     ]
    }
   ],
   "source": [
    "modeling_df = bike_selection_df.dropna()\n",
    "\n",
    "X = modeling_df[['distance','average_grade','elevation_low','pr_elapsed_time']]\n",
    "X.loc[:,'pr_elapsed_time'] = X.loc[:,'pr_elapsed_time'].apply(get_sec)\n",
    "X.head()"
   ]
  },
  {
   "cell_type": "code",
   "execution_count": 938,
   "metadata": {},
   "outputs": [
    {
     "ename": "AttributeError",
     "evalue": "'DataFrame' object has no attribute 'bike_type'",
     "output_type": "error",
     "traceback": [
      "\u001b[0;31m---------------------------------------------------------------------------\u001b[0m",
      "\u001b[0;31mAttributeError\u001b[0m                            Traceback (most recent call last)",
      "\u001b[0;32m<ipython-input-938-7bf69461f093>\u001b[0m in \u001b[0;36m<module>\u001b[0;34m\u001b[0m\n\u001b[0;32m----> 1\u001b[0;31m \u001b[0my\u001b[0m \u001b[0;34m=\u001b[0m \u001b[0mmodeling_df\u001b[0m\u001b[0;34m.\u001b[0m\u001b[0mbike_type\u001b[0m\u001b[0;34m\u001b[0m\u001b[0;34m\u001b[0m\u001b[0m\n\u001b[0m\u001b[1;32m      2\u001b[0m \u001b[0;34m\u001b[0m\u001b[0m\n\u001b[1;32m      3\u001b[0m \u001b[0mX_train\u001b[0m\u001b[0;34m,\u001b[0m \u001b[0mX_test\u001b[0m\u001b[0;34m,\u001b[0m \u001b[0my_train\u001b[0m\u001b[0;34m,\u001b[0m \u001b[0my_test\u001b[0m \u001b[0;34m=\u001b[0m \u001b[0mtrain_test_split\u001b[0m\u001b[0;34m(\u001b[0m\u001b[0mX\u001b[0m\u001b[0;34m,\u001b[0m \u001b[0my\u001b[0m\u001b[0;34m,\u001b[0m \u001b[0mtest_size\u001b[0m\u001b[0;34m=\u001b[0m\u001b[0;36m0.2\u001b[0m\u001b[0;34m,\u001b[0m \u001b[0mrandom_state\u001b[0m\u001b[0;34m=\u001b[0m\u001b[0;36m42\u001b[0m\u001b[0;34m)\u001b[0m\u001b[0;34m\u001b[0m\u001b[0;34m\u001b[0m\u001b[0m\n",
      "\u001b[0;32m/anaconda3/lib/python3.7/site-packages/pandas/core/generic.py\u001b[0m in \u001b[0;36m__getattr__\u001b[0;34m(self, name)\u001b[0m\n\u001b[1;32m   5065\u001b[0m             \u001b[0;32mif\u001b[0m \u001b[0mself\u001b[0m\u001b[0;34m.\u001b[0m\u001b[0m_info_axis\u001b[0m\u001b[0;34m.\u001b[0m\u001b[0m_can_hold_identifiers_and_holds_name\u001b[0m\u001b[0;34m(\u001b[0m\u001b[0mname\u001b[0m\u001b[0;34m)\u001b[0m\u001b[0;34m:\u001b[0m\u001b[0;34m\u001b[0m\u001b[0;34m\u001b[0m\u001b[0m\n\u001b[1;32m   5066\u001b[0m                 \u001b[0;32mreturn\u001b[0m \u001b[0mself\u001b[0m\u001b[0;34m[\u001b[0m\u001b[0mname\u001b[0m\u001b[0;34m]\u001b[0m\u001b[0;34m\u001b[0m\u001b[0;34m\u001b[0m\u001b[0m\n\u001b[0;32m-> 5067\u001b[0;31m             \u001b[0;32mreturn\u001b[0m \u001b[0mobject\u001b[0m\u001b[0;34m.\u001b[0m\u001b[0m__getattribute__\u001b[0m\u001b[0;34m(\u001b[0m\u001b[0mself\u001b[0m\u001b[0;34m,\u001b[0m \u001b[0mname\u001b[0m\u001b[0;34m)\u001b[0m\u001b[0;34m\u001b[0m\u001b[0;34m\u001b[0m\u001b[0m\n\u001b[0m\u001b[1;32m   5068\u001b[0m \u001b[0;34m\u001b[0m\u001b[0m\n\u001b[1;32m   5069\u001b[0m     \u001b[0;32mdef\u001b[0m \u001b[0m__setattr__\u001b[0m\u001b[0;34m(\u001b[0m\u001b[0mself\u001b[0m\u001b[0;34m,\u001b[0m \u001b[0mname\u001b[0m\u001b[0;34m,\u001b[0m \u001b[0mvalue\u001b[0m\u001b[0;34m)\u001b[0m\u001b[0;34m:\u001b[0m\u001b[0;34m\u001b[0m\u001b[0;34m\u001b[0m\u001b[0m\n",
      "\u001b[0;31mAttributeError\u001b[0m: 'DataFrame' object has no attribute 'bike_type'"
     ]
    }
   ],
   "source": [
    "y = modeling_df.\n",
    "\n",
    "X_train, X_test, y_train, y_test = train_test_split(X, y, test_size=0.2, random_state=42)"
   ]
  },
  {
   "cell_type": "code",
   "execution_count": 935,
   "metadata": {},
   "outputs": [],
   "source": [
    "thresholds = np.linspace(0,1,21)"
   ]
  },
  {
   "cell_type": "code",
   "execution_count": 936,
   "metadata": {},
   "outputs": [],
   "source": [
    "# def model_thresholds(mod, xtrain, ytrain, xtest, ytest):\n",
    "#     acc_list = []\n",
    "#     model = mod\n",
    "#     model.fit(xtrain,ytrain)\n",
    "#     for th in thresholds:\n",
    "        "
   ]
  },
  {
   "cell_type": "code",
   "execution_count": 937,
   "metadata": {},
   "outputs": [
    {
     "ename": "NameError",
     "evalue": "name 'X_train' is not defined",
     "output_type": "error",
     "traceback": [
      "\u001b[0;31m---------------------------------------------------------------------------\u001b[0m",
      "\u001b[0;31mNameError\u001b[0m                                 Traceback (most recent call last)",
      "\u001b[0;32m<ipython-input-937-9f3be047aaec>\u001b[0m in \u001b[0;36m<module>\u001b[0;34m\u001b[0m\n\u001b[1;32m      1\u001b[0m \u001b[0mlogistic_acc_list\u001b[0m \u001b[0;34m=\u001b[0m \u001b[0;34m[\u001b[0m\u001b[0;34m]\u001b[0m\u001b[0;34m\u001b[0m\u001b[0;34m\u001b[0m\u001b[0m\n\u001b[1;32m      2\u001b[0m \u001b[0mmodel\u001b[0m \u001b[0;34m=\u001b[0m \u001b[0mLogisticRegression\u001b[0m\u001b[0;34m(\u001b[0m\u001b[0;34m)\u001b[0m\u001b[0;34m\u001b[0m\u001b[0;34m\u001b[0m\u001b[0m\n\u001b[0;32m----> 3\u001b[0;31m \u001b[0mmodel\u001b[0m\u001b[0;34m.\u001b[0m\u001b[0mfit\u001b[0m\u001b[0;34m(\u001b[0m\u001b[0mX_train\u001b[0m\u001b[0;34m,\u001b[0m \u001b[0my_train\u001b[0m\u001b[0;34m)\u001b[0m\u001b[0;34m\u001b[0m\u001b[0;34m\u001b[0m\u001b[0m\n\u001b[0m\u001b[1;32m      4\u001b[0m \u001b[0my_hat_probs\u001b[0m \u001b[0;34m=\u001b[0m \u001b[0mmodel\u001b[0m\u001b[0;34m.\u001b[0m\u001b[0mpredict_proba\u001b[0m\u001b[0;34m(\u001b[0m\u001b[0mX_test\u001b[0m\u001b[0;34m)\u001b[0m\u001b[0;34m[\u001b[0m\u001b[0;34m:\u001b[0m\u001b[0;34m,\u001b[0m\u001b[0;36m1\u001b[0m\u001b[0;34m]\u001b[0m\u001b[0;34m\u001b[0m\u001b[0;34m\u001b[0m\u001b[0m\n\u001b[1;32m      5\u001b[0m \u001b[0;32mfor\u001b[0m \u001b[0mth\u001b[0m \u001b[0;32min\u001b[0m \u001b[0mthresholds\u001b[0m\u001b[0;34m:\u001b[0m\u001b[0;34m\u001b[0m\u001b[0;34m\u001b[0m\u001b[0m\n",
      "\u001b[0;31mNameError\u001b[0m: name 'X_train' is not defined"
     ]
    }
   ],
   "source": [
    "logistic_acc_list = []\n",
    "model = LogisticRegression()\n",
    "model.fit(X_train, y_train)\n",
    "y_hat_probs = model.predict_proba(X_test)[:,1]\n",
    "for th in thresholds:\n",
    "    yhat = np.where(y_hat_probs > th, 1, 0)\n",
    "    logistic_acc_list.append(np.mean(np.where(yhat == y_test,1,0)))"
   ]
  },
  {
   "cell_type": "code",
   "execution_count": 119,
   "metadata": {},
   "outputs": [],
   "source": [
    "linear_acc_list = []\n",
    "model = LinearRegression()\n",
    "model.fit(X_train, y_train)\n",
    "y_hat_probs = model.predict(X_test)\n",
    "for th in thresholds:\n",
    "    yhat = np.where(y_hat_probs > th, 1, 0)\n",
    "    linear_acc_list.append(np.mean(np.where(yhat == y_test,1,0)))"
   ]
  },
  {
   "cell_type": "code",
   "execution_count": 120,
   "metadata": {},
   "outputs": [
    {
     "data": {
      "image/png": "[encoded data removed]",
      "text/plain": [
       "<Figure size 432x288 with 1 Axes>"
      ]
     },
     "metadata": {
      "needs_background": "light"
     },
     "output_type": "display_data"
    }
   ],
   "source": [
    "fig, ax = plt.subplots()\n",
    "\n",
    "ax.plot(thresholds,linear_acc_list, label = 'Linear Model')\n",
    "ax.plot(thresholds,logistic_acc_list, label = 'Logistic Model')\n",
    "ax.legend()\n",
    "ax.set_xlabel('Threshold')\n",
    "ax.set_ylabel('Accuracy')\n",
    "ax.set_title('Modeled Accuracy vs. Threshold');"
   ]
  },
  {
   "cell_type": "code",
   "execution_count": 121,
   "metadata": {},
   "outputs": [
    {
     "name": "stderr",
     "output_type": "stream",
     "text": [
      "/anaconda3/lib/python3.7/site-packages/sklearn/linear_model/logistic.py:433: FutureWarning: Default solver will be changed to 'lbfgs' in 0.22. Specify a solver to silence this warning.\n",
      "  FutureWarning)\n"
     ]
    }
   ],
   "source": [
    "model = LogisticRegression()\n",
    "model.fit(X_train, y_train)\n",
    "y_hat_probs = model.predict_proba(X_test)[:,1]\n",
    "yhat = np.where(y_hat_probs > .5, 1, 0)"
   ]
  },
  {
   "cell_type": "code",
   "execution_count": 429,
   "metadata": {},
   "outputs": [],
   "source": [
    "from sklearn.metrics import confusion_matrix\n",
    "from sklearn.utils.multiclass import unique_labels\n",
    "\n",
    "def plot_confusion_matrix(y_true, y_pred, classes, ax,\n",
    "                          normalize=False,\n",
    "                          title=None,\n",
    "                          cmap=plt.cm.Blues):\n",
    "    \"\"\"\n",
    "    This function prints and plots the confusion matrix.\n",
    "    Normalization can be applied by setting `normalize=True`.\n",
    "    \"\"\"\n",
    "    if not title:\n",
    "        if normalize:\n",
    "            title = 'Normalized confusion matrix'\n",
    "        else:\n",
    "            title = 'Confusion matrix, without normalization'\n",
    "\n",
    "    # Compute confusion matrix\n",
    "    cm = confusion_matrix(y_true, y_pred)\n",
    "    # Only use the labels that appear in the data\n",
    "    #classes = classes[unique_labels(y_true, y_pred)]\n",
    "    if normalize:\n",
    "        cm = cm.astype('float') / cm.sum(axis=1)[:, np.newaxis]\n",
    "        print(\"Normalized confusion matrix\")\n",
    "    else:\n",
    "        print('Confusion matrix, without normalization')\n",
    "\n",
    "    print(cm)\n",
    "\n",
    "    #fig, ax = plt.subplots() \n",
    "    fig = plt.subplots()[0] \n",
    "    im = ax.imshow(cm, interpolation='nearest', cmap=cmap)\n",
    "    ax.figure.colorbar(im, ax=ax)\n",
    "    # We want to show all ticks...\n",
    "    ax.set(xticks=np.arange(cm.shape[1]),\n",
    "           yticks=np.arange(cm.shape[0]),\n",
    "           # ... and label them with the respective list entries\n",
    "           xticklabels=classes, yticklabels=classes,\n",
    "           title=title,\n",
    "           ylabel='True label',\n",
    "           xlabel='Predicted label')\n",
    "\n",
    "    # Rotate the tick labels and set their alignment.\n",
    "    plt.setp(ax.get_xticklabels(), rotation=45, ha=\"right\",\n",
    "             rotation_mode=\"anchor\")\n",
    "\n",
    "    # Loop over data dimensions and create text annotations.\n",
    "    fmt = '.2f' if normalize else 'd'\n",
    "    thresh = cm.max() / 2.\n",
    "    for i in range(cm.shape[0]):\n",
    "        for j in range(cm.shape[1]):\n",
    "            ax.text(j, i, format(cm[i, j], fmt),\n",
    "                    ha=\"center\", va=\"center\",\n",
    "                    color=\"white\" if cm[i, j] > thresh else \"black\")\n",
    "    #fig.tight_layout()\n",
    "    return ax"
   ]
  },
  {
   "cell_type": "code",
   "execution_count": 430,
   "metadata": {},
   "outputs": [
    {
     "ename": "NameError",
     "evalue": "name 'y_test' is not defined",
     "output_type": "error",
     "traceback": [
      "\u001b[0;31m---------------------------------------------------------------------------\u001b[0m",
      "\u001b[0;31mNameError\u001b[0m                                 Traceback (most recent call last)",
      "\u001b[0;32m<ipython-input-430-be317130522e>\u001b[0m in \u001b[0;36m<module>\u001b[0;34m\u001b[0m\n\u001b[1;32m      4\u001b[0m \u001b[0mfig\u001b[0m\u001b[0;34m.\u001b[0m\u001b[0msuptitle\u001b[0m\u001b[0;34m(\u001b[0m\u001b[0;34m'Segment Type Prediction Performance'\u001b[0m\u001b[0;34m)\u001b[0m\u001b[0;34m\u001b[0m\u001b[0;34m\u001b[0m\u001b[0m\n\u001b[1;32m      5\u001b[0m \u001b[0;34m\u001b[0m\u001b[0m\n\u001b[0;32m----> 6\u001b[0;31m plot_confusion_matrix(y_test, yhat, class_names, ax[0],\n\u001b[0m\u001b[1;32m      7\u001b[0m                               \u001b[0mnormalize\u001b[0m\u001b[0;34m=\u001b[0m\u001b[0;32mFalse\u001b[0m\u001b[0;34m,\u001b[0m\u001b[0;34m\u001b[0m\u001b[0;34m\u001b[0m\u001b[0m\n\u001b[1;32m      8\u001b[0m                               \u001b[0mtitle\u001b[0m\u001b[0;34m=\u001b[0m\u001b[0;32mNone\u001b[0m\u001b[0;34m,\u001b[0m\u001b[0;34m\u001b[0m\u001b[0;34m\u001b[0m\u001b[0m\n",
      "\u001b[0;31mNameError\u001b[0m: name 'y_test' is not defined"
     ]
    },
    {
     "data": {
      "image/png": "[encoded data removed]",
      "text/plain": [
       "<Figure size 1152x432 with 2 Axes>"
      ]
     },
     "metadata": {
      "needs_background": "light"
     },
     "output_type": "display_data"
    }
   ],
   "source": [
    "class_names = ['Road','Mountain']\n",
    "fig, ax = plt.subplots(1,2, figsize = (16,6))\n",
    "\n",
    "fig.suptitle('Segment Type Prediction Performance')\n",
    "\n",
    "plot_confusion_matrix(y_test, yhat, class_names, ax[0],\n",
    "                              normalize=False,\n",
    "                              title=None,\n",
    "                              cmap=plt.cm.Blues)\n",
    "plot_confusion_matrix(y_test, yhat, class_names, ax[1],\n",
    "                              normalize=True,\n",
    "                              title=None,\n",
    "                              cmap=plt.cm.Blues)\n",
    "    \n",
    "    \n",
    "fig.tight_layout()\n",
    "#ax[0].plot()\n",
    ";"
   ]
  },
  {
   "cell_type": "code",
   "execution_count": 358,
   "metadata": {},
   "outputs": [],
   "source": [
    "from sklearn import svm, datasets\n",
    "iris = datasets.load_iris()\n",
    "X = iris.data\n",
    "y = iris.target\n",
    "class_names = iris.target_names"
   ]
  },
  {
   "cell_type": "code",
   "execution_count": 362,
   "metadata": {},
   "outputs": [
    {
     "data": {
      "text/plain": [
       "array(['setosa', 'versicolor'], dtype='<U10')"
      ]
     },
     "execution_count": 362,
     "metadata": {},
     "output_type": "execute_result"
    }
   ],
   "source": [
    "class_names[:2]"
   ]
  },
  {
   "cell_type": "code",
   "execution_count": null,
   "metadata": {},
   "outputs": [],
   "source": []
  },
  {
   "cell_type": "code",
   "execution_count": null,
   "metadata": {},
   "outputs": [],
   "source": []
  }
 ],
 "metadata": {
  "kernelspec": {
   "display_name": "Python 3",
   "language": "python",
   "name": "python3"
  },
  "language_info": {
   "codemirror_mode": {
    "name": "ipython",
    "version": 3
   },
   "file_extension": ".py",
   "mimetype": "text/x-python",
   "name": "python",
   "nbconvert_exporter": "python",
   "pygments_lexer": "ipython3",
   "version": "3.7.3"
  }
 },
 "nbformat": 4,
 "nbformat_minor": 2
}
