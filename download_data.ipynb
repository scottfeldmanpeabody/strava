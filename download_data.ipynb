{
 "cells": [
  {
   "cell_type": "code",
   "execution_count": 1,
   "metadata": {},
   "outputs": [
    {
     "name": "stdout",
     "output_type": "stream",
     "text": [
      "loaded StavaAthelete as ah\n"
     ]
    }
   ],
   "source": [
    "from src.get_strava_data import StravaAthlete\n",
    "\n",
    "ah = StravaAthlete(token = 'e77ac7ec8528cd10caeb65833f3d5c08137cd271')\n",
    "print('loaded StavaAthelete as ah')"
   ]
  },
  {
   "cell_type": "code",
   "execution_count": 2,
   "metadata": {},
   "outputs": [
    {
     "name": "stdout",
     "output_type": "stream",
     "text": [
      "In strava directory.\n",
      "Data for Al_Head to be stored in data/Al_Head\n"
     ]
    }
   ],
   "source": [
    "ah.check_directories()"
   ]
  },
  {
   "cell_type": "code",
   "execution_count": 3,
   "metadata": {},
   "outputs": [
    {
     "name": "stdout",
     "output_type": "stream",
     "text": [
      "In strava directory.\n",
      "data/Al_Head directory already exists\n",
      "ath_df successfully loaded\n",
      "Al Head added to ath_df\n",
      "ath_df saved to data/athletes.csv\n"
     ]
    }
   ],
   "source": [
    "ah.add_athlete()"
   ]
  },
  {
   "cell_type": "code",
   "execution_count": 4,
   "metadata": {},
   "outputs": [
    {
     "data": {
      "text/html": [
       "<div>\n",
       "<style scoped>\n",
       "    .dataframe tbody tr th:only-of-type {\n",
       "        vertical-align: middle;\n",
       "    }\n",
       "\n",
       "    .dataframe tbody tr th {\n",
       "        vertical-align: top;\n",
       "    }\n",
       "\n",
       "    .dataframe thead th {\n",
       "        text-align: right;\n",
       "    }\n",
       "</style>\n",
       "<table border=\"1\" class=\"dataframe\">\n",
       "  <thead>\n",
       "    <tr style=\"text-align: right;\">\n",
       "      <th></th>\n",
       "      <th>firstname</th>\n",
       "      <th>lastname</th>\n",
       "      <th>city</th>\n",
       "      <th>state</th>\n",
       "    </tr>\n",
       "  </thead>\n",
       "  <tbody>\n",
       "    <tr>\n",
       "      <th>0</th>\n",
       "      <td>Feldy</td>\n",
       "      <td>Bikes</td>\n",
       "      <td>Golden</td>\n",
       "      <td>CO</td>\n",
       "    </tr>\n",
       "    <tr>\n",
       "      <th>1</th>\n",
       "      <td>Karyn</td>\n",
       "      <td>Peabody</td>\n",
       "      <td>Golden</td>\n",
       "      <td>CO</td>\n",
       "    </tr>\n",
       "    <tr>\n",
       "      <th>2</th>\n",
       "      <td>Al</td>\n",
       "      <td>Head</td>\n",
       "      <td>Golden</td>\n",
       "      <td>CO</td>\n",
       "    </tr>\n",
       "  </tbody>\n",
       "</table>\n",
       "</div>"
      ],
      "text/plain": [
       "  firstname lastname    city state\n",
       "0     Feldy    Bikes  Golden    CO\n",
       "1     Karyn  Peabody  Golden    CO\n",
       "2        Al     Head  Golden    CO"
      ]
     },
     "execution_count": 4,
     "metadata": {},
     "output_type": "execute_result"
    }
   ],
   "source": [
    "import pandas as pd\n",
    "pd.read_csv('data/athletes.csv')"
   ]
  },
  {
   "cell_type": "code",
   "execution_count": 5,
   "metadata": {},
   "outputs": [
    {
     "name": "stdout",
     "output_type": "stream",
     "text": [
      "In strava directory.\n",
      "Data for Al_Head to be stored in data/Al_Head\n",
      "ride_ids.csv successfully loaded.\n"
     ]
    }
   ],
   "source": [
    "ah.get_rides()"
   ]
  },
  {
   "cell_type": "code",
   "execution_count": 6,
   "metadata": {},
   "outputs": [
    {
     "name": "stdout",
     "output_type": "stream",
     "text": [
      "In strava directory.\n",
      "Data for Al_Head to be stored in data/Al_Head\n",
      "ride_ids.csv successfully loaded.\n"
     ]
    }
   ],
   "source": [
    "ah.get_rides()"
   ]
  },
  {
   "cell_type": "code",
   "execution_count": 7,
   "metadata": {},
   "outputs": [
    {
     "name": "stdout",
     "output_type": "stream",
     "text": [
      "In strava directory.\n",
      "Data for Al_Head to be stored in data/Al_Head\n",
      "segments_df successfully loaded\n"
     ]
    }
   ],
   "source": [
    "ah.get_segments()"
   ]
  },
  {
   "cell_type": "code",
   "execution_count": 8,
   "metadata": {},
   "outputs": [
    {
     "data": {
      "text/plain": [
       "(33678, 10)"
      ]
     },
     "execution_count": 8,
     "metadata": {},
     "output_type": "execute_result"
    }
   ],
   "source": [
    "ah.segments_df.shape"
   ]
  },
  {
   "cell_type": "code",
   "execution_count": null,
   "metadata": {},
   "outputs": [
    {
     "name": "stdout",
     "output_type": "stream",
     "text": [
      "In strava directory.\n",
      "Data for Al_Head to be stored in data/Al_Head\n",
      "Appending to existing efforts df.\n",
      "remaining segments to get efforts for: 3973\n",
      "Last segment downloaded: 2634019 South end climb\n",
      "It is 14:54. Efforts for 50 segments downloaded. 3923 segments to go...\n",
      "Last segment downloaded: 2753187 Dino Sauris\n",
      "It is 14:54. Efforts for 100 segments downloaded. 3873 segments to go...\n",
      "Last segment downloaded: 3005119 Nelson Summit to Bench CCW\n",
      "It is 14:55. Efforts for 150 segments downloaded. 3823 segments to go...\n",
      "Last segment downloaded: 3445989 Pillars to Chimney Gulch Trail crossing\n",
      "It is 14:55. Efforts for 200 segments downloaded. 3773 segments to go...\n",
      "Last segment downloaded: 3648846 EnduroCross Lap\n",
      "It is 14:56. Efforts for 250 segments downloaded. 3723 segments to go...\n",
      "Last segment downloaded: 3817850 Buff Creek Quick Loop\n",
      "It is 14:56. Efforts for 300 segments downloaded. 3673 segments to go...\n",
      "Last segment downloaded: 3972850 Burn It 2.0\n",
      "It is 14:56. Efforts for 350 segments downloaded. 3623 segments to go...\n",
      "efforts_df.csv successfully saved.\n",
      "Rate limit exceeded, need to wait 15 minutes\n",
      "It is now 56 minutes after the hour\n"
     ]
    }
   ],
   "source": [
    "ah.get_efforts()"
   ]
  },
  {
   "cell_type": "code",
   "execution_count": 16,
   "metadata": {},
   "outputs": [
    {
     "data": {
      "text/plain": [
       "(7476, 8)"
      ]
     },
     "execution_count": 16,
     "metadata": {},
     "output_type": "execute_result"
    }
   ],
   "source": [
    "ah.efforts_df.shape"
   ]
  },
  {
   "cell_type": "code",
   "execution_count": 17,
   "metadata": {},
   "outputs": [],
   "source": [
    "ah.efforts_df.to_csv('data/Al_Head/efforts_df2.csv', index=False)"
   ]
  },
  {
   "cell_type": "code",
   "execution_count": 11,
   "metadata": {},
   "outputs": [],
   "source": [
    "import pandas as pd\n",
    "ah.efforts_df = pd.read_csv('data/Al_Head/efforts_df2.csv')"
   ]
  },
  {
   "cell_type": "code",
   "execution_count": 30,
   "metadata": {},
   "outputs": [
    {
     "data": {
      "text/plain": [
       "(4794, 8)"
      ]
     },
     "execution_count": 30,
     "metadata": {},
     "output_type": "execute_result"
    }
   ],
   "source": [
    "df.shape"
   ]
  },
  {
   "cell_type": "code",
   "execution_count": null,
   "metadata": {},
   "outputs": [],
   "source": []
  }
 ],
 "metadata": {
  "kernelspec": {
   "display_name": "Python 3",
   "language": "python",
   "name": "python3"
  },
  "language_info": {
   "codemirror_mode": {
    "name": "ipython",
    "version": 3
   },
   "file_extension": ".py",
   "mimetype": "text/x-python",
   "name": "python",
   "nbconvert_exporter": "python",
   "pygments_lexer": "ipython3",
   "version": "3.7.3"
  }
 },
 "nbformat": 4,
 "nbformat_minor": 2
}
